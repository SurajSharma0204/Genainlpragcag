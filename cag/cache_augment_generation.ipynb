{
 "cells": [
  {
   "cell_type": "code",
   "execution_count": 1,
   "metadata": {},
   "outputs": [],
   "source": [
    "import os\n",
    "os.environ[\"GROQ_API_KEY\"] = os.getenv(\"GROQ_API_KEY\")"
   ]
  },
  {
   "cell_type": "code",
   "execution_count": 6,
   "metadata": {},
   "outputs": [],
   "source": [
    "from langchain_groq import ChatGroq\n",
    "llm = ChatGroq(model=\"llama3-70b-8192\",api_key=\"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\")"
   ]
  },
  {
   "cell_type": "code",
   "execution_count": 7,
   "metadata": {},
   "outputs": [],
   "source": [
    "# Wrap with cache\n",
    "Model_Cache = {}"
   ]
  },
  {
   "cell_type": "code",
   "execution_count": 8,
   "metadata": {},
   "outputs": [],
   "source": [
    "import time\n",
    "def cached_model(query):\n",
    "    start_time = time.time()\n",
    "    if Model_Cache.get(query):\n",
    "        print(\"***CACHE HIT***\")\n",
    "        end_time = time.time()\n",
    "        elapsed = end_time - start_time\n",
    "        print(f\"EXECUTION TIME: {elapsed:.2f} seconds\")\n",
    "        return Model_Cache.get(query)\n",
    "    else:\n",
    "        print(\"***CACHE MISS – EXECUTING MODEL***\")\n",
    "        start_time = time.time()\n",
    "        response = llm.invoke(query)\n",
    "        end_time = time.time()\n",
    "        elapsed = end_time - start_time\n",
    "        print(f\"EXECUTION TIME: {elapsed:.2f} seconds\")\n",
    "        Model_Cache[query] = response\n",
    "        return response"
   ]
  },
  {
   "cell_type": "code",
   "execution_count": 9,
   "metadata": {},
   "outputs": [
    {
     "name": "stdout",
     "output_type": "stream",
     "text": [
      "***CACHE MISS – EXECUTING MODEL***\n",
      "EXECUTION TIME: 0.42 seconds\n",
      "content=\"Hi! It's nice to meet you. Is there something I can help you with or would you like to chat?\" additional_kwargs={} response_metadata={'token_usage': {'completion_tokens': 25, 'prompt_tokens': 11, 'total_tokens': 36, 'completion_time': 0.071428571, 'prompt_time': 0.00013006, 'queue_time': 0.055086678, 'total_time': 0.071558631}, 'model_name': 'llama3-70b-8192', 'system_fingerprint': 'fp_dd4ae1c591', 'finish_reason': 'stop', 'logprobs': None} id='run--7dddf4a0-a573-449a-8cb8-f2ca0926f83e-0' usage_metadata={'input_tokens': 11, 'output_tokens': 25, 'total_tokens': 36}\n"
     ]
    }
   ],
   "source": [
    "query=\"hi\"\n",
    "response = cached_model(query)\n",
    "print(response)"
   ]
  },
  {
   "cell_type": "code",
   "execution_count": 10,
   "metadata": {},
   "outputs": [
    {
     "name": "stdout",
     "output_type": "stream",
     "text": [
      "***CACHE HIT***\n",
      "EXECUTION TIME: 0.00 seconds\n",
      "content=\"Hi! It's nice to meet you. Is there something I can help you with or would you like to chat?\" additional_kwargs={} response_metadata={'token_usage': {'completion_tokens': 25, 'prompt_tokens': 11, 'total_tokens': 36, 'completion_time': 0.071428571, 'prompt_time': 0.00013006, 'queue_time': 0.055086678, 'total_time': 0.071558631}, 'model_name': 'llama3-70b-8192', 'system_fingerprint': 'fp_dd4ae1c591', 'finish_reason': 'stop', 'logprobs': None} id='run--7dddf4a0-a573-449a-8cb8-f2ca0926f83e-0' usage_metadata={'input_tokens': 11, 'output_tokens': 25, 'total_tokens': 36}\n"
     ]
    }
   ],
   "source": [
    "query=\"hi\"\n",
    "response = cached_model(query)\n",
    "print(response)"
   ]
  },
  {
   "cell_type": "code",
   "execution_count": 11,
   "metadata": {},
   "outputs": [
    {
     "name": "stdout",
     "output_type": "stream",
     "text": [
      "***CACHE MISS – EXECUTING MODEL***\n",
      "EXECUTION TIME: 4.18 seconds\n",
      "content=\"Here is a 1000-word essay on independence:\\n\\nIndependence: The Backbone of a Nation\\n\\nThe concept of independence has been debated, fought for, and celebrated for centuries. It is a fundamental right that every individual and nation strives to achieve. Independence is not just a word; it is a way of life, a feeling of freedom, and a sense of self-governance. It is the ability to make one's own decisions, to chart one's own course, and to determine one's own destiny. Independence is the backbone of a nation, and it is the foundation upon which a country's prosperity, growth, and development are built.\\n\\nThe struggle for independence has been a common thread throughout history. From the American Revolution to the Indian freedom movement, nations have fought against colonial and imperial powers to gain their independence. The desire for independence is a fundamental human instinct, and it is this desire that drives individuals and nations to fight for their freedom. The struggle for independence is not just a physical battle; it is also a mental and emotional struggle. It is a struggle against oppression, against tyranny, and against exploitation.\\n\\nIndependence is not just about gaining freedom from colonial or imperial powers. It is also about gaining freedom from internal oppression, from poverty, from hunger, and from inequality. Independence is about creating a society that is just, equitable, and prosperous. It is about creating a society that is free from fear, from violence, and from discrimination. Independence is about creating a society that is based on the principles of democracy, equality, and justice.\\n\\nThe importance of independence cannot be overstated. It is the foundation upon which a nation's sovereignty is built. Without independence, a nation is not able to make its own decisions, to chart its own course, or to determine its own destiny. Independence gives a nation the freedom to make its own choices, to try new things, and to innovate. It gives a nation the freedom to adapt to changing circumstances, to respond to new challenges, and to overcome obstacles.\\n\\nIndependence is also essential for a nation's dignity and self-respect. When a nation is independent, it is able to hold its head high, to walk tall, and to command the respect of other nations. Independence gives a nation the confidence to assert its own identity, to express its own culture, and to promote its own interests. Independence is a symbol of a nation's strength, its resilience, and its determination.\\n\\nIndependence is not just important for nations; it is also important for individuals. Independence gives individuals the freedom to make their own choices, to pursue their own dreams, and to achieve their own goals. It gives individuals the freedom to innovate, to create, and to experiment. Independence gives individuals the freedom to express themselves, to think for themselves, and to act for themselves. It gives individuals the freedom to be who they are, to do what they want, and to become what they aspire to be.\\n\\nIn addition to its importance, independence is also a symbol of a nation's maturity. When a nation gains independence, it is a sign that it has come of age, that it is ready to take its place on the world stage, and that it is ready to assume its responsibilities. Independence is a symbol of a nation's growth, its progress, and its development.\\n\\nHowever, independence is not without its challenges. It requires a nation to be responsible, to be accountable, and to be transparent. It requires a nation to have a strong and effective government, a robust economy, and a vibrant civil society. Independence requires a nation to be placed on the shoulders of its citizens, and it requires citizens to be active, engaged, and participatory.\\n\\nFurthermore, independence is not absolute, and it is not a static concept. It is a dynamic and evolving concept that changes with time, with circumstances, and with context. Independence must be constantly nurtured, constantly protected, and constantly promoted. It must be adapted to changing circumstances, and it must be responsive to new opportunities.\\n\\nIn conclusion, independence is the backbone of a nation. It is the foundation upon which a nation's sovereignty, dignity, and self-respect are built. It is the symbol of a nation's strength, its resilience, and its determination. Independence is not just important for nations; it is also important for individuals. It gives individuals the freedom to make their own choices, to pursue their own dreams, and to achieve their own goals. Independence is a dynamic and constantly changing concept that must be constantly nurtured, protected, and promoted. It is the key to a nation's prosperity, growth, and development, and it is the foundation upon which a nation's future is built.\\n\\nIn addition, independence is a crucial aspect of human life. It is the foundation of human dignity, and it is the basis of human freedom. Human beings have an innate desire to be free, to make their own choices, and to live their own lives. It is the essence of human nature, and it is the driving force behind human progress.\\n\\nMoreover, independence is not limited to political independence. It also encompasses economic independence, social independence, and cultural independence. It is the ability of a nation or an individual to be self-sufficient, to be self-reliant, and to be self-sustaining. It is the ability to stand on one's own feet, to walk on one's own path, and to run one's own race.\\n\\nIn the modern world, independence is facing many challenges. Globalization, imperialism, and cultural homogenization are threatening the independence of nations and individuals. The rise of multinational corporations, the growth of international institutions, and the increasing interdependence of nations are also eroding the independence of nations. Furthermore, the increasing threat of terrorism, the rise of extremism, and the proliferation of weapons of mass destruction are also posing a significant threat to independence. Therefore, it is essential to promote, to protect, and to promote independence in all its forms and manifestations.\\n\\nIn the final analysis, independence is a fundamental human right, and it is the cornerstone of human dignity, human freedom, and human progress. It is the foundation upon which human society, human civilization, and human culture are built. It is the driving force behind human innovation, human creativity, and human achievement. Therefore, it is essential to promote, to protect, and to preserve independence in all its forms and manifestations.\\n\\nIn conclusion, independence is a vital and essential concept that is crucial for human dignity, human freedom, and human prosperity. It is the backbone of a nation, and it is the foundation upon which a nation's sovereignty, and self-respect are built. It is the symbol of a nation's strength, its resilience, and its determination. Independence is a dynamic and constantly changing concept that must be constantly nurtured, constantly protected, and constantly promoted. Therefore, it is essential to promote, to protect, and to preserve independence in all its forms and manifestations.\" additional_kwargs={} response_metadata={'token_usage': {'completion_tokens': 1403, 'prompt_tokens': 22, 'total_tokens': 1425, 'completion_time': 4.008571429, 'prompt_time': 0.000650458, 'queue_time': 0.059400162, 'total_time': 4.009221887}, 'model_name': 'llama3-70b-8192', 'system_fingerprint': 'fp_dd4ae1c591', 'finish_reason': 'stop', 'logprobs': None} id='run--bfb454c4-25a4-4d90-95c1-5a28682e286e-0' usage_metadata={'input_tokens': 22, 'output_tokens': 1403, 'total_tokens': 1425}\n"
     ]
    }
   ],
   "source": [
    "query=\"can you give me 1000 words essay on independence?\"\n",
    "response = cached_model(query)\n",
    "print(response)"
   ]
  },
  {
   "cell_type": "code",
   "execution_count": 13,
   "metadata": {},
   "outputs": [
    {
     "name": "stdout",
     "output_type": "stream",
     "text": [
      "***CACHE HIT***\n",
      "EXECUTION TIME: 0.00 seconds\n",
      "content=\"Here is a 1000-word essay on independence:\\n\\nIndependence: The Backbone of a Nation\\n\\nThe concept of independence has been debated, fought for, and celebrated for centuries. It is a fundamental right that every individual and nation strives to achieve. Independence is not just a word; it is a way of life, a feeling of freedom, and a sense of self-governance. It is the ability to make one's own decisions, to chart one's own course, and to determine one's own destiny. Independence is the backbone of a nation, and it is the foundation upon which a country's prosperity, growth, and development are built.\\n\\nThe struggle for independence has been a common thread throughout history. From the American Revolution to the Indian freedom movement, nations have fought against colonial and imperial powers to gain their independence. The desire for independence is a fundamental human instinct, and it is this desire that drives individuals and nations to fight for their freedom. The struggle for independence is not just a physical battle; it is also a mental and emotional struggle. It is a struggle against oppression, against tyranny, and against exploitation.\\n\\nIndependence is not just about gaining freedom from colonial or imperial powers. It is also about gaining freedom from internal oppression, from poverty, from hunger, and from inequality. Independence is about creating a society that is just, equitable, and prosperous. It is about creating a society that is free from fear, from violence, and from discrimination. Independence is about creating a society that is based on the principles of democracy, equality, and justice.\\n\\nThe importance of independence cannot be overstated. It is the foundation upon which a nation's sovereignty is built. Without independence, a nation is not able to make its own decisions, to chart its own course, or to determine its own destiny. Independence gives a nation the freedom to make its own choices, to try new things, and to innovate. It gives a nation the freedom to adapt to changing circumstances, to respond to new challenges, and to overcome obstacles.\\n\\nIndependence is also essential for a nation's dignity and self-respect. When a nation is independent, it is able to hold its head high, to walk tall, and to command the respect of other nations. Independence gives a nation the confidence to assert its own identity, to express its own culture, and to promote its own interests. Independence is a symbol of a nation's strength, its resilience, and its determination.\\n\\nIndependence is not just important for nations; it is also important for individuals. Independence gives individuals the freedom to make their own choices, to pursue their own dreams, and to achieve their own goals. It gives individuals the freedom to innovate, to create, and to experiment. Independence gives individuals the freedom to express themselves, to think for themselves, and to act for themselves. It gives individuals the freedom to be who they are, to do what they want, and to become what they aspire to be.\\n\\nIn addition to its importance, independence is also a symbol of a nation's maturity. When a nation gains independence, it is a sign that it has come of age, that it is ready to take its place on the world stage, and that it is ready to assume its responsibilities. Independence is a symbol of a nation's growth, its progress, and its development.\\n\\nHowever, independence is not without its challenges. It requires a nation to be responsible, to be accountable, and to be transparent. It requires a nation to have a strong and effective government, a robust economy, and a vibrant civil society. Independence requires a nation to be placed on the shoulders of its citizens, and it requires citizens to be active, engaged, and participatory.\\n\\nFurthermore, independence is not absolute, and it is not a static concept. It is a dynamic and evolving concept that changes with time, with circumstances, and with context. Independence must be constantly nurtured, constantly protected, and constantly promoted. It must be adapted to changing circumstances, and it must be responsive to new opportunities.\\n\\nIn conclusion, independence is the backbone of a nation. It is the foundation upon which a nation's sovereignty, dignity, and self-respect are built. It is the symbol of a nation's strength, its resilience, and its determination. Independence is not just important for nations; it is also important for individuals. It gives individuals the freedom to make their own choices, to pursue their own dreams, and to achieve their own goals. Independence is a dynamic and constantly changing concept that must be constantly nurtured, protected, and promoted. It is the key to a nation's prosperity, growth, and development, and it is the foundation upon which a nation's future is built.\\n\\nIn addition, independence is a crucial aspect of human life. It is the foundation of human dignity, and it is the basis of human freedom. Human beings have an innate desire to be free, to make their own choices, and to live their own lives. It is the essence of human nature, and it is the driving force behind human progress.\\n\\nMoreover, independence is not limited to political independence. It also encompasses economic independence, social independence, and cultural independence. It is the ability of a nation or an individual to be self-sufficient, to be self-reliant, and to be self-sustaining. It is the ability to stand on one's own feet, to walk on one's own path, and to run one's own race.\\n\\nIn the modern world, independence is facing many challenges. Globalization, imperialism, and cultural homogenization are threatening the independence of nations and individuals. The rise of multinational corporations, the growth of international institutions, and the increasing interdependence of nations are also eroding the independence of nations. Furthermore, the increasing threat of terrorism, the rise of extremism, and the proliferation of weapons of mass destruction are also posing a significant threat to independence. Therefore, it is essential to promote, to protect, and to promote independence in all its forms and manifestations.\\n\\nIn the final analysis, independence is a fundamental human right, and it is the cornerstone of human dignity, human freedom, and human progress. It is the foundation upon which human society, human civilization, and human culture are built. It is the driving force behind human innovation, human creativity, and human achievement. Therefore, it is essential to promote, to protect, and to preserve independence in all its forms and manifestations.\\n\\nIn conclusion, independence is a vital and essential concept that is crucial for human dignity, human freedom, and human prosperity. It is the backbone of a nation, and it is the foundation upon which a nation's sovereignty, and self-respect are built. It is the symbol of a nation's strength, its resilience, and its determination. Independence is a dynamic and constantly changing concept that must be constantly nurtured, constantly protected, and constantly promoted. Therefore, it is essential to promote, to protect, and to preserve independence in all its forms and manifestations.\" additional_kwargs={} response_metadata={'token_usage': {'completion_tokens': 1403, 'prompt_tokens': 22, 'total_tokens': 1425, 'completion_time': 4.008571429, 'prompt_time': 0.000650458, 'queue_time': 0.059400162, 'total_time': 4.009221887}, 'model_name': 'llama3-70b-8192', 'system_fingerprint': 'fp_dd4ae1c591', 'finish_reason': 'stop', 'logprobs': None} id='run--bfb454c4-25a4-4d90-95c1-5a28682e286e-0' usage_metadata={'input_tokens': 22, 'output_tokens': 1403, 'total_tokens': 1425}\n"
     ]
    }
   ],
   "source": [
    "query=\"can you give me 1000 words essay on independence?\"\n",
    "response = cached_model(query)\n",
    "print(response)"
   ]
  },
  {
   "cell_type": "code",
   "execution_count": 14,
   "metadata": {},
   "outputs": [
    {
     "name": "stdout",
     "output_type": "stream",
     "text": [
      "***CACHE MISS – EXECUTING MODEL***\n"
     ]
    },
    {
     "name": "stdout",
     "output_type": "stream",
     "text": [
      "EXECUTION TIME: 3.23 seconds\n",
      "content='Here are 50 differences between Machine Learning (ML) and Deep Learning (DL):\\n\\n**1-5: Fundamentals**\\n\\n1. ML is a subset of Artificial Intelligence (AI), while DL is a subset of ML.\\n2. ML is more focused on developing algorithms, whereas DL is focused on developing neural networks.\\n3. ML involves human intervention, whereas DL is more automated.\\n4. ML is more about feature engineering, whereas DL is more about feature learning.\\n5. ML is more about rules-based systems, whereas DL is more about probabilistic systems.\\n\\n**6-15: Data**\\n\\n6. ML can work with small to medium-sized datasets, whereas DL requires large datasets.\\n7. ML can work with structured data, whereas DL can work with unstructured data.\\n8. ML is more suitable for tabular data, whereas DL is more suitable for image, audio, and text data.\\n9. ML requires feature scaling, whereas DL does not.\\n10. ML is more sensitive to outliers, whereas DL is more robust to outliers.\\n11. ML requires data preprocessing, whereas DL can learn from raw data.\\n12. ML requires data augmentation, whereas DL can generate new data.\\n13. ML is more suitable for categorical data, whereas DL is more suitable for continuous data.\\n15. ML requires data normalization, whereas DL can learn from unnormalized data.\\n\\n**16-25: Algorithms**\\n\\n16. ML involves traditional algorithms like decision trees, random forests, etc., whereas DL involves neural networks like CNN, RNN, LSTM, etc.\\n17. ML algorithms are more interpretable, whereas DL algorithms are less interpretable.\\n18. ML algorithms are more transparent, whereas DL algorithms are more opaque.\\n19. ML algorithms are more prone to overfitting, whereas DL algorithms are more prone to underfitting.\\n20. ML algorithms require more hyperparameter tuning, whereas DL algorithms require less hyperparameter tuning.\\n21. ML algorithms are more sensitive to initial conditions, whereas DL algorithms are less sensitive to initial conditions.\\n22. ML algorithms are more suitable for small to medium-sized problems, whereas DL algorithms are more suitable for large-scale problems.\\n23. ML algorithms are more suitable for discrete problems, whereas DL algorithms are more suitable for continuous problems.\\n24. ML algorithms are more suitable for low-dimensional data, whereas DL algorithms are more suitable for high-dimensional data.\\n25. ML algorithms are more suitable for linearly separable data, whereas DL algorithms are more suitable for non-linearly separable data.\\n\\n**26-35: Performance**\\n\\n26. ML algorithms are generally faster, whereas DL algorithms are generally slower.\\n27. ML algorithms are more interpretable, whereas DL algorithms are less interpretable.\\n28. ML algorithms are more suitable for real-time applications, whereas DL algorithms are less suitable for real-time applications.\\n30. ML algorithms are more suitable for batch processing, whereas DL algorithms are less suitable for batch processing.\\n31. ML algorithms are more prone to overfitting, whereas DL algorithms are less prone to overfitting.\\n32. ML algorithms are more sensitive to class imbalance, whereas DL algorithms are less sensitive to class imbalance.\\n33. ML algorithms are more suitable for small to medium-sized datasets, whereas DL algorithms are more suitable for large datasets.\\n35. ML algorithms are more suitable for problems with low complexity, whereas DL algorithms are more suitable for problems with high complexity.\\n\\n**36-45: Model Complexity**\\n\\n36. ML models are generally less complex, whereas DL models are generally more complex.\\n37. ML models have fewer parameters, whereas DL models have more parameters.\\n38. ML models are more interpretable, whereas DL models are less interpretable.\\n39. ML models are more transparent, whereas DL models are less transparent.\\n40. ML models are more prone to overfitting, whereas DL models are less prone to overfitting.\\n41. ML models require more regularization techniques, whereas DL models require fewer regularization techniques.\\n42. ML models are more suitable for small to medium-sized datasets, whereas DL models are more suitable for large datasets.\\n43. ML models are more suitable for low-dimensional data, whereas DL models are more suitable for high-dimensional data.\\n44. ML models are more suitable for linearly separable data, whereas DL models are more suitable for non-linearly separable data.\\n45. ML models are more suitable for discrete problems, whereas DL models are more suitable for continuous problems.\\n\\n**46-50: Applications**\\n\\n46. ML is more suitable for applications like recommendation systems, sentiment analysis, and customer service chatbots, whereas DL is more suitable for applications like image and speech recognition, natural language processing, and autonomous vehicles.\\n47. ML is more suitable for applications with structured data, whereas DL is more suitable for applications with unstructured data.\\n48. ML is more suitable for applications with small to medium-sized datasets, whereas DL is more suitable for applications with large datasets.\\n49. ML is more suitable for applications with low complexity, whereas DL is more suitable for applications with high complexity.\\n50. ML is more suitable for applications with fast decision-making requirements, whereas DL is more suitable for applications with slow decision-making requirements.\\n\\nKeep in mind that these differences are not hard and fast rules, and there can be some overlap between the two. Additionally, these differences are based on general trends and may not hold true for every specific case.' additional_kwargs={} response_metadata={'token_usage': {'completion_tokens': 1079, 'prompt_tokens': 22, 'total_tokens': 1101, 'completion_time': 3.082857143, 'prompt_time': 0.000363358, 'queue_time': 0.054391801, 'total_time': 3.083220501}, 'model_name': 'llama3-70b-8192', 'system_fingerprint': 'fp_dd4ae1c591', 'finish_reason': 'stop', 'logprobs': None} id='run--77a55759-6dc8-4de0-bef5-56ac94a8794a-0' usage_metadata={'input_tokens': 22, 'output_tokens': 1079, 'total_tokens': 1101}\n"
     ]
    }
   ],
   "source": [
    "query=\"can you give me 50 differences between ML and DL?\"\n",
    "response = cached_model(query)\n",
    "print(response)"
   ]
  },
  {
   "cell_type": "code",
   "execution_count": 15,
   "metadata": {},
   "outputs": [
    {
     "name": "stdout",
     "output_type": "stream",
     "text": [
      "***CACHE MISS – EXECUTING MODEL***\n",
      "EXECUTION TIME: 1.53 seconds\n",
      "content=\"Here are 10 differences between Machine Learning (ML) and Deep Learning (DL):\\n\\n**1. Approach:**\\n\\t* ML: Focus on developing algorithms that can analyze data and make assumptions about the underlying relationships.\\n\\t* DL: Inspired by the structure and function of the brain, focuses on developing neural networks that can learn complex patterns in data.\\n\\n**3. Learning Style:**\\n\\t* ML: Typically involves shallow learning, where the algorithm learns from the input data and makes decisions based on that data.\\n\\t* DL: Involves deep learning, where the algorithm learns from the input data and uses that knowledge to make decisions.\\n\\n**5. Complexity:**\\n\\t* ML: Generally, ML models are less complex and require less data to train.\\n\\t* DL: DL models are more complex, require large amounts of data to train, and are computationally expensive.\\n\\n**7. Accuracy:**\\n\\t* ML: While ML models can achieve high accuracy, they can be limited in their ability to generalize to new, unseen data.\\n\\t* DL: DL models, on the other hand, can achieve higher accuracy and are better at handling large amounts of data, making them more effective in tasks like image and speech recognition.\\n\\n**9. Interpretability:**\\n\\t* ML: ML models are generally more interpretable, meaning it's easier to understand why a certain decision was made.\\n\\t* DL: DL models are often less interpretable, making it more difficult to understand why a certain decision was made.\\n\\nHere are the other differences:\\n\\n**2. Data Requirements:**\\n\\t* ML: Can work with small to medium-sized datasets.\\n\\t* DL: Requires large datasets to train accurately.\\n\\n**6. Algorithms:**\\n\\t* ML: Uses algorithms like decision trees, random forests, and support vector machines.\\n\\t* DL: Uses algorithms like convolutional neural networks, recurrent neural networks, and long short-term memory networks.\\n\\n**8. Applications:**\\n\\t* ML: Used in applications like spam filtering, recommendation systems, and sentiment analysis.\\n\\t* DL: Used in applications like computer vision, natural language processing, and speech recognition.\\n\\n**10. Training Time:**\\n\\t* ML: Typically requires less training time.\\n\\t* DL: Requires more training time due to the complexity of the models.\\n\\nKeep in mind that these are general differences, and there is some overlap between ML and DL.\" additional_kwargs={} response_metadata={'token_usage': {'completion_tokens': 484, 'prompt_tokens': 22, 'total_tokens': 506, 'completion_time': 1.382857143, 'prompt_time': 0.000641566, 'queue_time': 0.055109243999999995, 'total_time': 1.383498709}, 'model_name': 'llama3-70b-8192', 'system_fingerprint': 'fp_dd4ae1c591', 'finish_reason': 'stop', 'logprobs': None} id='run--519c8b37-adc9-4a54-9f38-1f3edb36b112-0' usage_metadata={'input_tokens': 22, 'output_tokens': 484, 'total_tokens': 506}\n"
     ]
    }
   ],
   "source": [
    "query=\"can you give me 10 differences between ML and DL?\"\n",
    "response = cached_model(query)\n",
    "print(response)"
   ]
  },
  {
   "cell_type": "code",
   "execution_count": 16,
   "metadata": {},
   "outputs": [
    {
     "name": "stdout",
     "output_type": "stream",
     "text": [
      "***CACHE HIT***\n",
      "EXECUTION TIME: 0.00 seconds\n",
      "content=\"Here are 10 differences between Machine Learning (ML) and Deep Learning (DL):\\n\\n**1. Approach:**\\n\\t* ML: Focus on developing algorithms that can analyze data and make assumptions about the underlying relationships.\\n\\t* DL: Inspired by the structure and function of the brain, focuses on developing neural networks that can learn complex patterns in data.\\n\\n**3. Learning Style:**\\n\\t* ML: Typically involves shallow learning, where the algorithm learns from the input data and makes decisions based on that data.\\n\\t* DL: Involves deep learning, where the algorithm learns from the input data and uses that knowledge to make decisions.\\n\\n**5. Complexity:**\\n\\t* ML: Generally, ML models are less complex and require less data to train.\\n\\t* DL: DL models are more complex, require large amounts of data to train, and are computationally expensive.\\n\\n**7. Accuracy:**\\n\\t* ML: While ML models can achieve high accuracy, they can be limited in their ability to generalize to new, unseen data.\\n\\t* DL: DL models, on the other hand, can achieve higher accuracy and are better at handling large amounts of data, making them more effective in tasks like image and speech recognition.\\n\\n**9. Interpretability:**\\n\\t* ML: ML models are generally more interpretable, meaning it's easier to understand why a certain decision was made.\\n\\t* DL: DL models are often less interpretable, making it more difficult to understand why a certain decision was made.\\n\\nHere are the other differences:\\n\\n**2. Data Requirements:**\\n\\t* ML: Can work with small to medium-sized datasets.\\n\\t* DL: Requires large datasets to train accurately.\\n\\n**6. Algorithms:**\\n\\t* ML: Uses algorithms like decision trees, random forests, and support vector machines.\\n\\t* DL: Uses algorithms like convolutional neural networks, recurrent neural networks, and long short-term memory networks.\\n\\n**8. Applications:**\\n\\t* ML: Used in applications like spam filtering, recommendation systems, and sentiment analysis.\\n\\t* DL: Used in applications like computer vision, natural language processing, and speech recognition.\\n\\n**10. Training Time:**\\n\\t* ML: Typically requires less training time.\\n\\t* DL: Requires more training time due to the complexity of the models.\\n\\nKeep in mind that these are general differences, and there is some overlap between ML and DL.\" additional_kwargs={} response_metadata={'token_usage': {'completion_tokens': 484, 'prompt_tokens': 22, 'total_tokens': 506, 'completion_time': 1.382857143, 'prompt_time': 0.000641566, 'queue_time': 0.055109243999999995, 'total_time': 1.383498709}, 'model_name': 'llama3-70b-8192', 'system_fingerprint': 'fp_dd4ae1c591', 'finish_reason': 'stop', 'logprobs': None} id='run--519c8b37-adc9-4a54-9f38-1f3edb36b112-0' usage_metadata={'input_tokens': 22, 'output_tokens': 484, 'total_tokens': 506}\n"
     ]
    }
   ],
   "source": [
    "query=\"can you give me 10 differences between ML and DL?\"\n",
    "response = cached_model(query)\n",
    "print(response)"
   ]
  },
  {
   "cell_type": "code",
   "execution_count": 17,
   "metadata": {},
   "outputs": [
    {
     "data": {
      "text/plain": [
       "{'hi': AIMessage(content=\"Hi! It's nice to meet you. Is there something I can help you with or would you like to chat?\", additional_kwargs={}, response_metadata={'token_usage': {'completion_tokens': 25, 'prompt_tokens': 11, 'total_tokens': 36, 'completion_time': 0.071428571, 'prompt_time': 0.00013006, 'queue_time': 0.055086678, 'total_time': 0.071558631}, 'model_name': 'llama3-70b-8192', 'system_fingerprint': 'fp_dd4ae1c591', 'finish_reason': 'stop', 'logprobs': None}, id='run--7dddf4a0-a573-449a-8cb8-f2ca0926f83e-0', usage_metadata={'input_tokens': 11, 'output_tokens': 25, 'total_tokens': 36}),\n",
       " 'can you give me 1000 words essay on independence?': AIMessage(content=\"Here is a 1000-word essay on independence:\\n\\nIndependence: The Backbone of a Nation\\n\\nThe concept of independence has been debated, fought for, and celebrated for centuries. It is a fundamental right that every individual and nation strives to achieve. Independence is not just a word; it is a way of life, a feeling of freedom, and a sense of self-governance. It is the ability to make one's own decisions, to chart one's own course, and to determine one's own destiny. Independence is the backbone of a nation, and it is the foundation upon which a country's prosperity, growth, and development are built.\\n\\nThe struggle for independence has been a common thread throughout history. From the American Revolution to the Indian freedom movement, nations have fought against colonial and imperial powers to gain their independence. The desire for independence is a fundamental human instinct, and it is this desire that drives individuals and nations to fight for their freedom. The struggle for independence is not just a physical battle; it is also a mental and emotional struggle. It is a struggle against oppression, against tyranny, and against exploitation.\\n\\nIndependence is not just about gaining freedom from colonial or imperial powers. It is also about gaining freedom from internal oppression, from poverty, from hunger, and from inequality. Independence is about creating a society that is just, equitable, and prosperous. It is about creating a society that is free from fear, from violence, and from discrimination. Independence is about creating a society that is based on the principles of democracy, equality, and justice.\\n\\nThe importance of independence cannot be overstated. It is the foundation upon which a nation's sovereignty is built. Without independence, a nation is not able to make its own decisions, to chart its own course, or to determine its own destiny. Independence gives a nation the freedom to make its own choices, to try new things, and to innovate. It gives a nation the freedom to adapt to changing circumstances, to respond to new challenges, and to overcome obstacles.\\n\\nIndependence is also essential for a nation's dignity and self-respect. When a nation is independent, it is able to hold its head high, to walk tall, and to command the respect of other nations. Independence gives a nation the confidence to assert its own identity, to express its own culture, and to promote its own interests. Independence is a symbol of a nation's strength, its resilience, and its determination.\\n\\nIndependence is not just important for nations; it is also important for individuals. Independence gives individuals the freedom to make their own choices, to pursue their own dreams, and to achieve their own goals. It gives individuals the freedom to innovate, to create, and to experiment. Independence gives individuals the freedom to express themselves, to think for themselves, and to act for themselves. It gives individuals the freedom to be who they are, to do what they want, and to become what they aspire to be.\\n\\nIn addition to its importance, independence is also a symbol of a nation's maturity. When a nation gains independence, it is a sign that it has come of age, that it is ready to take its place on the world stage, and that it is ready to assume its responsibilities. Independence is a symbol of a nation's growth, its progress, and its development.\\n\\nHowever, independence is not without its challenges. It requires a nation to be responsible, to be accountable, and to be transparent. It requires a nation to have a strong and effective government, a robust economy, and a vibrant civil society. Independence requires a nation to be placed on the shoulders of its citizens, and it requires citizens to be active, engaged, and participatory.\\n\\nFurthermore, independence is not absolute, and it is not a static concept. It is a dynamic and evolving concept that changes with time, with circumstances, and with context. Independence must be constantly nurtured, constantly protected, and constantly promoted. It must be adapted to changing circumstances, and it must be responsive to new opportunities.\\n\\nIn conclusion, independence is the backbone of a nation. It is the foundation upon which a nation's sovereignty, dignity, and self-respect are built. It is the symbol of a nation's strength, its resilience, and its determination. Independence is not just important for nations; it is also important for individuals. It gives individuals the freedom to make their own choices, to pursue their own dreams, and to achieve their own goals. Independence is a dynamic and constantly changing concept that must be constantly nurtured, protected, and promoted. It is the key to a nation's prosperity, growth, and development, and it is the foundation upon which a nation's future is built.\\n\\nIn addition, independence is a crucial aspect of human life. It is the foundation of human dignity, and it is the basis of human freedom. Human beings have an innate desire to be free, to make their own choices, and to live their own lives. It is the essence of human nature, and it is the driving force behind human progress.\\n\\nMoreover, independence is not limited to political independence. It also encompasses economic independence, social independence, and cultural independence. It is the ability of a nation or an individual to be self-sufficient, to be self-reliant, and to be self-sustaining. It is the ability to stand on one's own feet, to walk on one's own path, and to run one's own race.\\n\\nIn the modern world, independence is facing many challenges. Globalization, imperialism, and cultural homogenization are threatening the independence of nations and individuals. The rise of multinational corporations, the growth of international institutions, and the increasing interdependence of nations are also eroding the independence of nations. Furthermore, the increasing threat of terrorism, the rise of extremism, and the proliferation of weapons of mass destruction are also posing a significant threat to independence. Therefore, it is essential to promote, to protect, and to promote independence in all its forms and manifestations.\\n\\nIn the final analysis, independence is a fundamental human right, and it is the cornerstone of human dignity, human freedom, and human progress. It is the foundation upon which human society, human civilization, and human culture are built. It is the driving force behind human innovation, human creativity, and human achievement. Therefore, it is essential to promote, to protect, and to preserve independence in all its forms and manifestations.\\n\\nIn conclusion, independence is a vital and essential concept that is crucial for human dignity, human freedom, and human prosperity. It is the backbone of a nation, and it is the foundation upon which a nation's sovereignty, and self-respect are built. It is the symbol of a nation's strength, its resilience, and its determination. Independence is a dynamic and constantly changing concept that must be constantly nurtured, constantly protected, and constantly promoted. Therefore, it is essential to promote, to protect, and to preserve independence in all its forms and manifestations.\", additional_kwargs={}, response_metadata={'token_usage': {'completion_tokens': 1403, 'prompt_tokens': 22, 'total_tokens': 1425, 'completion_time': 4.008571429, 'prompt_time': 0.000650458, 'queue_time': 0.059400162, 'total_time': 4.009221887}, 'model_name': 'llama3-70b-8192', 'system_fingerprint': 'fp_dd4ae1c591', 'finish_reason': 'stop', 'logprobs': None}, id='run--bfb454c4-25a4-4d90-95c1-5a28682e286e-0', usage_metadata={'input_tokens': 22, 'output_tokens': 1403, 'total_tokens': 1425}),\n",
       " 'can you give me 50 differences between ML and DL?': AIMessage(content='Here are 50 differences between Machine Learning (ML) and Deep Learning (DL):\\n\\n**1-5: Fundamentals**\\n\\n1. ML is a subset of Artificial Intelligence (AI), while DL is a subset of ML.\\n2. ML is more focused on developing algorithms, whereas DL is focused on developing neural networks.\\n3. ML involves human intervention, whereas DL is more automated.\\n4. ML is more about feature engineering, whereas DL is more about feature learning.\\n5. ML is more about rules-based systems, whereas DL is more about probabilistic systems.\\n\\n**6-15: Data**\\n\\n6. ML can work with small to medium-sized datasets, whereas DL requires large datasets.\\n7. ML can work with structured data, whereas DL can work with unstructured data.\\n8. ML is more suitable for tabular data, whereas DL is more suitable for image, audio, and text data.\\n9. ML requires feature scaling, whereas DL does not.\\n10. ML is more sensitive to outliers, whereas DL is more robust to outliers.\\n11. ML requires data preprocessing, whereas DL can learn from raw data.\\n12. ML requires data augmentation, whereas DL can generate new data.\\n13. ML is more suitable for categorical data, whereas DL is more suitable for continuous data.\\n15. ML requires data normalization, whereas DL can learn from unnormalized data.\\n\\n**16-25: Algorithms**\\n\\n16. ML involves traditional algorithms like decision trees, random forests, etc., whereas DL involves neural networks like CNN, RNN, LSTM, etc.\\n17. ML algorithms are more interpretable, whereas DL algorithms are less interpretable.\\n18. ML algorithms are more transparent, whereas DL algorithms are more opaque.\\n19. ML algorithms are more prone to overfitting, whereas DL algorithms are more prone to underfitting.\\n20. ML algorithms require more hyperparameter tuning, whereas DL algorithms require less hyperparameter tuning.\\n21. ML algorithms are more sensitive to initial conditions, whereas DL algorithms are less sensitive to initial conditions.\\n22. ML algorithms are more suitable for small to medium-sized problems, whereas DL algorithms are more suitable for large-scale problems.\\n23. ML algorithms are more suitable for discrete problems, whereas DL algorithms are more suitable for continuous problems.\\n24. ML algorithms are more suitable for low-dimensional data, whereas DL algorithms are more suitable for high-dimensional data.\\n25. ML algorithms are more suitable for linearly separable data, whereas DL algorithms are more suitable for non-linearly separable data.\\n\\n**26-35: Performance**\\n\\n26. ML algorithms are generally faster, whereas DL algorithms are generally slower.\\n27. ML algorithms are more interpretable, whereas DL algorithms are less interpretable.\\n28. ML algorithms are more suitable for real-time applications, whereas DL algorithms are less suitable for real-time applications.\\n30. ML algorithms are more suitable for batch processing, whereas DL algorithms are less suitable for batch processing.\\n31. ML algorithms are more prone to overfitting, whereas DL algorithms are less prone to overfitting.\\n32. ML algorithms are more sensitive to class imbalance, whereas DL algorithms are less sensitive to class imbalance.\\n33. ML algorithms are more suitable for small to medium-sized datasets, whereas DL algorithms are more suitable for large datasets.\\n35. ML algorithms are more suitable for problems with low complexity, whereas DL algorithms are more suitable for problems with high complexity.\\n\\n**36-45: Model Complexity**\\n\\n36. ML models are generally less complex, whereas DL models are generally more complex.\\n37. ML models have fewer parameters, whereas DL models have more parameters.\\n38. ML models are more interpretable, whereas DL models are less interpretable.\\n39. ML models are more transparent, whereas DL models are less transparent.\\n40. ML models are more prone to overfitting, whereas DL models are less prone to overfitting.\\n41. ML models require more regularization techniques, whereas DL models require fewer regularization techniques.\\n42. ML models are more suitable for small to medium-sized datasets, whereas DL models are more suitable for large datasets.\\n43. ML models are more suitable for low-dimensional data, whereas DL models are more suitable for high-dimensional data.\\n44. ML models are more suitable for linearly separable data, whereas DL models are more suitable for non-linearly separable data.\\n45. ML models are more suitable for discrete problems, whereas DL models are more suitable for continuous problems.\\n\\n**46-50: Applications**\\n\\n46. ML is more suitable for applications like recommendation systems, sentiment analysis, and customer service chatbots, whereas DL is more suitable for applications like image and speech recognition, natural language processing, and autonomous vehicles.\\n47. ML is more suitable for applications with structured data, whereas DL is more suitable for applications with unstructured data.\\n48. ML is more suitable for applications with small to medium-sized datasets, whereas DL is more suitable for applications with large datasets.\\n49. ML is more suitable for applications with low complexity, whereas DL is more suitable for applications with high complexity.\\n50. ML is more suitable for applications with fast decision-making requirements, whereas DL is more suitable for applications with slow decision-making requirements.\\n\\nKeep in mind that these differences are not hard and fast rules, and there can be some overlap between the two. Additionally, these differences are based on general trends and may not hold true for every specific case.', additional_kwargs={}, response_metadata={'token_usage': {'completion_tokens': 1079, 'prompt_tokens': 22, 'total_tokens': 1101, 'completion_time': 3.082857143, 'prompt_time': 0.000363358, 'queue_time': 0.054391801, 'total_time': 3.083220501}, 'model_name': 'llama3-70b-8192', 'system_fingerprint': 'fp_dd4ae1c591', 'finish_reason': 'stop', 'logprobs': None}, id='run--77a55759-6dc8-4de0-bef5-56ac94a8794a-0', usage_metadata={'input_tokens': 22, 'output_tokens': 1079, 'total_tokens': 1101}),\n",
       " 'can you give me 10 differences between ML and DL?': AIMessage(content=\"Here are 10 differences between Machine Learning (ML) and Deep Learning (DL):\\n\\n**1. Approach:**\\n\\t* ML: Focus on developing algorithms that can analyze data and make assumptions about the underlying relationships.\\n\\t* DL: Inspired by the structure and function of the brain, focuses on developing neural networks that can learn complex patterns in data.\\n\\n**3. Learning Style:**\\n\\t* ML: Typically involves shallow learning, where the algorithm learns from the input data and makes decisions based on that data.\\n\\t* DL: Involves deep learning, where the algorithm learns from the input data and uses that knowledge to make decisions.\\n\\n**5. Complexity:**\\n\\t* ML: Generally, ML models are less complex and require less data to train.\\n\\t* DL: DL models are more complex, require large amounts of data to train, and are computationally expensive.\\n\\n**7. Accuracy:**\\n\\t* ML: While ML models can achieve high accuracy, they can be limited in their ability to generalize to new, unseen data.\\n\\t* DL: DL models, on the other hand, can achieve higher accuracy and are better at handling large amounts of data, making them more effective in tasks like image and speech recognition.\\n\\n**9. Interpretability:**\\n\\t* ML: ML models are generally more interpretable, meaning it's easier to understand why a certain decision was made.\\n\\t* DL: DL models are often less interpretable, making it more difficult to understand why a certain decision was made.\\n\\nHere are the other differences:\\n\\n**2. Data Requirements:**\\n\\t* ML: Can work with small to medium-sized datasets.\\n\\t* DL: Requires large datasets to train accurately.\\n\\n**6. Algorithms:**\\n\\t* ML: Uses algorithms like decision trees, random forests, and support vector machines.\\n\\t* DL: Uses algorithms like convolutional neural networks, recurrent neural networks, and long short-term memory networks.\\n\\n**8. Applications:**\\n\\t* ML: Used in applications like spam filtering, recommendation systems, and sentiment analysis.\\n\\t* DL: Used in applications like computer vision, natural language processing, and speech recognition.\\n\\n**10. Training Time:**\\n\\t* ML: Typically requires less training time.\\n\\t* DL: Requires more training time due to the complexity of the models.\\n\\nKeep in mind that these are general differences, and there is some overlap between ML and DL.\", additional_kwargs={}, response_metadata={'token_usage': {'completion_tokens': 484, 'prompt_tokens': 22, 'total_tokens': 506, 'completion_time': 1.382857143, 'prompt_time': 0.000641566, 'queue_time': 0.055109243999999995, 'total_time': 1.383498709}, 'model_name': 'llama3-70b-8192', 'system_fingerprint': 'fp_dd4ae1c591', 'finish_reason': 'stop', 'logprobs': None}, id='run--519c8b37-adc9-4a54-9f38-1f3edb36b112-0', usage_metadata={'input_tokens': 22, 'output_tokens': 484, 'total_tokens': 506})}"
      ]
     },
     "execution_count": 17,
     "metadata": {},
     "output_type": "execute_result"
    }
   ],
   "source": [
    "Model_Cache"
   ]
  },
  {
   "cell_type": "code",
   "execution_count": 21,
   "metadata": {},
   "outputs": [],
   "source": [
    "from langchain_community.embeddings import HuggingFaceEmbeddings\n",
    "\n",
    "embedding_model = HuggingFaceEmbeddings(\n",
    "    model_name=\"sentence-transformers/all-MiniLM-L6-v2\"\n",
    ")"
   ]
  },
  {
   "cell_type": "code",
   "execution_count": 22,
   "metadata": {},
   "outputs": [],
   "source": [
    "from langchain_community.vectorstores import Chroma\n",
    "from langchain_core.prompts import PromptTemplate\n",
    "from langchain_core.runnables import RunnableMap, RunnablePassthrough\n",
    "from langchain_core.output_parsers import StrOutputParser"
   ]
  },
  {
   "cell_type": "code",
   "execution_count": 23,
   "metadata": {},
   "outputs": [],
   "source": [
    "from langchain.schema import Document\n",
    "\n",
    "documents = [\n",
    "    Document(page_content=\"The Earth is the third planet from the Sun and the only known planet to support life. It has a diverse climate, ranging from arctic to tropical zones, and supports ecosystems across seven continents and five oceans.\"),\n",
    "\n",
    "    Document(page_content=\"The Industrial Revolution, beginning in the 18th century, drastically transformed human societies by shifting from manual labor to machine-based manufacturing, leading to urbanization and economic expansion globally.\"),\n",
    "\n",
    "    Document(page_content=\"The United Nations, established in 1945 after World War II, is an international organization founded to promote peace, security, human rights, and cooperation among countries. It has 193 member states.\"),\n",
    "\n",
    "    Document(page_content=\"The global economy is an interconnected system involving trade, investment, and financial flows across countries. Major players include the United States, China, the European Union, and emerging markets like India and Brazil.\"),\n",
    "\n",
    "    Document(page_content=\"Climate change refers to long-term shifts in temperatures and weather patterns. It is largely driven by human activities like burning fossil fuels, deforestation, and industrial emissions, leading to global warming and sea level rise.\"),\n",
    "\n",
    "    Document(page_content=\"Democracy is a political system in which citizens exercise power by voting. Modern democracies typically have institutions for free elections, rule of law, freedom of expression, and checks and balances.\"),\n",
    "\n",
    "    Document(page_content=\"The Internet has revolutionized communication, commerce, and education worldwide. Originating from military research in the 1960s, it now connects over 5 billion people, enabling instant global information exchange.\"),\n",
    "\n",
    "    Document(page_content=\"Renewable energy sources like solar, wind, hydro, and geothermal are critical for a sustainable future. They offer alternatives to fossil fuels, reducing carbon emissions and reliance on finite resources.\"),\n",
    "\n",
    "    Document(page_content=\"The World Health Organization (WHO) is a UN agency focused on global health issues. It coordinates international efforts to monitor diseases, set health standards, and respond to pandemics like COVID-19.\"),\n",
    "\n",
    "    Document(page_content=\"Globalization is the process of increasing interaction and integration among people, companies, and governments worldwide. It has led to greater economic growth but also raised concerns about inequality and cultural homogenization.\")\n",
    "]\n"
   ]
  },
  {
   "cell_type": "code",
   "execution_count": 24,
   "metadata": {},
   "outputs": [],
   "source": [
    "# Chroma vector DB with persistent storage\n",
    "vector_store = Chroma.from_documents(\n",
    "    documents=documents,\n",
    "    embedding=embedding_model,\n",
    "    persist_directory=\"./chroma_db\"  # Disk path for persistence\n",
    ")"
   ]
  },
  {
   "cell_type": "code",
   "execution_count": 25,
   "metadata": {},
   "outputs": [
    {
     "name": "stderr",
     "output_type": "stream",
     "text": [
      "C:\\Users\\sunny\\AppData\\Local\\Temp\\ipykernel_42780\\1854114808.py:2: LangChainDeprecationWarning: Since Chroma 0.4.x the manual persistence method is no longer supported as docs are automatically persisted.\n",
      "  vector_store.persist()\n"
     ]
    }
   ],
   "source": [
    "# Optional: Persist manually (though auto-persistence happens internally)\n",
    "vector_store.persist()"
   ]
  },
  {
   "cell_type": "code",
   "execution_count": 26,
   "metadata": {},
   "outputs": [],
   "source": [
    "retriever = vector_store.as_retriever()"
   ]
  },
  {
   "cell_type": "code",
   "execution_count": 27,
   "metadata": {},
   "outputs": [],
   "source": [
    "prompt = PromptTemplate.from_template(\n",
    "    \"\"\"\n",
    "    Use the following context to answer the question.\n",
    "    If you don't know the answer, just say you don't know. Don't try to make up an answer.\n",
    "\n",
    "    Context:\n",
    "    {context}\n",
    "\n",
    "    Question:\n",
    "    {question}\n",
    "\n",
    "    Answer:\n",
    "    \"\"\"\n",
    ")\n"
   ]
  },
  {
   "cell_type": "code",
   "execution_count": 28,
   "metadata": {},
   "outputs": [],
   "source": [
    "# LCEL RAG Chain step-by-step\n",
    "rag_chain = (\n",
    "    RunnableMap({\n",
    "        \"context\": retriever | (lambda docs: \"\\n\\n\".join([doc.page_content for doc in docs])),\n",
    "        \"question\": RunnablePassthrough()\n",
    "    })\n",
    "    | prompt\n",
    "    | llm\n",
    "    | StrOutputParser()\n",
    ")"
   ]
  },
  {
   "cell_type": "code",
   "execution_count": 29,
   "metadata": {},
   "outputs": [],
   "source": [
    "# Wrap with cache\n",
    "RAG_Cache = {}"
   ]
  },
  {
   "cell_type": "code",
   "execution_count": 30,
   "metadata": {},
   "outputs": [],
   "source": [
    "import time\n",
    "def cached_rag_chain(query):\n",
    "    start_time = time.time()\n",
    "    if RAG_Cache.get(query):\n",
    "        print(\"***CACHE HIT***\")\n",
    "        end_time = time.time()\n",
    "        elapsed = end_time - start_time\n",
    "        print(f\"EXECUTION TIME: {elapsed:.2f} seconds\")\n",
    "        return RAG_Cache.get(query)\n",
    "    else:\n",
    "        print(\"***CACHE MISS – EXECUTING MODEL***\")\n",
    "        start_time = time.time()\n",
    "        response = llm.invoke(query)\n",
    "        end_time = time.time()\n",
    "        elapsed = end_time - start_time\n",
    "        print(f\"EXECUTION TIME: {elapsed:.2f} seconds\")\n",
    "        RAG_Cache[query] = response\n",
    "        return response"
   ]
  },
  {
   "cell_type": "code",
   "execution_count": null,
   "metadata": {},
   "outputs": [
    {
     "name": "stdout",
     "output_type": "stream",
     "text": [
      "***CACHE HIT***\n",
      "EXECUTION TIME: 0.00 seconds\n",
      "content=\"**Japan's Economy in 2024:**\\n\\nAs of 2022, Japan's nominal GDP is approximately $5.15 trillion, ranking third globally behind the United States and China. The economy is expected to grow at a moderate pace, driven by domestic demand, infrastructure spending, and a gradual recovery in exports.\\n\\nKey economic indicators for 2024:\\n\\n* GDP growth rate: 1.2% - 1.5%\\n* Inflation rate: 1.0% - 2.0%\\n* Unemployment rate: 2.5% - 3.0%\\n\\n**Challenges:**\\n\\n1. **Aging population**: Japan's workforce is shrinking, which could lead to labor shortage and slow economic growth.\\n2. **Global trade tensions**: Japan is heavily dependent on exports, and trade disputes with the United States, China, and South Korea could negatively impact its economy.\\n3. **Fiscal policy**: Japan's government debt is over 250% of its GDP, which could lead to concerns about fiscal sustainability.\\n\\n**Relation with North Korea:**\\n\\nJapan's relationship with North Korea is complex and sensitive, particularly due to historical and security concerns. Here are some aspects:\\n\\n1. **Security threats**: North Korea's nuclear and missile programs pose a direct threat to Japan's national security.\\n2. **Abduction issue**: In the 1970s and 1980s, North Korea abducted Japanese citizens, and Japan demands their return or information about their fate.\\n3. **Economic sanctions**: Japan has imposed economic sanctions on North Korea in line with international efforts to pressure the regime to abandon its nuclear program.\\n\\n**Potential impact on Japan's economy:**\\n\\n1. **Increased defense spending**: Japan may need to increase its defense spending to counter North Korea's military threats, which could divert resources from other areas, such as infrastructure development**.\\n2. **Trade and investment**: Tensions with North Korea could disrupt trade and investment flows, particularly in the context of Japan's relationships with South Korea and China.\\n3. **Tourism**: The situation with North Korea could affect tourism in Japan, particularly if there are concerns about safety or travel restrictions.\\n\\nIn summary, Japan's economy in 2024 is expected to grow moderately, but faces challenges from an aging population, global trade tensions, and fiscal policy concerns. The relationship with North Korea remains a significant concern, particularly regarding security, abduction, and economic sanctions issues, which could impact Japan's economy and defense spending.\\n\\nPlease note that these are general forecasts and may be subject to change based on various factors, including global events and policy decisions.\" additional_kwargs={} response_metadata={'token_usage': {'completion_tokens': 528, 'prompt_tokens': 25, 'total_tokens': 553, 'completion_time': 1.660125136, 'prompt_time': 0.000478256, 'queue_time': 0.054452033999999996, 'total_time': 1.660603392}, 'model_name': 'llama3-70b-8192', 'system_fingerprint': 'fp_dd4ae1c591', 'finish_reason': 'stop', 'logprobs': None} id='run--92f1d5ff-1c64-4771-add5-3fc0ac562222-0' usage_metadata={'input_tokens': 25, 'output_tokens': 528, 'total_tokens': 553}\n"
     ]
    }
   ],
   "source": [
    "query = \"what is japan economy in 2024 and relation with north korea?\"\n",
    "response = cached_rag_chain(query)\n",
    "print(response)"
   ]
  },
  {
   "cell_type": "code",
   "execution_count": 34,
   "metadata": {},
   "outputs": [
    {
     "name": "stdout",
     "output_type": "stream",
     "text": [
      "***CACHE HIT***\n",
      "EXECUTION TIME: 0.00 seconds\n",
      "content=\"Langchain is an open-source framework for building, and managing large language models (LLMs) and their applications. It provides a modular and extensible architecture for developing, training, and deploying language models, as well as integrating them with various downstream applications and services.\\n\\nThe Langchain framework is designed to address the following key challenges in building and deploying large language models:\\n\\n1. **Modularity**: Langchain provides a modular architecture that allows developers to easily swap out different components, such as tokenizers, models, and inference engines, to adapt to changing requirements and advances in technology.\\n2. **Scalability**: Langchain is designed to handle large-scale language models, with support for distributed training, inference, and deployment on various infrastructure, including cloud, on-premises, and edge devices.\\n3. **Flexibility**: Langchain provides a flexible framework that can be used for a wide range of applications, including but not limited to, natural language processing (NLP), conversational AI, language translation, and text generation.\\n4. **Interoperability**: Langchain enables seamless integration with various frameworks, libraries, and services, such as TensorFlow, PyTorch, Hugging Face Transformers, to leverage the strengths of each ecosystem.\\n\\nThe key components of the Langchain framework include:\\n\\n1. **Model Hub**: A centralized repository for managing and discovering language models, including model metadata, training scripts, and pre-trained weights.\\n2. **Tokenization**: A module for tokenizing input text into numerical representations that can be fed into language models.\\n3. **Inference Engine**: A component for executing language models on input data, generating text, and performing inference tasks.\\n5. **Application Framework**: A set of tools and libraries for building conversational AI, including dialogue management, intent recognition, and response generation.\\n\\nBy providing a modular, flexible, and scalable framework for large language models, Langchain aims to accelerate the development and deployment of conversational AI applications, and enable more researchers, developers, and organizations to benefit from the advances in language model technology.\\n\\nLangchain is an open-source project, and its community is actively contributing to its development, and expansion. If you're interested in learning more, I recommend checking out its official documentation, and GitHub page.\" additional_kwargs={} response_metadata={'token_usage': {'completion_tokens': 456, 'prompt_tokens': 16, 'total_tokens': 472, 'completion_time': 1.570977386, 'prompt_time': 0.000343067, 'queue_time': 0.053822573, 'total_time': 1.571320453}, 'model_name': 'llama3-70b-8192', 'system_fingerprint': 'fp_dd4ae1c591', 'finish_reason': 'stop', 'logprobs': None} id='run--a284fcc1-27de-4422-b960-2d5bc72a1a45-0' usage_metadata={'input_tokens': 16, 'output_tokens': 456, 'total_tokens': 472}\n"
     ]
    }
   ],
   "source": [
    "query = \"what is langchain framework?\"\n",
    "response = cached_rag_chain(query)\n",
    "print(response)"
   ]
  },
  {
   "cell_type": "code",
   "execution_count": 36,
   "metadata": {},
   "outputs": [
    {
     "name": "stdout",
     "output_type": "stream",
     "text": [
      "***CACHE HIT***\n",
      "EXECUTION TIME: 0.00 seconds\n",
      "content=\"The United Nations (UN) was established in 1945 after World War II for several reasons:**\\n\\n1. **Preventing Future Wars**: The devastating effects of two World Wars convinced nations that a collective effort was needed to prevent future wars and promote international cooperation.\\n2. **Replacing the League of Nations**: The League of Nations, established after World War I, had failed to prevent World War II. The UN was designed to be a more effective and robust international organization.\\n3. **Promoting Collective Security**: The UN was created to provide a framework for nations to work together to prevent aggression and promote collective security.\\n4. **Encouraging International Cooperation**: The UN was designed to foster international cooperation on economic, social, and humanitarian issues, recognizing that global problems required global solutions.\\n5. **Protecting Human Rights**: The organization was founded on the principles of dignity, equality, and human rights, as enshrined in the Universal Declaration of Human Rights (1948).\\n6. **Fostering Economic Development and Reconstruction**: The UN was established to help rebuild war-torn countries and promote economic development, recognizing that poverty and inequality can fuel conflict.\\n7. **Addressing Global Challenges**: The UN was created to address global challenges such as refugee crises, environmental degradation, and pandemics.\\n8. **Providing a Platform for Diplomacy**: The UN provides a platform for nations to engage in diplomatic efforts to resolve conflicts peacefully and prevent the escalation of disputes.\\n\\nThe UN Charter, signed on June 26, 1945, by 50 countries, sets out the organization's purposes and principles. The UN has since grown to include 193 member states, and has played a crucial role in promoting peace, stability, and development around the world.\" additional_kwargs={} response_metadata={'token_usage': {'completion_tokens': 355, 'prompt_tokens': 24, 'total_tokens': 379, 'completion_time': 1.014285714, 'prompt_time': 0.000373097, 'queue_time': 0.055033942999999995, 'total_time': 1.014658811}, 'model_name': 'llama3-70b-8192', 'system_fingerprint': 'fp_dd4ae1c591', 'finish_reason': 'stop', 'logprobs': None} id='run--b4f9fb3d-c6d6-49f3-b4a0-64c7c1d79717-0' usage_metadata={'input_tokens': 24, 'output_tokens': 355, 'total_tokens': 379}\n"
     ]
    }
   ],
   "source": [
    "query = \"Why United Nations, established in 1945 after World War II?\"\n",
    "response = cached_rag_chain(query)\n",
    "print(response)"
   ]
  },
  {
   "cell_type": "markdown",
   "metadata": {},
   "source": [
    "## Cache Using LangChain"
   ]
  },
  {
   "cell_type": "code",
   "execution_count": 37,
   "metadata": {},
   "outputs": [],
   "source": [
    "from langchain.cache import InMemoryCache\n",
    "from langchain.globals import set_llm_cache\n",
    "from typing import Any, Dict, Tuple\n",
    "from langchain_groq import ChatGroq"
   ]
  },
  {
   "cell_type": "code",
   "execution_count": 40,
   "metadata": {},
   "outputs": [],
   "source": [
    "class DebuggableCache(InMemoryCache):\n",
    "    def __init__(self):\n",
    "        super().__init__()\n",
    "        self._cache: Dict[Tuple[str, str], Any] = {}\n",
    "\n",
    "    def lookup(self, prompt: str, llm_string: str):\n",
    "        return self._cache.get((prompt, llm_string))\n",
    "\n",
    "    def update(self, prompt: str, llm_string: str, return_val: Any):\n",
    "        self._cache[(prompt, llm_string)] = return_val\n",
    "\n",
    "    def view_cache(self):  # 👈 this is our custom method\n",
    "        return self._cache"
   ]
  },
  {
   "cell_type": "code",
   "execution_count": 41,
   "metadata": {},
   "outputs": [],
   "source": [
    "dbg_cache = DebuggableCache()\n",
    "set_llm_cache(dbg_cache)"
   ]
  },
  {
   "cell_type": "code",
   "execution_count": 42,
   "metadata": {},
   "outputs": [],
   "source": [
    "response = llm.invoke(\"What is the capital of France?\")"
   ]
  },
  {
   "cell_type": "code",
   "execution_count": 43,
   "metadata": {},
   "outputs": [
    {
     "name": "stdout",
     "output_type": "stream",
     "text": [
      "LLM Response: content=\"That's an easy one! The capital of France is Paris!\" additional_kwargs={} response_metadata={'token_usage': {'completion_tokens': 14, 'prompt_tokens': 17, 'total_tokens': 31, 'completion_time': 0.046742411, 'prompt_time': 0.000270568, 'queue_time': 0.0547071, 'total_time': 0.047012979}, 'model_name': 'llama3-70b-8192', 'system_fingerprint': 'fp_dd4ae1c591', 'finish_reason': 'stop', 'logprobs': None} id='run--4ee59569-b6b1-48b1-8ad5-ba450cadda74-0' usage_metadata={'input_tokens': 17, 'output_tokens': 14, 'total_tokens': 31}\n"
     ]
    }
   ],
   "source": [
    "\n",
    "print(\"LLM Response:\", response)"
   ]
  },
  {
   "cell_type": "code",
   "execution_count": 44,
   "metadata": {},
   "outputs": [
    {
     "name": "stdout",
     "output_type": "stream",
     "text": [
      "\n",
      "Cache Contents:\n",
      "Prompt: [{\"lc\": 1, \"type\": \"constructor\", \"id\": [\"langchain\", \"schema\", \"messages\", \"HumanMessage\"], \"kwargs\": {\"content\": \"What is the capital of France?\", \"type\": \"human\"}}] | Cached Output: [ChatGeneration(text=\"That's an easy one! The capital of France is Paris!\", generation_info={'finish_reason': 'stop', 'logprobs': None}, message=AIMessage(content=\"That's an easy one! The capital of France is Paris!\", additional_kwargs={}, response_metadata={'token_usage': {'completion_tokens': 14, 'prompt_tokens': 17, 'total_tokens': 31, 'completion_time': 0.046742411, 'prompt_time': 0.000270568, 'queue_time': 0.0547071, 'total_time': 0.047012979}, 'model_name': 'llama3-70b-8192', 'system_fingerprint': 'fp_dd4ae1c591', 'finish_reason': 'stop', 'logprobs': None}, id='run--4ee59569-b6b1-48b1-8ad5-ba450cadda74-0', usage_metadata={'input_tokens': 17, 'output_tokens': 14, 'total_tokens': 31}))]\n"
     ]
    }
   ],
   "source": [
    "print(\"\\nCache Contents:\")\n",
    "for k, v in dbg_cache.view_cache().items():\n",
    "    print(f\"Prompt: {k[0]} | Cached Output: {v}\")"
   ]
  },
  {
   "cell_type": "code",
   "execution_count": 45,
   "metadata": {},
   "outputs": [],
   "source": [
    "response = llm.invoke(\"What is the capital of France?\")"
   ]
  },
  {
   "cell_type": "code",
   "execution_count": 46,
   "metadata": {},
   "outputs": [
    {
     "data": {
      "text/plain": [
       "AIMessage(content=\"That's an easy one! The capital of France is Paris!\", additional_kwargs={}, response_metadata={'token_usage': {'completion_tokens': 14, 'prompt_tokens': 17, 'total_tokens': 31, 'completion_time': 0.046742411, 'prompt_time': 0.000270568, 'queue_time': 0.0547071, 'total_time': 0.047012979}, 'model_name': 'llama3-70b-8192', 'system_fingerprint': 'fp_dd4ae1c591', 'finish_reason': 'stop', 'logprobs': None}, id='run--4ee59569-b6b1-48b1-8ad5-ba450cadda74-0', usage_metadata={'input_tokens': 17, 'output_tokens': 14, 'total_tokens': 31})"
      ]
     },
     "execution_count": 46,
     "metadata": {},
     "output_type": "execute_result"
    }
   ],
   "source": [
    "response"
   ]
  },
  {
   "cell_type": "code",
   "execution_count": 47,
   "metadata": {},
   "outputs": [
    {
     "name": "stdout",
     "output_type": "stream",
     "text": [
      "\n",
      "Cache Contents:\n",
      "Prompt: [{\"lc\": 1, \"type\": \"constructor\", \"id\": [\"langchain\", \"schema\", \"messages\", \"HumanMessage\"], \"kwargs\": {\"content\": \"What is the capital of France?\", \"type\": \"human\"}}] | Cached Output: [ChatGeneration(text=\"That's an easy one! The capital of France is Paris!\", generation_info={'finish_reason': 'stop', 'logprobs': None}, message=AIMessage(content=\"That's an easy one! The capital of France is Paris!\", additional_kwargs={}, response_metadata={'token_usage': {'completion_tokens': 14, 'prompt_tokens': 17, 'total_tokens': 31, 'completion_time': 0.046742411, 'prompt_time': 0.000270568, 'queue_time': 0.0547071, 'total_time': 0.047012979}, 'model_name': 'llama3-70b-8192', 'system_fingerprint': 'fp_dd4ae1c591', 'finish_reason': 'stop', 'logprobs': None}, id='run--4ee59569-b6b1-48b1-8ad5-ba450cadda74-0', usage_metadata={'input_tokens': 17, 'output_tokens': 14, 'total_tokens': 31}))]\n"
     ]
    }
   ],
   "source": [
    "print(\"\\nCache Contents:\")\n",
    "for k, v in dbg_cache.view_cache().items():\n",
    "    print(f\"Prompt: {k[0]} | Cached Output: {v}\")"
   ]
  },
  {
   "cell_type": "code",
   "execution_count": 48,
   "metadata": {},
   "outputs": [
    {
     "name": "stdout",
     "output_type": "stream",
     "text": [
      "LLM Response: content='The capital of India is New Delhi.' additional_kwargs={} response_metadata={'token_usage': {'completion_tokens': 9, 'prompt_tokens': 17, 'total_tokens': 26, 'completion_time': 0.025714286, 'prompt_time': 0.000257878, 'queue_time': 0.05675868, 'total_time': 0.025972164}, 'model_name': 'llama3-70b-8192', 'system_fingerprint': 'fp_dd4ae1c591', 'finish_reason': 'stop', 'logprobs': None} id='run--8a4fde81-a41f-4eb2-bca6-050960a312f1-0' usage_metadata={'input_tokens': 17, 'output_tokens': 9, 'total_tokens': 26}\n"
     ]
    }
   ],
   "source": [
    "# 👇 Ask something\n",
    "response = llm.invoke(\"What is the capital of india?\")\n",
    "print(\"LLM Response:\", response)\n"
   ]
  },
  {
   "cell_type": "code",
   "execution_count": 49,
   "metadata": {},
   "outputs": [
    {
     "name": "stdout",
     "output_type": "stream",
     "text": [
      "\n",
      "Cache Contents:\n",
      "Prompt: [{\"lc\": 1, \"type\": \"constructor\", \"id\": [\"langchain\", \"schema\", \"messages\", \"HumanMessage\"], \"kwargs\": {\"content\": \"What is the capital of France?\", \"type\": \"human\"}}] | Cached Output: [ChatGeneration(text=\"That's an easy one! The capital of France is Paris!\", generation_info={'finish_reason': 'stop', 'logprobs': None}, message=AIMessage(content=\"That's an easy one! The capital of France is Paris!\", additional_kwargs={}, response_metadata={'token_usage': {'completion_tokens': 14, 'prompt_tokens': 17, 'total_tokens': 31, 'completion_time': 0.046742411, 'prompt_time': 0.000270568, 'queue_time': 0.0547071, 'total_time': 0.047012979}, 'model_name': 'llama3-70b-8192', 'system_fingerprint': 'fp_dd4ae1c591', 'finish_reason': 'stop', 'logprobs': None}, id='run--4ee59569-b6b1-48b1-8ad5-ba450cadda74-0', usage_metadata={'input_tokens': 17, 'output_tokens': 14, 'total_tokens': 31}))]\n",
      "Prompt: [{\"lc\": 1, \"type\": \"constructor\", \"id\": [\"langchain\", \"schema\", \"messages\", \"HumanMessage\"], \"kwargs\": {\"content\": \"What is the capital of india?\", \"type\": \"human\"}}] | Cached Output: [ChatGeneration(text='The capital of India is New Delhi.', generation_info={'finish_reason': 'stop', 'logprobs': None}, message=AIMessage(content='The capital of India is New Delhi.', additional_kwargs={}, response_metadata={'token_usage': {'completion_tokens': 9, 'prompt_tokens': 17, 'total_tokens': 26, 'completion_time': 0.025714286, 'prompt_time': 0.000257878, 'queue_time': 0.05675868, 'total_time': 0.025972164}, 'model_name': 'llama3-70b-8192', 'system_fingerprint': 'fp_dd4ae1c591', 'finish_reason': 'stop', 'logprobs': None}, id='run--8a4fde81-a41f-4eb2-bca6-050960a312f1-0', usage_metadata={'input_tokens': 17, 'output_tokens': 9, 'total_tokens': 26}))]\n"
     ]
    }
   ],
   "source": [
    "print(\"\\nCache Contents:\")\n",
    "for k, v in dbg_cache.view_cache().items():\n",
    "    print(f\"Prompt: {k[0]} | Cached Output: {v}\")"
   ]
  },
  {
   "cell_type": "code",
   "execution_count": 50,
   "metadata": {},
   "outputs": [
    {
     "name": "stdout",
     "output_type": "stream",
     "text": [
      "LLM Response: content='The capital of India is New Delhi.' additional_kwargs={} response_metadata={'token_usage': {'completion_tokens': 9, 'prompt_tokens': 17, 'total_tokens': 26, 'completion_time': 0.025714286, 'prompt_time': 0.000257878, 'queue_time': 0.05675868, 'total_time': 0.025972164}, 'model_name': 'llama3-70b-8192', 'system_fingerprint': 'fp_dd4ae1c591', 'finish_reason': 'stop', 'logprobs': None} id='run--8a4fde81-a41f-4eb2-bca6-050960a312f1-0' usage_metadata={'input_tokens': 17, 'output_tokens': 9, 'total_tokens': 26}\n"
     ]
    }
   ],
   "source": [
    "# 👇 Ask something\n",
    "response = llm.invoke(\"What is the capital of india?\")\n",
    "print(\"LLM Response:\", response)"
   ]
  },
  {
   "cell_type": "code",
   "execution_count": 51,
   "metadata": {},
   "outputs": [
    {
     "name": "stdout",
     "output_type": "stream",
     "text": [
      "LLM Response: content=\"Here is a 1000-line essay on science and its importance regarding mathematics:\\n\\nScience is a systematic and structured approach to understanding the natural world around us. It involves the collection of data, formulation of hypotheses, and testing of these hypotheses through experimentation and observation. Science is a vast and diverse field that encompasses various disciplines such as physics, chemistry, biology, mathematics, and many others. Mathematics, in particular, is a fundamental component of science, and it plays a crucial role in the development of scientific theories and models.\\n\\nThe importance of science in our daily lives cannot be overstated. Science has led to numerous breakthroughs and innovations that have revolutionized the way we live, communicate, and travel. From the discovery of electricity to the development of computers and smartphones, science has had a profound impact on our daily lives. The application of scientific principles and theories has enabled us to harness the power of nature and has led to the development of new materials, technologies, and products.\\n\\nMathematics, as a branch of science, has played a vital role in the development of scientific theories and models. Mathematics provides a powerful tool for scientists to describe and analyze the behavior of physical systems and phenomena. Mathematical models and equations are used to describe the laws of physics, and to make predictions about the behavior of complex systems. The development of mathematical theories and models has enabled scientists to make accurate predictions and to understand complex phenomena.\\n\\nThe importance of mathematics in science cannot be overstated. Mathematics provides a common language for scientists to communicate and to describe complex phenomena. Mathematical equations and models are used to describe the laws of physics, and to make predictions about the behavior of complex systems. The development of mathematical theories and models has enabled scientists to make accurate predictions and to understand complex phenomena.\\n\\nOne of the most significant contributions of mathematics is the development of calculus. Calculus is a branch of mathematics that deals with the study of rates of change and accumulation. It was developed by Sir Isaac Newton and German mathematician Gottfried Wilhelm Leibniz in the 17th century. Calculus has had a profound impact on the development of science and technology. It has enabled us to understand and to describe complex phenomena such as the motion of objects, the behavior of electrical circuits, and the growth of populations.\\n\\nAnother significant contribution of mathematics to science is the development of probability theory. Probability theory is a branch of mathematics that deals with the study of chance and uncertainty. It was developed by French mathematicians Pierre de Fermat and Blaise Pascal in the 17th century. Probability theory has had a profound impact on the development of science and technology. It has enabled us to understand and to describe complex phenomena such as the behavior of subatomic particles, the spread of diseases, and the behavior of complex systems.\\n\\nMathematics has also made significant contributions to science. The development of algorithms and data structures has enabled us to develop efficient and effective computer programs and software. The development of cryptography has enabled us to secure communication and to protect sensitive information. The development of computer graphics has enabled us to create realistic and interactive images and simulations.\\n\\nIn addition to its contributions to science and technology, mathematics has also had a profound impact on our understanding of the world around us. The development of geometry has enabled us to understand the properties of shapes and spaces. The development of number theory has enabled us to understand the properties of numbers and their relationships.\\n\\nFurthermore, mathematics has also played a significant role in the development of medicine and healthcare. Mathematical models and simulations are used to understand the behavior of complex biological systems and to develop new treatments and medicines. Mathematical models are also used to understand the spread of diseases and to develop strategies for controlling and preventing the spread of diseases.\\n\\nIn conclusion, science and mathematics are closely intertwined. Mathematics provides a powerful tool for scientists to describe and to analyze the behavior of physical systems and phenomena. The development of mathematical theories and models has enabled scientists to make accurate predictions and to understand complex phenomena. The importance of mathematics in science cannot be overstated. It has enabled us to understand and to describe complex phenomena, to develop new technologies and products, and to improve our understanding of the world around us.\\n\\nScience and mathematics are essential components of modern society. They have enabled us to develop new technologies and products, to improve our understanding of the world around us, and to address complex problems and challenges. The importance of science and mathematics in our daily lives cannot be overstated. They have enabled us to live longer, healthier, and more productive lives.\\n\\nIn addition to its practical applications, science and mathematics have also had a profound impact on our understanding of the world around us. They have enabled us to understand and to describe complex phenomena, and to appreciate the beauty and complexity of the natural world.\\n\\nThe development of science and mathematics has also had a profound impact on our society and culture. It has enabled us to think critically and to solve complex problems. It has also enabled us to appreciate the importance of evidence and data in decision-making. The importance of science and mathematics in our daily lives cannot be overstated.\\n\\nIn conclusion, science and mathematics are essential components of modern society. They have enabled us to develop new technologies and products, to improve our understanding of the world around us, and to address complex problems and challenges. The importance of science and mathematics in our daily lives cannot be overstated. They have enabled us to live longer, healthier, and more productive lives.\\n\\nThe importance of science and mathematics in our daily lives cannot be overstated. They have enabled us to develop new technologies and products, to improve our understanding of the world around us, and to address complex problems and challenges.\\n\\nScience and mathematics have also had a profound impact on our understanding of the world around us. They have enabled us to understand and to describe complex phenomena, and to appreciate the beauty and complexity of the natural world.\\n\\nThe development of science and mathematics has also had a profound impact on our society and culture. It has enabled us to think critically and to solve complex problems. It has also enabled us to appreciate the importance of evidence and data in decision-making.\\n\\nIn conclusion, science and mathematics are essential components of modern society. They have enabled us to develop new technologies and products, to improve our understanding of the world around us, and to address complex problems and challenges. The importance of science and mathematics in our daily lives cannot be overstated. They have enabled us to live longer, healthier, and more productive lives.\\n\\nThe importance of science and mathematics in our daily lives cannot be overstated. They have enabled us to develop new technologies and products, to improve our understanding of the world around us, and to address complex problems and challenges.\\n\\nScience and mathematics have also had a profound impact on our understanding of the world around us. They have enabled us to understand and to describe complex phenomena, and to appreciate the beauty and complexity of the natural world.\\n\\nThe development of science and mathematics has also had a profound impact on our society and culture. It has enabled us to think critically and to solve complex problems. It has also enabled us to appreciate the importance of evidence and data in decision-making.\\n\\nIn conclusion, science and mathematics are essential components of modern society. They have enabled us to develop new technologies and products, to improve our understanding of the world around us, and to address complex problems and challenges. The importance of science and mathematics in our daily lives cannot be overstated. They have enabled us to live longer, healthier, and more productive lives.\\n\\nScience and mathematics have also had a profound impact on our understanding of the world around us. They have enabled us to understand and to describe complex phenomena, and to appreciate the beauty and complexity of the natural world.\\n\\nThe development of science and mathematics has also had a profound impact on our society and culture. It has enabled us to think critically and to solve complex problems. It has also enabled us to appreciate the importance of evidence and data in decision-making.\\n\\nIn conclusion, science and mathematics are essential components of modern society. They have enabled us to develop new technologies and products, to improve our understanding of the world around us, and to address complex problems and challenges. The importance of science and mathematics in our daily lives cannot be overstated. They have enabled us to live longer, healthier, and more productive lives.\\n\\nI hope this essay helps! Let me know if you have any further questions or if you'd like me to revise anything.\" additional_kwargs={} response_metadata={'token_usage': {'completion_tokens': 1684, 'prompt_tokens': 29, 'total_tokens': 1713, 'completion_time': 4.811428571, 'prompt_time': 0.000608165, 'queue_time': 0.054848933, 'total_time': 4.812036736}, 'model_name': 'llama3-70b-8192', 'system_fingerprint': 'fp_dd4ae1c591', 'finish_reason': 'stop', 'logprobs': None} id='run--8435daaf-1f0e-4891-bcf0-3b4a65008e66-0' usage_metadata={'input_tokens': 29, 'output_tokens': 1684, 'total_tokens': 1713}\n"
     ]
    }
   ],
   "source": [
    "# 👇 Ask something\n",
    "response = llm.invoke(\"give me 1000 lines of essay on science and give the importance of it regarding mathematics?\")\n",
    "print(\"LLM Response:\", response)"
   ]
  },
  {
   "cell_type": "code",
   "execution_count": 1,
   "metadata": {},
   "outputs": [
    {
     "name": "stdout",
     "output_type": "stream",
     "text": [
      "\n",
      "Cache Contents:\n"
     ]
    },
    {
     "ename": "NameError",
     "evalue": "name 'dbg_cache' is not defined",
     "output_type": "error",
     "traceback": [
      "\u001b[1;31m---------------------------------------------------------------------------\u001b[0m",
      "\u001b[1;31mNameError\u001b[0m                                 Traceback (most recent call last)",
      "Cell \u001b[1;32mIn[1], line 2\u001b[0m\n\u001b[0;32m      1\u001b[0m \u001b[38;5;28mprint\u001b[39m(\u001b[38;5;124m\"\u001b[39m\u001b[38;5;130;01m\\n\u001b[39;00m\u001b[38;5;124mCache Contents:\u001b[39m\u001b[38;5;124m\"\u001b[39m)\n\u001b[1;32m----> 2\u001b[0m \u001b[38;5;28;01mfor\u001b[39;00m k, v \u001b[38;5;129;01min\u001b[39;00m \u001b[43mdbg_cache\u001b[49m\u001b[38;5;241m.\u001b[39mview_cache()\u001b[38;5;241m.\u001b[39mitems():\n\u001b[0;32m      3\u001b[0m     \u001b[38;5;28mprint\u001b[39m(\u001b[38;5;124mf\u001b[39m\u001b[38;5;124m\"\u001b[39m\u001b[38;5;124mPrompt: \u001b[39m\u001b[38;5;132;01m{\u001b[39;00mk[\u001b[38;5;241m0\u001b[39m]\u001b[38;5;132;01m}\u001b[39;00m\u001b[38;5;124m | Cached Output: \u001b[39m\u001b[38;5;132;01m{\u001b[39;00mv\u001b[38;5;132;01m}\u001b[39;00m\u001b[38;5;124m\"\u001b[39m)\n",
      "\u001b[1;31mNameError\u001b[0m: name 'dbg_cache' is not defined"
     ]
    }
   ],
   "source": [
    "print(\"\\nCache Contents:\")\n",
    "for k, v in dbg_cache.view_cache().items():\n",
    "    print(f\"Prompt: {k[0]} | Cached Output: {v}\")"
   ]
  },
  {
   "cell_type": "code",
   "execution_count": 53,
   "metadata": {},
   "outputs": [
    {
     "name": "stdout",
     "output_type": "stream",
     "text": [
      "LLM Response: content=\"Here is a 1000-line essay on science and its importance regarding mathematics:\\n\\nScience is a systematic and structured approach to understanding the natural world around us. It involves the collection of data, formulation of hypotheses, and testing of these hypotheses through experimentation and observation. Science is a vast and diverse field that encompasses various disciplines such as physics, chemistry, biology, mathematics, and many others. Mathematics, in particular, is a fundamental component of science, and it plays a crucial role in the development of scientific theories and models.\\n\\nThe importance of science in our daily lives cannot be overstated. Science has led to numerous breakthroughs and innovations that have revolutionized the way we live, communicate, and travel. From the discovery of electricity to the development of computers and smartphones, science has had a profound impact on our daily lives. The application of scientific principles and theories has enabled us to harness the power of nature and has led to the development of new materials, technologies, and products.\\n\\nMathematics, as a branch of science, has played a vital role in the development of scientific theories and models. Mathematics provides a powerful tool for scientists to describe and analyze the behavior of physical systems and phenomena. Mathematical models and equations are used to describe the laws of physics, and to make predictions about the behavior of complex systems. The development of mathematical theories and models has enabled scientists to make accurate predictions and to understand complex phenomena.\\n\\nThe importance of mathematics in science cannot be overstated. Mathematics provides a common language for scientists to communicate and to describe complex phenomena. Mathematical equations and models are used to describe the laws of physics, and to make predictions about the behavior of complex systems. The development of mathematical theories and models has enabled scientists to make accurate predictions and to understand complex phenomena.\\n\\nOne of the most significant contributions of mathematics is the development of calculus. Calculus is a branch of mathematics that deals with the study of rates of change and accumulation. It was developed by Sir Isaac Newton and German mathematician Gottfried Wilhelm Leibniz in the 17th century. Calculus has had a profound impact on the development of science and technology. It has enabled us to understand and to describe complex phenomena such as the motion of objects, the behavior of electrical circuits, and the growth of populations.\\n\\nAnother significant contribution of mathematics to science is the development of probability theory. Probability theory is a branch of mathematics that deals with the study of chance and uncertainty. It was developed by French mathematicians Pierre de Fermat and Blaise Pascal in the 17th century. Probability theory has had a profound impact on the development of science and technology. It has enabled us to understand and to describe complex phenomena such as the behavior of subatomic particles, the spread of diseases, and the behavior of complex systems.\\n\\nMathematics has also made significant contributions to science. The development of algorithms and data structures has enabled us to develop efficient and effective computer programs and software. The development of cryptography has enabled us to secure communication and to protect sensitive information. The development of computer graphics has enabled us to create realistic and interactive images and simulations.\\n\\nIn addition to its contributions to science and technology, mathematics has also had a profound impact on our understanding of the world around us. The development of geometry has enabled us to understand the properties of shapes and spaces. The development of number theory has enabled us to understand the properties of numbers and their relationships.\\n\\nFurthermore, mathematics has also played a significant role in the development of medicine and healthcare. Mathematical models and simulations are used to understand the behavior of complex biological systems and to develop new treatments and medicines. Mathematical models are also used to understand the spread of diseases and to develop strategies for controlling and preventing the spread of diseases.\\n\\nIn conclusion, science and mathematics are closely intertwined. Mathematics provides a powerful tool for scientists to describe and to analyze the behavior of physical systems and phenomena. The development of mathematical theories and models has enabled scientists to make accurate predictions and to understand complex phenomena. The importance of mathematics in science cannot be overstated. It has enabled us to understand and to describe complex phenomena, to develop new technologies and products, and to improve our understanding of the world around us.\\n\\nScience and mathematics are essential components of modern society. They have enabled us to develop new technologies and products, to improve our understanding of the world around us, and to address complex problems and challenges. The importance of science and mathematics in our daily lives cannot be overstated. They have enabled us to live longer, healthier, and more productive lives.\\n\\nIn addition to its practical applications, science and mathematics have also had a profound impact on our understanding of the world around us. They have enabled us to understand and to describe complex phenomena, and to appreciate the beauty and complexity of the natural world.\\n\\nThe development of science and mathematics has also had a profound impact on our society and culture. It has enabled us to think critically and to solve complex problems. It has also enabled us to appreciate the importance of evidence and data in decision-making. The importance of science and mathematics in our daily lives cannot be overstated.\\n\\nIn conclusion, science and mathematics are essential components of modern society. They have enabled us to develop new technologies and products, to improve our understanding of the world around us, and to address complex problems and challenges. The importance of science and mathematics in our daily lives cannot be overstated. They have enabled us to live longer, healthier, and more productive lives.\\n\\nThe importance of science and mathematics in our daily lives cannot be overstated. They have enabled us to develop new technologies and products, to improve our understanding of the world around us, and to address complex problems and challenges.\\n\\nScience and mathematics have also had a profound impact on our understanding of the world around us. They have enabled us to understand and to describe complex phenomena, and to appreciate the beauty and complexity of the natural world.\\n\\nThe development of science and mathematics has also had a profound impact on our society and culture. It has enabled us to think critically and to solve complex problems. It has also enabled us to appreciate the importance of evidence and data in decision-making.\\n\\nIn conclusion, science and mathematics are essential components of modern society. They have enabled us to develop new technologies and products, to improve our understanding of the world around us, and to address complex problems and challenges. The importance of science and mathematics in our daily lives cannot be overstated. They have enabled us to live longer, healthier, and more productive lives.\\n\\nThe importance of science and mathematics in our daily lives cannot be overstated. They have enabled us to develop new technologies and products, to improve our understanding of the world around us, and to address complex problems and challenges.\\n\\nScience and mathematics have also had a profound impact on our understanding of the world around us. They have enabled us to understand and to describe complex phenomena, and to appreciate the beauty and complexity of the natural world.\\n\\nThe development of science and mathematics has also had a profound impact on our society and culture. It has enabled us to think critically and to solve complex problems. It has also enabled us to appreciate the importance of evidence and data in decision-making.\\n\\nIn conclusion, science and mathematics are essential components of modern society. They have enabled us to develop new technologies and products, to improve our understanding of the world around us, and to address complex problems and challenges. The importance of science and mathematics in our daily lives cannot be overstated. They have enabled us to live longer, healthier, and more productive lives.\\n\\nScience and mathematics have also had a profound impact on our understanding of the world around us. They have enabled us to understand and to describe complex phenomena, and to appreciate the beauty and complexity of the natural world.\\n\\nThe development of science and mathematics has also had a profound impact on our society and culture. It has enabled us to think critically and to solve complex problems. It has also enabled us to appreciate the importance of evidence and data in decision-making.\\n\\nIn conclusion, science and mathematics are essential components of modern society. They have enabled us to develop new technologies and products, to improve our understanding of the world around us, and to address complex problems and challenges. The importance of science and mathematics in our daily lives cannot be overstated. They have enabled us to live longer, healthier, and more productive lives.\\n\\nI hope this essay helps! Let me know if you have any further questions or if you'd like me to revise anything.\" additional_kwargs={} response_metadata={'token_usage': {'completion_tokens': 1684, 'prompt_tokens': 29, 'total_tokens': 1713, 'completion_time': 4.811428571, 'prompt_time': 0.000608165, 'queue_time': 0.054848933, 'total_time': 4.812036736}, 'model_name': 'llama3-70b-8192', 'system_fingerprint': 'fp_dd4ae1c591', 'finish_reason': 'stop', 'logprobs': None} id='run--8435daaf-1f0e-4891-bcf0-3b4a65008e66-0' usage_metadata={'input_tokens': 29, 'output_tokens': 1684, 'total_tokens': 1713}\n"
     ]
    }
   ],
   "source": [
    "# 👇 Ask something\n",
    "response = llm.invoke(\"give me 1000 lines of essay on science and give the importance of it regarding mathematics?\")\n",
    "print(\"LLM Response:\", response)"
   ]
  },
  {
   "cell_type": "code",
   "execution_count": null,
   "metadata": {},
   "outputs": [],
   "source": []
  }
 ],
 "metadata": {
  "kernelspec": {
   "display_name": "Python 3",
   "language": "python",
   "name": "python3"
  },
  "language_info": {
   "codemirror_mode": {
    "name": "ipython",
    "version": 3
   },
   "file_extension": ".py",
   "mimetype": "text/x-python",
   "name": "python",
   "nbconvert_exporter": "python",
   "pygments_lexer": "ipython3",
   "version": "3.10.16"
  }
 },
 "nbformat": 4,
 "nbformat_minor": 2
}
