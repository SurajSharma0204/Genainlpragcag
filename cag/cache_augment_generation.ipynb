{
 "cells": [
  {
   "cell_type": "code",
   "execution_count": 80,
   "metadata": {},
   "outputs": [],
   "source": [
    "import os\n",
    "os.environ[\"GROQ_API_KEY\"] = os.getenv(\"GROQ_API_KEY\")"
   ]
  },
  {
   "cell_type": "code",
   "execution_count": 81,
   "metadata": {},
   "outputs": [],
   "source": [
    "from langchain_groq import ChatGroq\n",
    "llm = ChatGroq(model=\"llama3-70b-8192\")"
   ]
  },
  {
   "cell_type": "code",
   "execution_count": 114,
   "metadata": {},
   "outputs": [],
   "source": [
    "# Wrap with cache\n",
    "Model_Cache = {}"
   ]
  },
  {
   "cell_type": "code",
   "execution_count": 115,
   "metadata": {},
   "outputs": [],
   "source": [
    "import time\n",
    "def cached_model(query):\n",
    "    start_time = time.time()\n",
    "    if Model_Cache.get(query):\n",
    "        print(\"***CACHE HIT***\")\n",
    "        end_time = time.time()\n",
    "        elapsed = end_time - start_time\n",
    "        print(f\"EXECUTION TIME: {elapsed:.2f} seconds\")\n",
    "        return Model_Cache.get(query)\n",
    "    else:\n",
    "        print(\"***CACHE MISS – EXECUTING MODEL***\")\n",
    "        start_time = time.time()\n",
    "        response = llm.invoke(query)\n",
    "        end_time = time.time()\n",
    "        elapsed = end_time - start_time\n",
    "        print(f\"EXECUTION TIME: {elapsed:.2f} seconds\")\n",
    "        Model_Cache[query] = response\n",
    "        return response"
   ]
  },
  {
   "cell_type": "code",
   "execution_count": 116,
   "metadata": {},
   "outputs": [
    {
     "name": "stdout",
     "output_type": "stream",
     "text": [
      "***CACHE MISS – EXECUTING MODEL***\n",
      "EXECUTION TIME: 0.00 seconds\n",
      "content=\"Hi! It's nice to meet you. Is there something I can help you with or would you like to chat?\" additional_kwargs={} response_metadata={'token_usage': {'completion_tokens': 25, 'prompt_tokens': 11, 'total_tokens': 36, 'completion_time': 0.071428571, 'prompt_time': 0.000210248, 'queue_time': 0.059934141999999996, 'total_time': 0.071638819}, 'model_name': 'llama3-70b-8192', 'system_fingerprint': 'fp_dd4ae1c591', 'finish_reason': 'stop', 'logprobs': None} id='run--6c1a48f0-5cbf-4810-88f6-4dc1ecfa5d09-0' usage_metadata={'input_tokens': 11, 'output_tokens': 25, 'total_tokens': 36}\n"
     ]
    }
   ],
   "source": [
    "query=\"hi\"\n",
    "response = cached_model(query)\n",
    "print(response)"
   ]
  },
  {
   "cell_type": "code",
   "execution_count": 117,
   "metadata": {},
   "outputs": [
    {
     "name": "stdout",
     "output_type": "stream",
     "text": [
      "***CACHE MISS – EXECUTING MODEL***\n",
      "EXECUTION TIME: 0.00 seconds\n",
      "content=\"Here is a 1000-word essay on independence:\\n\\nIndependence: The Cornerstone of Freedom and Prosperity\\n\\nIndependence is a fundamental concept that has been debated, fought for, and cherished by individuals and nations throughout history. It is the state of being free from outside control or support, allowing individuals or nations to make their own choices, decisions, and destinies. Independence is not just a political concept, but also an economic, social, and cultural ideal that is essential for human flourishing.\\n\\nThe importance of independence can be traced back to the earliest human civilizations. In ancient Greece, for example, independence was seen as a fundamental right of citizens, who were free to participate in the governance of their city-states. The concept of independence was also central to the Roman Republic, where citizens enjoyed a high degree of autonomy and self-governance. The idea of independence was also a driving force behind the American Revolution, where the colonies sought to break free from British rule and establish their own sovereign nation.\\n\\nOne of the most significant benefits of independence is the promotion of democracy and self-governance. When individuals or nations are free from external control, they are able to exercise their right to participate in the decision-making process, elect their leaders, and hold them accountable. This leads to a more responsive and accountable government, which is essential for the protection of individual rights and freedoms. In independent nations, citizens are able to express their opinions, engage in free speech, and enjoy the protection of the rule of law.\\n\\nIndependence also plays a crucial role in promoting economic prosperity. When nations are free to make their own economic decisions, they are able to pursue their own development strategies, exploit their natural resources, and engage in free trade with other nations. This leads to economic growth, job creation, and improved standards of living. In independent nations, innovation and entrepreneurship are encouraged, leading to the development of new industries, technologies, and services.\\n\\nFurthermore, independence is essential for preserving cultural identity and diversity. When nations are free from external control, they are able to preserve their own languages, customs, traditions, and values. This promotes cultural diversity, which is essential for human progress and understanding. In independent nations, artists, writers, and intellectuals are able to express themselves freely, leading to the creation of new works of art, literature, and music.\\n\\nIn addition, independence is essential for promoting international peace and security. When nations are free from external control, they are able to pursue their own foreign policy objectives, engage in international relations, and participate in international organizations. This leads to a more stable and peaceful international order, where nations are able to resolve their differences through diplomacy and dialogue. In independent nations, the pursuit of national interest is not compromised by external influence of other nations.\\n\\nDespite its many benefits, independence is not without its challenges. One of the major challenges is the need for self-reliance and self-sufficiency. Independent nations must be able to manage their own affairs, provide for their own security, and meet their own economic needs. This requires a high degree of economic, political, and military capability, which can be a challenge for many nations.\\n\\nAnother challenge of independence is the need for good governance and leadership. Independent nations require effective and accountable leaders who are able to make informed decisions, manage resources effectively, and promote the national interest. In the absence of good governance, independent nations can experience political instability, corruption, and economic stagnation.\\n\\nFurthermore, independence is a fundamental human right that is essential for individual and national development. It allows individuals and nations to make their own choices, decisions, and destinies, promoting democracy, economic prosperity, cultural diversity, and international peace and security. While it is not without its challenges, independence is a cornerstone of human freedom and prosperity, and its importance cannot be overstated.\\n\\nIn conclusion, independence is a multifaceted concept that is essential for human flourishing. It promotes democracy, economic prosperity, cultural diversity, and international peace and security. While it requires self-reliance, good governance, and effective leadership, its benefits far outweigh its challenges. As we reflect on the importance of independence, we must recognize its significance in shaping our individual and national destinies, and strive to promote and protect it for generations to come.**\\n\\nPlease note that this essay is not perfect and can be improved upon. Also, it's a general essay and might not be specific to a particular country or region.\" additional_kwargs={} response_metadata={'token_usage': {'completion_tokens': 893, 'prompt_tokens': 22, 'total_tokens': 915, 'completion_time': 2.786516302, 'prompt_time': 0.000418044, 'queue_time': 0.055508276, 'total_time': 2.786934346}, 'model_name': 'llama3-70b-8192', 'system_fingerprint': 'fp_dd4ae1c591', 'finish_reason': 'stop', 'logprobs': None} id='run--d87ee8a5-5165-4d86-bfd7-74a8638641ba-0' usage_metadata={'input_tokens': 22, 'output_tokens': 893, 'total_tokens': 915}\n"
     ]
    }
   ],
   "source": [
    "query=\"can you give me 1000 words essay on independence?\"\n",
    "response = cached_model(query)\n",
    "print(response)"
   ]
  },
  {
   "cell_type": "code",
   "execution_count": 111,
   "metadata": {},
   "outputs": [
    {
     "name": "stdout",
     "output_type": "stream",
     "text": [
      "***CACHE HIT***\n",
      "EXECUTION TIME: 0.00 seconds\n",
      "content=\"Here is a 1000-word essay on independence:\\n\\nIndependence: The Cornerstone of Freedom and Prosperity\\n\\nIndependence is a fundamental concept that has been debated, fought for, and cherished by individuals and nations throughout history. It is the state of being free from outside control or support, allowing individuals or nations to make their own choices, decisions, and destinies. Independence is not just a political concept, but also an economic, social, and cultural ideal that is essential for human flourishing.\\n\\nThe importance of independence can be traced back to the earliest human civilizations. In ancient Greece, for example, independence was seen as a fundamental right of citizens, who were free to participate in the governance of their city-states. The concept of independence was also central to the Roman Republic, where citizens enjoyed a high degree of autonomy and self-governance. The idea of independence was also a driving force behind the American Revolution, where the colonies sought to break free from British rule and establish their own sovereign nation.\\n\\nOne of the most significant benefits of independence is the promotion of democracy and self-governance. When individuals or nations are free from external control, they are able to exercise their right to participate in the decision-making process, elect their leaders, and hold them accountable. This leads to a more responsive and accountable government, which is essential for the protection of individual rights and freedoms. In independent nations, citizens are able to express their opinions, engage in free speech, and enjoy the protection of the rule of law.\\n\\nIndependence also plays a crucial role in promoting economic prosperity. When nations are free to make their own economic decisions, they are able to pursue their own development strategies, exploit their natural resources, and engage in free trade with other nations. This leads to economic growth, job creation, and improved standards of living. In independent nations, innovation and entrepreneurship are encouraged, leading to the development of new industries, technologies, and services.\\n\\nFurthermore, independence is essential for preserving cultural identity and diversity. When nations are free from external control, they are able to preserve their own languages, customs, traditions, and values. This promotes cultural diversity, which is essential for human progress and understanding. In independent nations, artists, writers, and intellectuals are able to express themselves freely, leading to the creation of new works of art, literature, and music.\\n\\nIn addition, independence is essential for promoting international peace and security. When nations are free from external control, they are able to pursue their own foreign policy objectives, engage in international relations, and participate in international organizations. This leads to a more stable and peaceful international order, where nations are able to resolve their differences through diplomacy and dialogue. In independent nations, the pursuit of national interest is not compromised by external influence of other nations.\\n\\nDespite its many benefits, independence is not without its challenges. One of the major challenges is the need for self-reliance and self-sufficiency. Independent nations must be able to manage their own affairs, provide for their own security, and meet their own economic needs. This requires a high degree of economic, political, and military capability, which can be a challenge for many nations.\\n\\nAnother challenge of independence is the need for good governance and leadership. Independent nations require effective and accountable leaders who are able to make informed decisions, manage resources effectively, and promote the national interest. In the absence of good governance, independent nations can experience political instability, corruption, and economic stagnation.\\n\\nFurthermore, independence is a fundamental human right that is essential for individual and national development. It allows individuals and nations to make their own choices, decisions, and destinies, promoting democracy, economic prosperity, cultural diversity, and international peace and security. While it is not without its challenges, independence is a cornerstone of human freedom and prosperity, and its importance cannot be overstated.\\n\\nIn conclusion, independence is a multifaceted concept that is essential for human flourishing. It promotes democracy, economic prosperity, cultural diversity, and international peace and security. While it requires self-reliance, good governance, and effective leadership, its benefits far outweigh its challenges. As we reflect on the importance of independence, we must recognize its significance in shaping our individual and national destinies, and strive to promote and protect it for generations to come.**\\n\\nPlease note that this essay is not perfect and can be improved upon. Also, it's a general essay and might not be specific to a particular country or region.\" additional_kwargs={} response_metadata={'token_usage': {'completion_tokens': 893, 'prompt_tokens': 22, 'total_tokens': 915, 'completion_time': 2.786516302, 'prompt_time': 0.000418044, 'queue_time': 0.055508276, 'total_time': 2.786934346}, 'model_name': 'llama3-70b-8192', 'system_fingerprint': 'fp_dd4ae1c591', 'finish_reason': 'stop', 'logprobs': None} id='run--d87ee8a5-5165-4d86-bfd7-74a8638641ba-0' usage_metadata={'input_tokens': 22, 'output_tokens': 893, 'total_tokens': 915}\n"
     ]
    }
   ],
   "source": [
    "query=\"can you give me 1000 words essay on independence?\"\n",
    "response = cached_model(query)\n",
    "print(response)"
   ]
  },
  {
   "cell_type": "code",
   "execution_count": 119,
   "metadata": {},
   "outputs": [
    {
     "name": "stdout",
     "output_type": "stream",
     "text": [
      "***CACHE MISS – EXECUTING MODEL***\n",
      "EXECUTION TIME: 0.00 seconds\n",
      "content='Here are 10 differences between Machine Learning (ML) and Deep Learning (DL):\\n\\n**1.** **Architecture**: ML models are typically linear or use simple neural networks, whereas DL models use complex neural networks with multiple layers, such as convolutional neural networks (CNNs) and recurrent neural networks (RNNs).\\n\\n**2.** **Data Requirements**: ML models can work with small to medium-sized datasets, whereas DL models require large amounts of data to train accurately.\\n\\n**3.** **Accuracy**: DL models generally achieve higher accuracy than ML models, especially in tasks such as image and speech recognition.\\n\\n**4.** **Complexity**: DL models are more complex and computationally expensive to train than ML models.\\n\\n**5.** **Interpretability**: ML models are generally more interpretable than DL models, as the relationships between inputs and outputs are easier to understand.\\n\\n**6.** **Training Time**: DL models take significantly longer to train than ML models, often requiring days or even weeks.\\n\\n**7.** **Hardware Requirements**: DL models require specialized hardware such as graphics processing units (GPUs) and tensor processing units (TPUs) to train efficiently, whereas ML models can run on standard CPUs.\\n\\n**8.** **Overfitting**: DL models are more prone to overfitting than ML models, especially when dealing with small datasets.\\n\\n**9.** **Problem Solving**: ML models are better suited for solving structured data problems, whereas DL models are better suited for solving unstructured data problems, such as images, speech, and text.\\n\\n**10.** **Applications**: ML models are widely used in areas such as predictive maintenance, recommender systems, and sentiment analysis, whereas DL models are commonly used in areas such as computer vision, natural language processing, and autonomous vehicles.\\n\\nKeep in mind that these differences are not always hard and fast, and there is some overlap between ML and DL.' additional_kwargs={} response_metadata={'token_usage': {'completion_tokens': 390, 'prompt_tokens': 22, 'total_tokens': 412, 'completion_time': 1.114285714, 'prompt_time': 0.000632341, 'queue_time': 0.053679599, 'total_time': 1.114918055}, 'model_name': 'llama3-70b-8192', 'system_fingerprint': 'fp_dd4ae1c591', 'finish_reason': 'stop', 'logprobs': None} id='run--d936c6c0-c612-4d17-8c0b-a354c7e840e6-0' usage_metadata={'input_tokens': 22, 'output_tokens': 390, 'total_tokens': 412}\n"
     ]
    }
   ],
   "source": [
    "query=\"can you give me 10 differences between ML and DL?\"\n",
    "response = cached_model(query)\n",
    "print(response)"
   ]
  },
  {
   "cell_type": "code",
   "execution_count": 120,
   "metadata": {},
   "outputs": [
    {
     "name": "stdout",
     "output_type": "stream",
     "text": [
      "***CACHE HIT***\n",
      "EXECUTION TIME: 0.00 seconds\n",
      "content='Here are 10 differences between Machine Learning (ML) and Deep Learning (DL):\\n\\n**1.** **Architecture**: ML models are typically linear or use simple neural networks, whereas DL models use complex neural networks with multiple layers, such as convolutional neural networks (CNNs) and recurrent neural networks (RNNs).\\n\\n**2.** **Data Requirements**: ML models can work with small to medium-sized datasets, whereas DL models require large amounts of data to train accurately.\\n\\n**3.** **Accuracy**: DL models generally achieve higher accuracy than ML models, especially in tasks such as image and speech recognition.\\n\\n**4.** **Complexity**: DL models are more complex and computationally expensive to train than ML models.\\n\\n**5.** **Interpretability**: ML models are generally more interpretable than DL models, as the relationships between inputs and outputs are easier to understand.\\n\\n**6.** **Training Time**: DL models take significantly longer to train than ML models, often requiring days or even weeks.\\n\\n**7.** **Hardware Requirements**: DL models require specialized hardware such as graphics processing units (GPUs) and tensor processing units (TPUs) to train efficiently, whereas ML models can run on standard CPUs.\\n\\n**8.** **Overfitting**: DL models are more prone to overfitting than ML models, especially when dealing with small datasets.\\n\\n**9.** **Problem Solving**: ML models are better suited for solving structured data problems, whereas DL models are better suited for solving unstructured data problems, such as images, speech, and text.\\n\\n**10.** **Applications**: ML models are widely used in areas such as predictive maintenance, recommender systems, and sentiment analysis, whereas DL models are commonly used in areas such as computer vision, natural language processing, and autonomous vehicles.\\n\\nKeep in mind that these differences are not always hard and fast, and there is some overlap between ML and DL.' additional_kwargs={} response_metadata={'token_usage': {'completion_tokens': 390, 'prompt_tokens': 22, 'total_tokens': 412, 'completion_time': 1.114285714, 'prompt_time': 0.000632341, 'queue_time': 0.053679599, 'total_time': 1.114918055}, 'model_name': 'llama3-70b-8192', 'system_fingerprint': 'fp_dd4ae1c591', 'finish_reason': 'stop', 'logprobs': None} id='run--d936c6c0-c612-4d17-8c0b-a354c7e840e6-0' usage_metadata={'input_tokens': 22, 'output_tokens': 390, 'total_tokens': 412}\n"
     ]
    }
   ],
   "source": [
    "query=\"can you give me 10 differences between ML and DL?\"\n",
    "response = cached_model(query)\n",
    "print(response)"
   ]
  },
  {
   "cell_type": "code",
   "execution_count": 121,
   "metadata": {},
   "outputs": [
    {
     "data": {
      "text/plain": [
       "{'hi': AIMessage(content=\"Hi! It's nice to meet you. Is there something I can help you with or would you like to chat?\", additional_kwargs={}, response_metadata={'token_usage': {'completion_tokens': 25, 'prompt_tokens': 11, 'total_tokens': 36, 'completion_time': 0.071428571, 'prompt_time': 0.000210248, 'queue_time': 0.059934141999999996, 'total_time': 0.071638819}, 'model_name': 'llama3-70b-8192', 'system_fingerprint': 'fp_dd4ae1c591', 'finish_reason': 'stop', 'logprobs': None}, id='run--6c1a48f0-5cbf-4810-88f6-4dc1ecfa5d09-0', usage_metadata={'input_tokens': 11, 'output_tokens': 25, 'total_tokens': 36}),\n",
       " 'can you give me 1000 words essay on independence?': AIMessage(content=\"Here is a 1000-word essay on independence:\\n\\nIndependence: The Cornerstone of Freedom and Prosperity\\n\\nIndependence is a fundamental concept that has been debated, fought for, and cherished by individuals and nations throughout history. It is the state of being free from outside control or support, allowing individuals or nations to make their own choices, decisions, and destinies. Independence is not just a political concept, but also an economic, social, and cultural ideal that is essential for human flourishing.\\n\\nThe importance of independence can be traced back to the earliest human civilizations. In ancient Greece, for example, independence was seen as a fundamental right of citizens, who were free to participate in the governance of their city-states. The concept of independence was also central to the Roman Republic, where citizens enjoyed a high degree of autonomy and self-governance. The idea of independence was also a driving force behind the American Revolution, where the colonies sought to break free from British rule and establish their own sovereign nation.\\n\\nOne of the most significant benefits of independence is the promotion of democracy and self-governance. When individuals or nations are free from external control, they are able to exercise their right to participate in the decision-making process, elect their leaders, and hold them accountable. This leads to a more responsive and accountable government, which is essential for the protection of individual rights and freedoms. In independent nations, citizens are able to express their opinions, engage in free speech, and enjoy the protection of the rule of law.\\n\\nIndependence also plays a crucial role in promoting economic prosperity. When nations are free to make their own economic decisions, they are able to pursue their own development strategies, exploit their natural resources, and engage in free trade with other nations. This leads to economic growth, job creation, and improved standards of living. In independent nations, innovation and entrepreneurship are encouraged, leading to the development of new industries, technologies, and services.\\n\\nFurthermore, independence is essential for preserving cultural identity and diversity. When nations are free from external control, they are able to preserve their own languages, customs, traditions, and values. This promotes cultural diversity, which is essential for human progress and understanding. In independent nations, artists, writers, and intellectuals are able to express themselves freely, leading to the creation of new works of art, literature, and music.\\n\\nIn addition, independence is essential for promoting international peace and security. When nations are free from external control, they are able to pursue their own foreign policy objectives, engage in international relations, and participate in international organizations. This leads to a more stable and peaceful international order, where nations are able to resolve their differences through diplomacy and dialogue. In independent nations, the pursuit of national interest is not compromised by external influence of other nations.\\n\\nDespite its many benefits, independence is not without its challenges. One of the major challenges is the need for self-reliance and self-sufficiency. Independent nations must be able to manage their own affairs, provide for their own security, and meet their own economic needs. This requires a high degree of economic, political, and military capability, which can be a challenge for many nations.\\n\\nAnother challenge of independence is the need for good governance and leadership. Independent nations require effective and accountable leaders who are able to make informed decisions, manage resources effectively, and promote the national interest. In the absence of good governance, independent nations can experience political instability, corruption, and economic stagnation.\\n\\nFurthermore, independence is a fundamental human right that is essential for individual and national development. It allows individuals and nations to make their own choices, decisions, and destinies, promoting democracy, economic prosperity, cultural diversity, and international peace and security. While it is not without its challenges, independence is a cornerstone of human freedom and prosperity, and its importance cannot be overstated.\\n\\nIn conclusion, independence is a multifaceted concept that is essential for human flourishing. It promotes democracy, economic prosperity, cultural diversity, and international peace and security. While it requires self-reliance, good governance, and effective leadership, its benefits far outweigh its challenges. As we reflect on the importance of independence, we must recognize its significance in shaping our individual and national destinies, and strive to promote and protect it for generations to come.**\\n\\nPlease note that this essay is not perfect and can be improved upon. Also, it's a general essay and might not be specific to a particular country or region.\", additional_kwargs={}, response_metadata={'token_usage': {'completion_tokens': 893, 'prompt_tokens': 22, 'total_tokens': 915, 'completion_time': 2.786516302, 'prompt_time': 0.000418044, 'queue_time': 0.055508276, 'total_time': 2.786934346}, 'model_name': 'llama3-70b-8192', 'system_fingerprint': 'fp_dd4ae1c591', 'finish_reason': 'stop', 'logprobs': None}, id='run--d87ee8a5-5165-4d86-bfd7-74a8638641ba-0', usage_metadata={'input_tokens': 22, 'output_tokens': 893, 'total_tokens': 915}),\n",
       " 'can you give me 10 differences between ML and DL?': AIMessage(content='Here are 10 differences between Machine Learning (ML) and Deep Learning (DL):\\n\\n**1.** **Architecture**: ML models are typically linear or use simple neural networks, whereas DL models use complex neural networks with multiple layers, such as convolutional neural networks (CNNs) and recurrent neural networks (RNNs).\\n\\n**2.** **Data Requirements**: ML models can work with small to medium-sized datasets, whereas DL models require large amounts of data to train accurately.\\n\\n**3.** **Accuracy**: DL models generally achieve higher accuracy than ML models, especially in tasks such as image and speech recognition.\\n\\n**4.** **Complexity**: DL models are more complex and computationally expensive to train than ML models.\\n\\n**5.** **Interpretability**: ML models are generally more interpretable than DL models, as the relationships between inputs and outputs are easier to understand.\\n\\n**6.** **Training Time**: DL models take significantly longer to train than ML models, often requiring days or even weeks.\\n\\n**7.** **Hardware Requirements**: DL models require specialized hardware such as graphics processing units (GPUs) and tensor processing units (TPUs) to train efficiently, whereas ML models can run on standard CPUs.\\n\\n**8.** **Overfitting**: DL models are more prone to overfitting than ML models, especially when dealing with small datasets.\\n\\n**9.** **Problem Solving**: ML models are better suited for solving structured data problems, whereas DL models are better suited for solving unstructured data problems, such as images, speech, and text.\\n\\n**10.** **Applications**: ML models are widely used in areas such as predictive maintenance, recommender systems, and sentiment analysis, whereas DL models are commonly used in areas such as computer vision, natural language processing, and autonomous vehicles.\\n\\nKeep in mind that these differences are not always hard and fast, and there is some overlap between ML and DL.', additional_kwargs={}, response_metadata={'token_usage': {'completion_tokens': 390, 'prompt_tokens': 22, 'total_tokens': 412, 'completion_time': 1.114285714, 'prompt_time': 0.000632341, 'queue_time': 0.053679599, 'total_time': 1.114918055}, 'model_name': 'llama3-70b-8192', 'system_fingerprint': 'fp_dd4ae1c591', 'finish_reason': 'stop', 'logprobs': None}, id='run--d936c6c0-c612-4d17-8c0b-a354c7e840e6-0', usage_metadata={'input_tokens': 22, 'output_tokens': 390, 'total_tokens': 412})}"
      ]
     },
     "execution_count": 121,
     "metadata": {},
     "output_type": "execute_result"
    }
   ],
   "source": [
    "Model_Cache"
   ]
  },
  {
   "cell_type": "code",
   "execution_count": 122,
   "metadata": {},
   "outputs": [],
   "source": [
    "from langchain_community.embeddings import HuggingFaceEmbeddings\n",
    "\n",
    "embedding_model = HuggingFaceEmbeddings(\n",
    "    model_name=\"sentence-transformers/all-MiniLM-L6-v2\"\n",
    ")"
   ]
  },
  {
   "cell_type": "code",
   "execution_count": 123,
   "metadata": {},
   "outputs": [],
   "source": [
    "from langchain_community.vectorstores import Chroma\n",
    "from langchain_core.prompts import PromptTemplate\n",
    "from langchain_core.runnables import RunnableMap, RunnablePassthrough\n",
    "from langchain_core.output_parsers import StrOutputParser"
   ]
  },
  {
   "cell_type": "code",
   "execution_count": 124,
   "metadata": {},
   "outputs": [],
   "source": [
    "from langchain.schema import Document\n",
    "\n",
    "documents = [\n",
    "    Document(page_content=\"The Earth is the third planet from the Sun and the only known planet to support life. It has a diverse climate, ranging from arctic to tropical zones, and supports ecosystems across seven continents and five oceans.\"),\n",
    "\n",
    "    Document(page_content=\"The Industrial Revolution, beginning in the 18th century, drastically transformed human societies by shifting from manual labor to machine-based manufacturing, leading to urbanization and economic expansion globally.\"),\n",
    "\n",
    "    Document(page_content=\"The United Nations, established in 1945 after World War II, is an international organization founded to promote peace, security, human rights, and cooperation among countries. It has 193 member states.\"),\n",
    "\n",
    "    Document(page_content=\"The global economy is an interconnected system involving trade, investment, and financial flows across countries. Major players include the United States, China, the European Union, and emerging markets like India and Brazil.\"),\n",
    "\n",
    "    Document(page_content=\"Climate change refers to long-term shifts in temperatures and weather patterns. It is largely driven by human activities like burning fossil fuels, deforestation, and industrial emissions, leading to global warming and sea level rise.\"),\n",
    "\n",
    "    Document(page_content=\"Democracy is a political system in which citizens exercise power by voting. Modern democracies typically have institutions for free elections, rule of law, freedom of expression, and checks and balances.\"),\n",
    "\n",
    "    Document(page_content=\"The Internet has revolutionized communication, commerce, and education worldwide. Originating from military research in the 1960s, it now connects over 5 billion people, enabling instant global information exchange.\"),\n",
    "\n",
    "    Document(page_content=\"Renewable energy sources like solar, wind, hydro, and geothermal are critical for a sustainable future. They offer alternatives to fossil fuels, reducing carbon emissions and reliance on finite resources.\"),\n",
    "\n",
    "    Document(page_content=\"The World Health Organization (WHO) is a UN agency focused on global health issues. It coordinates international efforts to monitor diseases, set health standards, and respond to pandemics like COVID-19.\"),\n",
    "\n",
    "    Document(page_content=\"Globalization is the process of increasing interaction and integration among people, companies, and governments worldwide. It has led to greater economic growth but also raised concerns about inequality and cultural homogenization.\")\n",
    "]\n"
   ]
  },
  {
   "cell_type": "code",
   "execution_count": 125,
   "metadata": {},
   "outputs": [],
   "source": [
    "# Chroma vector DB with persistent storage\n",
    "vector_store = Chroma.from_documents(\n",
    "    documents=documents,\n",
    "    embedding=embedding_model,\n",
    "    persist_directory=\"./chroma_db\"  # Disk path for persistence\n",
    ")"
   ]
  },
  {
   "cell_type": "code",
   "execution_count": 126,
   "metadata": {},
   "outputs": [],
   "source": [
    "# Optional: Persist manually (though auto-persistence happens internally)\n",
    "vector_store.persist()"
   ]
  },
  {
   "cell_type": "code",
   "execution_count": 127,
   "metadata": {},
   "outputs": [],
   "source": [
    "retriever = vector_store.as_retriever()"
   ]
  },
  {
   "cell_type": "code",
   "execution_count": 128,
   "metadata": {},
   "outputs": [],
   "source": [
    "prompt = PromptTemplate.from_template(\n",
    "    \"\"\"\n",
    "    Use the following context to answer the question.\n",
    "    If you don't know the answer, just say you don't know. Don't try to make up an answer.\n",
    "\n",
    "    Context:\n",
    "    {context}\n",
    "\n",
    "    Question:\n",
    "    {question}\n",
    "\n",
    "    Answer:\n",
    "    \"\"\"\n",
    ")\n",
    "\n",
    "# LCEL RAG Chain step-by-step\n",
    "rag_chain = (\n",
    "    RunnableMap({\n",
    "        \"context\": retriever | (lambda docs: \"\\n\\n\".join([doc.page_content for doc in docs])),\n",
    "        \"question\": RunnablePassthrough()\n",
    "    })\n",
    "    | prompt\n",
    "    | llm\n",
    "    | StrOutputParser()\n",
    ")"
   ]
  },
  {
   "cell_type": "code",
   "execution_count": 129,
   "metadata": {},
   "outputs": [],
   "source": [
    "# Wrap with cache\n",
    "RAG_Cache = {}"
   ]
  },
  {
   "cell_type": "code",
   "execution_count": 130,
   "metadata": {},
   "outputs": [],
   "source": [
    "import time\n",
    "def cached_rag_chain(query):\n",
    "    start_time = time.time()\n",
    "    if RAG_Cache.get(query):\n",
    "        print(\"***CACHE HIT***\")\n",
    "        end_time = time.time()\n",
    "        elapsed = end_time - start_time\n",
    "        print(f\"EXECUTION TIME: {elapsed:.2f} seconds\")\n",
    "        return RAG_Cache.get(query)\n",
    "    else:\n",
    "        print(\"***CACHE MISS – EXECUTING MODEL***\")\n",
    "        start_time = time.time()\n",
    "        response = llm.invoke(query)\n",
    "        end_time = time.time()\n",
    "        elapsed = end_time - start_time\n",
    "        print(f\"EXECUTION TIME: {elapsed:.2f} seconds\")\n",
    "        RAG_Cache[query] = response\n",
    "        return response"
   ]
  },
  {
   "cell_type": "code",
   "execution_count": 131,
   "metadata": {},
   "outputs": [
    {
     "name": "stdout",
     "output_type": "stream",
     "text": [
      "***CACHE MISS – EXECUTING MODEL***\n",
      "EXECUTION TIME: 1.45 seconds\n",
      "content='LangChain is an open-source framework for building and scaling natural language processing (NLP) and large language models (LLMs). The framework provides a modular and extensible architecture that enables developers to easily integrate and combine different NLP components, models, and datasets to build custom NLP applications and pipelines.\\n\\nThe key features of the LangChain framework include:\\n\\n1. **Modularity**: LangChain allows developers to break down complex NLP pipelines into smaller, reusable components, making it easier to develop, test, and maintain.\\n2. **Extensibility**: The framework provides a flexible architecture that enables developers to easily add new components, models, and datasets to the pipeline, allowing for rapid prototyping and experimentation.\\n3. **Scalability**: LangChain is designed to scale horizontally, allowing developers to distribute the processing of large datasets and models across multiple machines, making it suitable for large-scale NLP applications.\\n4. **Interoperability**: The framework provides a standardized interface for integrating different NLP components and models, making it easier to combine models and components from different vendors and developers.\\n5. **Flexibility**: LangChain supports a wide range of NLP tasks, including language translation, text classification, named entity recognition, question answering, and more.\\n\\nThe LangChain framework consists of several key components, including:\\n\\n1. **LangChain Core**: The core framework that provides the basic building blocks for building NLP pipelines, including data processing, model evaluation, and deployment.\\n2. **LangChain Models**: A library of pre-trained NLP models that can be easily integrated into LangChain pipelines, including transformer-based models like BERT, RoBERTa, and XLNet.\\n4. **LangChain Datasets**: A collection of pre-processed datasets that can be used for training and testing NLP models, including datasets for language translation, text classification, and more.\\n5. **LangChain SDK**: A software development kit (SDK) that provides a set of pre-built components and tools for building custom NLP applications and pipelines.\\n\\nLangChain is widely used in industry and academia for building custom NLP applications, such as chatbots, sentiment analysis tools, and language translation systems, as well as for research and development of new NLP models and techniques.' additional_kwargs={} response_metadata={'token_usage': {'completion_tokens': 456, 'prompt_tokens': 16, 'total_tokens': 472, 'completion_time': 1.302857143, 'prompt_time': 0.000172478, 'queue_time': 0.055283402, 'total_time': 1.303029621}, 'model_name': 'llama3-70b-8192', 'system_fingerprint': 'fp_dd4ae1c591', 'finish_reason': 'stop', 'logprobs': None} id='run--184d6c17-5f3a-4c30-aa21-662499515aa5-0' usage_metadata={'input_tokens': 16, 'output_tokens': 456, 'total_tokens': 472}\n"
     ]
    }
   ],
   "source": [
    "query = \"what is langchain framework?\"\n",
    "response = cached_rag_chain(query)\n",
    "print(response)"
   ]
  },
  {
   "cell_type": "code",
   "execution_count": 132,
   "metadata": {},
   "outputs": [
    {
     "name": "stdout",
     "output_type": "stream",
     "text": [
      "***CACHE HIT***\n",
      "EXECUTION TIME: 0.00 seconds\n",
      "content='LangChain is an open-source framework for building and scaling natural language processing (NLP) and large language models (LLMs). The framework provides a modular and extensible architecture that enables developers to easily integrate and combine different NLP components, models, and datasets to build custom NLP applications and pipelines.\\n\\nThe key features of the LangChain framework include:\\n\\n1. **Modularity**: LangChain allows developers to break down complex NLP pipelines into smaller, reusable components, making it easier to develop, test, and maintain.\\n2. **Extensibility**: The framework provides a flexible architecture that enables developers to easily add new components, models, and datasets to the pipeline, allowing for rapid prototyping and experimentation.\\n3. **Scalability**: LangChain is designed to scale horizontally, allowing developers to distribute the processing of large datasets and models across multiple machines, making it suitable for large-scale NLP applications.\\n4. **Interoperability**: The framework provides a standardized interface for integrating different NLP components and models, making it easier to combine models and components from different vendors and developers.\\n5. **Flexibility**: LangChain supports a wide range of NLP tasks, including language translation, text classification, named entity recognition, question answering, and more.\\n\\nThe LangChain framework consists of several key components, including:\\n\\n1. **LangChain Core**: The core framework that provides the basic building blocks for building NLP pipelines, including data processing, model evaluation, and deployment.\\n2. **LangChain Models**: A library of pre-trained NLP models that can be easily integrated into LangChain pipelines, including transformer-based models like BERT, RoBERTa, and XLNet.\\n4. **LangChain Datasets**: A collection of pre-processed datasets that can be used for training and testing NLP models, including datasets for language translation, text classification, and more.\\n5. **LangChain SDK**: A software development kit (SDK) that provides a set of pre-built components and tools for building custom NLP applications and pipelines.\\n\\nLangChain is widely used in industry and academia for building custom NLP applications, such as chatbots, sentiment analysis tools, and language translation systems, as well as for research and development of new NLP models and techniques.' additional_kwargs={} response_metadata={'token_usage': {'completion_tokens': 456, 'prompt_tokens': 16, 'total_tokens': 472, 'completion_time': 1.302857143, 'prompt_time': 0.000172478, 'queue_time': 0.055283402, 'total_time': 1.303029621}, 'model_name': 'llama3-70b-8192', 'system_fingerprint': 'fp_dd4ae1c591', 'finish_reason': 'stop', 'logprobs': None} id='run--184d6c17-5f3a-4c30-aa21-662499515aa5-0' usage_metadata={'input_tokens': 16, 'output_tokens': 456, 'total_tokens': 472}\n"
     ]
    }
   ],
   "source": [
    "query = \"what is langchain framework?\"\n",
    "response = cached_rag_chain(query)\n",
    "print(response)"
   ]
  },
  {
   "cell_type": "code",
   "execution_count": 133,
   "metadata": {},
   "outputs": [
    {
     "name": "stdout",
     "output_type": "stream",
     "text": [
      "***CACHE MISS – EXECUTING MODEL***\n",
      "EXECUTION TIME: 1.39 seconds\n",
      "content=\"The United Nations (UN) was established in 1945 in the aftermath of World War II, with the aim of promoting peace, security, and cooperation among its member states. The main motivations behind the creation of the UN were:\\n\\t* To prevent future wars and promote collective security\\n\\t* To promote economic cooperation and development\\n\\t* To protect human rights and dignity\\n\\t* To address the root causes of conflict, such as poverty, inequality, and political instability\\n\\nThe devastation of World War II, which resulted in the loss of millions of lives, massive destruction, and widespread suffering, highlighted the need for an international organization that could prevent such conflicts from happening again. The UN was established to:\\n\\n1. **Replace the League of Nations, which failed to prevent World War II. The League was criticized for its inability to prevent the Italian invasion of Ethiopia, the Japanese invasion of Manchuria, and the German remilitarization of the Rhineland.\\n2. **Prevent the rise of aggressive powers** that could threaten global peace and security. The UN was designed to provide a framework for nations to work together to prevent the emergence of aggressive powers and to respond collectively to threats to international peace and security.\\n3. **Promote collective security**, where member states would work together to prevent aggression and protect each other from threats.\\n4. **Foster international cooperation** in areas such as economic development, social progress, and human rights.\\n5. **Provide a platform for diplomacy and negotiation**, enabling countries to resolve disputes peacefully and avoid resorting to war.\\n\\nThe UN Charter, signed on June 26, 1945, by 50 founding member states, laid out the organization's purposes and principles, including:\\n\\n1. Maintaining international peace and security\\n2. Developing friendly relations among nations\\n3. Achieving international cooperation in solving international problems\\n4. Promoting respect for human rights and dignity\\n5. Encouraging economic and social progress\\n\\nSince its establishment, the UN has played a crucial role in promoting peace, stability, and development around the world, and has been instrumental in addressing various global challenges, including conflict resolution, humanitarian crises, and sustainable development.\" additional_kwargs={} response_metadata={'token_usage': {'completion_tokens': 442, 'prompt_tokens': 24, 'total_tokens': 466, 'completion_time': 1.262857143, 'prompt_time': 0.000337906, 'queue_time': 0.060057974, 'total_time': 1.2631950490000001}, 'model_name': 'llama3-70b-8192', 'system_fingerprint': 'fp_dd4ae1c591', 'finish_reason': 'stop', 'logprobs': None} id='run--9555654c-5d55-4cae-a826-a20f47aa024e-0' usage_metadata={'input_tokens': 24, 'output_tokens': 442, 'total_tokens': 466}\n"
     ]
    }
   ],
   "source": [
    "query = \"Why United Nations, established in 1945 after World War II?\"\n",
    "response = cached_rag_chain(query)\n",
    "print(response)"
   ]
  },
  {
   "cell_type": "markdown",
   "metadata": {},
   "source": [
    "## Cache Using LangChain"
   ]
  },
  {
   "cell_type": "code",
   "execution_count": 134,
   "metadata": {},
   "outputs": [],
   "source": [
    "from langchain.cache import InMemoryCache\n",
    "from langchain.globals import set_llm_cache\n",
    "from typing import Any, Dict, Tuple\n",
    "from langchain_groq import ChatGroq\n",
    "\n",
    "class DebuggableCache(InMemoryCache):\n",
    "    def __init__(self):\n",
    "        super().__init__()\n",
    "        self._cache: Dict[Tuple[str, str], Any] = {}\n",
    "\n",
    "    def lookup(self, prompt: str, llm_string: str):\n",
    "        return self._cache.get((prompt, llm_string))\n",
    "\n",
    "    def update(self, prompt: str, llm_string: str, return_val: Any):\n",
    "        self._cache[(prompt, llm_string)] = return_val\n",
    "\n",
    "    def view_cache(self):  # 👈 this is our custom method\n",
    "        return self._cache"
   ]
  },
  {
   "cell_type": "code",
   "execution_count": 135,
   "metadata": {},
   "outputs": [],
   "source": [
    "dbg_cache = DebuggableCache()\n",
    "set_llm_cache(dbg_cache)"
   ]
  },
  {
   "cell_type": "code",
   "execution_count": 139,
   "metadata": {},
   "outputs": [
    {
     "name": "stdout",
     "output_type": "stream",
     "text": [
      "LLM Response: content='The capital of France is Paris.' additional_kwargs={} response_metadata={'token_usage': {'completion_tokens': 8, 'prompt_tokens': 17, 'total_tokens': 25, 'completion_time': 0.022857143, 'prompt_time': 0.000273017, 'queue_time': 0.054920801, 'total_time': 0.02313016}, 'model_name': 'llama3-70b-8192', 'system_fingerprint': 'fp_dd4ae1c591', 'finish_reason': 'stop', 'logprobs': None} id='run--e5a5ac00-1b5b-49f2-9e1b-4c639cf132eb-0' usage_metadata={'input_tokens': 17, 'output_tokens': 8, 'total_tokens': 25}\n"
     ]
    }
   ],
   "source": [
    "response = llm.invoke(\"What is the capital of France?\")\n",
    "print(\"LLM Response:\", response)"
   ]
  },
  {
   "cell_type": "code",
   "execution_count": 140,
   "metadata": {},
   "outputs": [
    {
     "name": "stdout",
     "output_type": "stream",
     "text": [
      "\n",
      "Cache Contents:\n",
      "Prompt: [{\"lc\": 1, \"type\": \"constructor\", \"id\": [\"langchain\", \"schema\", \"messages\", \"HumanMessage\"], \"kwargs\": {\"content\": \"What is the capital of France?\", \"type\": \"human\"}}] | Cached Output: [ChatGeneration(text='The capital of France is Paris.', generation_info={'finish_reason': 'stop', 'logprobs': None}, message=AIMessage(content='The capital of France is Paris.', additional_kwargs={}, response_metadata={'token_usage': {'completion_tokens': 8, 'prompt_tokens': 17, 'total_tokens': 25, 'completion_time': 0.022857143, 'prompt_time': 0.000273017, 'queue_time': 0.054920801, 'total_time': 0.02313016}, 'model_name': 'llama3-70b-8192', 'system_fingerprint': 'fp_dd4ae1c591', 'finish_reason': 'stop', 'logprobs': None}, id='run--e5a5ac00-1b5b-49f2-9e1b-4c639cf132eb-0', usage_metadata={'input_tokens': 17, 'output_tokens': 8, 'total_tokens': 25}))]\n"
     ]
    }
   ],
   "source": [
    "print(\"\\nCache Contents:\")\n",
    "for k, v in dbg_cache.view_cache().items():\n",
    "    print(f\"Prompt: {k[0]} | Cached Output: {v}\")"
   ]
  },
  {
   "cell_type": "code",
   "execution_count": 141,
   "metadata": {},
   "outputs": [
    {
     "name": "stdout",
     "output_type": "stream",
     "text": [
      "LLM Response: content='The capital of India is New Delhi.' additional_kwargs={} response_metadata={'token_usage': {'completion_tokens': 9, 'prompt_tokens': 17, 'total_tokens': 26, 'completion_time': 0.025714286, 'prompt_time': 0.000318096, 'queue_time': 0.054424412000000005, 'total_time': 0.026032382}, 'model_name': 'llama3-70b-8192', 'system_fingerprint': 'fp_dd4ae1c591', 'finish_reason': 'stop', 'logprobs': None} id='run--d2c52b94-d85b-4f90-934f-ee4f9e6e8f75-0' usage_metadata={'input_tokens': 17, 'output_tokens': 9, 'total_tokens': 26}\n"
     ]
    }
   ],
   "source": [
    "# 👇 Ask something\n",
    "response = llm.invoke(\"What is the capital of india?\")\n",
    "print(\"LLM Response:\", response)\n"
   ]
  },
  {
   "cell_type": "code",
   "execution_count": 142,
   "metadata": {},
   "outputs": [
    {
     "name": "stdout",
     "output_type": "stream",
     "text": [
      "\n",
      "Cache Contents:\n",
      "Prompt: [{\"lc\": 1, \"type\": \"constructor\", \"id\": [\"langchain\", \"schema\", \"messages\", \"HumanMessage\"], \"kwargs\": {\"content\": \"What is the capital of France?\", \"type\": \"human\"}}] | Cached Output: [ChatGeneration(text='The capital of France is Paris.', generation_info={'finish_reason': 'stop', 'logprobs': None}, message=AIMessage(content='The capital of France is Paris.', additional_kwargs={}, response_metadata={'token_usage': {'completion_tokens': 8, 'prompt_tokens': 17, 'total_tokens': 25, 'completion_time': 0.022857143, 'prompt_time': 0.000273017, 'queue_time': 0.054920801, 'total_time': 0.02313016}, 'model_name': 'llama3-70b-8192', 'system_fingerprint': 'fp_dd4ae1c591', 'finish_reason': 'stop', 'logprobs': None}, id='run--e5a5ac00-1b5b-49f2-9e1b-4c639cf132eb-0', usage_metadata={'input_tokens': 17, 'output_tokens': 8, 'total_tokens': 25}))]\n",
      "Prompt: [{\"lc\": 1, \"type\": \"constructor\", \"id\": [\"langchain\", \"schema\", \"messages\", \"HumanMessage\"], \"kwargs\": {\"content\": \"What is the capital of india?\", \"type\": \"human\"}}] | Cached Output: [ChatGeneration(text='The capital of India is New Delhi.', generation_info={'finish_reason': 'stop', 'logprobs': None}, message=AIMessage(content='The capital of India is New Delhi.', additional_kwargs={}, response_metadata={'token_usage': {'completion_tokens': 9, 'prompt_tokens': 17, 'total_tokens': 26, 'completion_time': 0.025714286, 'prompt_time': 0.000318096, 'queue_time': 0.054424412000000005, 'total_time': 0.026032382}, 'model_name': 'llama3-70b-8192', 'system_fingerprint': 'fp_dd4ae1c591', 'finish_reason': 'stop', 'logprobs': None}, id='run--d2c52b94-d85b-4f90-934f-ee4f9e6e8f75-0', usage_metadata={'input_tokens': 17, 'output_tokens': 9, 'total_tokens': 26}))]\n"
     ]
    }
   ],
   "source": [
    "print(\"\\nCache Contents:\")\n",
    "for k, v in dbg_cache.view_cache().items():\n",
    "    print(f\"Prompt: {k[0]} | Cached Output: {v}\")"
   ]
  }
 ],
 "metadata": {
  "kernelspec": {
   "display_name": "Python 3",
   "language": "python",
   "name": "python3"
  },
  "language_info": {
   "codemirror_mode": {
    "name": "ipython",
    "version": 3
   },
   "file_extension": ".py",
   "mimetype": "text/x-python",
   "name": "python",
   "nbconvert_exporter": "python",
   "pygments_lexer": "ipython3",
   "version": "3.10.16"
  }
 },
 "nbformat": 4,
 "nbformat_minor": 2
}
