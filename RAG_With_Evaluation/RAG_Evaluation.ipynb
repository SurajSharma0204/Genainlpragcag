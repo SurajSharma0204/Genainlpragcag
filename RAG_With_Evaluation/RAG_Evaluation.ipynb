{
  "cells": [
    {
      "cell_type": "markdown",
      "metadata": {},
      "source": [
        "#### raga:https://docs.ragas.io/en/latest/getstarted/\n",
        "#### TrueLence:https://www.trulens.org/\n",
        "#### ares:https://github.com/stanford-futuredata/ARES?tab=readme-ov-file#section3"
      ]
    },
    {
      "cell_type": "code",
      "execution_count": 1,
      "metadata": {},
      "outputs": [],
      "source": [
        "from langchain.document_loaders import TextLoader\n",
        "from langchain.prompts import ChatPromptTemplate\n",
        "from langchain_core.runnables import RunnablePassthrough\n",
        "from langchain_core.output_parsers import StrOutputParser\n",
        "from langchain_community.vectorstores import FAISS\n",
        "from langchain_groq import ChatGroq\n",
        "from langchain_community.embeddings import HuggingFaceBgeEmbeddings\n",
        "from langchain_community.embeddings import HuggingFaceEmbeddings\n",
        "from langchain_core.output_parsers import StrOutputParser\n",
        "from langchain.text_splitter import RecursiveCharacterTextSplitter"
      ]
    },
    {
      "cell_type": "code",
      "execution_count": 2,
      "metadata": {},
      "outputs": [],
      "source": [
        "import os\n",
        "os.environ[\"GROQ_API_KEY\"] = os.getenv(\"GROQ_API_KEY\")\n",
        "os.environ[\"OPENAI_API_KEY\"] = os.getenv(\"OPENAI_API_KEY\")"
      ]
    },
    {
      "cell_type": "code",
      "execution_count": 3,
      "metadata": {
        "id": "-Gygxw-xFKSx"
      },
      "outputs": [],
      "source": [
        "loader=TextLoader(r\"C:\\Complete_Content\\GENERATIVEAI\\NEW_E2E_COURSE\\genai_bootcamp\\data\\japan.txt\")"
      ]
    },
    {
      "cell_type": "code",
      "execution_count": 4,
      "metadata": {
        "id": "zNv5UDZ1FRyJ"
      },
      "outputs": [],
      "source": [
        "documents=loader.load()"
      ]
    },
    {
      "cell_type": "code",
      "execution_count": 5,
      "metadata": {},
      "outputs": [
        {
          "data": {
            "text/plain": [
              "[Document(metadata={'source': 'C:\\\\Complete_Content\\\\GENERATIVEAI\\\\NEW_E2E_COURSE\\\\genai_bootcamp\\\\data\\\\japan.txt'}, page_content='Industrial revival hope for Japan\\n\\nJapanese industry is growing faster than expected, boosting hopes that the country\\'s retreat back into recession is over.\\n\\nIndustrial output rose 2.1% - adjusted for the time of year - in January from a month earlier. At the same time, retail sales picked up faster than at any time since 1997. The news sent Tokyo shares to an eight-month high, as investors hoped for a recovery from the three quarters of contraction seen from April 2004 on. The Nikkei 225 index ended the day up 0.7% at 11,740.60 points, with the yen strengthening 0.7% against the dollar to 104.53 yen. Weaker exports, normally the engine for Japan\\'s economy in the face of weak domestic demand, had helped trigger a 0.1% contraction in the final three months of last year after two previous quarters of shrinking GDP. Only an exceptionally strong performance in the early months of 2004 kept the year as a whole from showing a decline. The output figures brought a cautiously optimistic response from economic officials. \"Overall I see a low risk of the economy falling into serious recession,\" said Bank of Japan chief Toshihiko Fukui, despite warning that other indicators - such as the growth numbers - had been worrying.\\n\\nWithin the overall industrial output figure, there were signs of a pullback from the export slowdown. Among the best-performing sectors were key overseas sales areas such as cars, chemicals and electronic goods. With US growth doing better than expected the picture for exports in early 2005 could also be one of sustained demand. Electronics were also one of the keys to the improved domestic market, with products such as flat-screen TVs in high demand during January.\\n\\nJapan\\'s last four year GDP:\\n\\nYear\\tGDP\\n2022\\t$4,256.41B\\n2021\\t$5,034.62B\\n2020\\t$5,055.59B\\n2019\\t$5,117.99B\\n\\nAs of early 2025, Japan\\'s economy exhibits signs of moderate recovery, with industrial production increasing by 2.3% month-over-month in February, slightly below initial estimates but indicating a rebound from previous contractions. Retail sales have shown consistent growth, rising by 3.9% year-on-year in January, marking the 36th consecutive month of expansion. The Nikkei 225 index has responded positively, reaching levels around 11,740.60 points, with projections suggesting it could climb to 45,400 by the end of 2025. The Japanese yen has experienced fluctuations, strengthening to 104.53 yen against the dollar, reflecting investor optimism. Despite these positive indicators, challenges persist, including concerns over export performance and demographic issues such as an aging population. The Bank of Japan remains cautiously optimistic, noting that while certain economic indicators are encouraging, vigilance is necessary to sustain growth. Overall, Japan\\'s economy appears to be on a path of gradual improvement, balancing recovery efforts with structural reforms to address long-term challenges.\\n\\nAs of mid-2025, Japan\\'s economy is experiencing a nuanced recovery characterized by moderate growth and persistent challenges. In the first quarter, real GDP contracted by 0.1%, influenced by a 1.1% month-over-month decline in industrial production in March, primarily due to the impact of U.S. tariffs on exports. Despite this, retail sales demonstrated resilience, increasing by 2.9% year-over-year in the first quarter, with notable growth in sectors like apparel and household electronics. \\nING Think\\nRTTNews\\n\\nThe Bank of Japan (BOJ) has maintained its short-term interest rate at 0.5%, citing uncertainties stemming from global trade tensions. The BOJ revised its growth projection for the fiscal year ending March 2026 from 1.1% to 0.5%, and for the following year from 1.0% to 0.7%. Inflation is now expected to reach the 2% target around the latter half of fiscal 2026. \\nReuters\\n+1\\nReuters\\n+1\\n\\nIn the financial markets, the Nikkei 225 index has shown strength, with projections suggesting it could reach 45,400 by the end of 2025, supported by corporate share buybacks and a gradual return of foreign investors. The Japanese yen has experienced fluctuations, recently trading at approximately 104.53 against the U.S. dollar, reflecting investor sentiment and monetary policy expectations.\\n三井住友DSアセットマネジメント\\n\\nOverall, while Japan\\'s economy faces headwinds from external trade pressures and domestic structural issues, indicators such as wage growth and consumer spending provide a foundation for cautious optimism. The BOJ\\'s flexible policy stance aims to navigate these challenges, balancing the goals of economic growth and price stability.')]"
            ]
          },
          "execution_count": 5,
          "metadata": {},
          "output_type": "execute_result"
        }
      ],
      "source": [
        "documents\n"
      ]
    },
    {
      "cell_type": "code",
      "execution_count": 6,
      "metadata": {
        "id": "9XsR_ggFErvR"
      },
      "outputs": [],
      "source": [
        "text_splitter = RecursiveCharacterTextSplitter(chunk_size=250, chunk_overlap=50)\n",
        "splits = text_splitter.split_documents(documents)"
      ]
    },
    {
      "cell_type": "code",
      "execution_count": 7,
      "metadata": {},
      "outputs": [
        {
          "data": {
            "text/plain": [
              "29"
            ]
          },
          "execution_count": 7,
          "metadata": {},
          "output_type": "execute_result"
        }
      ],
      "source": [
        "len(splits)"
      ]
    },
    {
      "cell_type": "code",
      "execution_count": 8,
      "metadata": {},
      "outputs": [
        {
          "name": "stderr",
          "output_type": "stream",
          "text": [
            "c:\\Complete_Content\\GENERATIVEAI\\NEW_E2E_COURSE\\genai_bootcamp\\env\\lib\\site-packages\\tqdm\\auto.py:21: TqdmWarning: IProgress not found. Please update jupyter and ipywidgets. See https://ipywidgets.readthedocs.io/en/stable/user_install.html\n",
            "  from .autonotebook import tqdm as notebook_tqdm\n"
          ]
        }
      ],
      "source": [
        "from ragas.llms import LangchainLLMWrapper\n",
        "llm = ChatGroq(model=\"llama3-70b-8192\")"
      ]
    },
    {
      "cell_type": "code",
      "execution_count": null,
      "metadata": {},
      "outputs": [],
      "source": [
        "# llm_wrapped = LangchainLLMWrapper(llm)"
      ]
    },
    {
      "cell_type": "code",
      "execution_count": 9,
      "metadata": {},
      "outputs": [
        {
          "name": "stderr",
          "output_type": "stream",
          "text": [
            "C:\\Users\\sunny\\AppData\\Local\\Temp\\ipykernel_8532\\2127729888.py:1: LangChainDeprecationWarning: The class `HuggingFaceEmbeddings` was deprecated in LangChain 0.2.2 and will be removed in 1.0. An updated version of the class exists in the :class:`~langchain-huggingface package and should be used instead. To use it run `pip install -U :class:`~langchain-huggingface` and import as `from :class:`~langchain_huggingface import HuggingFaceEmbeddings``.\n",
            "  embedding_model = HuggingFaceEmbeddings(\n"
          ]
        }
      ],
      "source": [
        "embedding_model = HuggingFaceEmbeddings(\n",
        "    model_name=\"sentence-transformers/all-MiniLM-L6-v2\"\n",
        ")"
      ]
    },
    {
      "cell_type": "code",
      "execution_count": 10,
      "metadata": {},
      "outputs": [],
      "source": [
        "vectorstore = FAISS.from_documents(documents=splits,embedding=embedding_model)"
      ]
    },
    {
      "cell_type": "code",
      "execution_count": 11,
      "metadata": {},
      "outputs": [],
      "source": [
        "retriever=vectorstore.as_retriever()"
      ]
    },
    {
      "cell_type": "code",
      "execution_count": 12,
      "metadata": {
        "id": "fb0ts_TUHetW"
      },
      "outputs": [],
      "source": [
        "# Define prompt template\n",
        "template = \"\"\"You are an assistant for question-answering tasks.\n",
        "Use the following pieces of retrieved context to answer the question.\n",
        "If you don't know the answer, just say that you don't know.\n",
        "Use two sentences maximum and keep the answer concise.\n",
        "Question: {question}\n",
        "Context: {context}\n",
        "Answer:\n",
        "\"\"\""
      ]
    },
    {
      "cell_type": "code",
      "execution_count": 13,
      "metadata": {
        "id": "CPH3tLVtHlQi"
      },
      "outputs": [],
      "source": [
        "prompt = ChatPromptTemplate.from_template(template)\n"
      ]
    },
    {
      "cell_type": "code",
      "execution_count": 16,
      "metadata": {
        "id": "5l-sFT9cHmoy"
      },
      "outputs": [],
      "source": [
        "rag_chain=(\n",
        "    {\"context\":retriever, \"question\":RunnablePassthrough()}\n",
        "          | prompt\n",
        "          | llm\n",
        "          | StrOutputParser()\n",
        ")"
      ]
    },
    {
      "cell_type": "code",
      "execution_count": 17,
      "metadata": {},
      "outputs": [],
      "source": [
        "questions = [\n",
        "    \"What is the current status of Japan's industrial production?\",\n",
        "    \"How have retail sales in Japan performed recently?\",\n",
        "    \"What did the Bank of Japan say about the economic outlook?\",\n",
        "    \"What has been the performance of the Nikkei 225 index?\",\n",
        "    \"How has the Japanese yen moved in recent times?\",\n",
        "    \"What are some challenges Japan's economy is still facing?\"\n",
        "]"
      ]
    },
    {
      "cell_type": "code",
      "execution_count": 14,
      "metadata": {
        "id": "9Dz6DfRsInzx"
      },
      "outputs": [],
      "source": [
        "ground_truths = [\"Japan's industrial production grew by 2.3% in February 2025, indicating a moderate recovery after previous declines.\",\n",
        " 'Retail sales in Japan rose by 3.9% year-on-year in January 2025, marking the 36th consecutive month of growth.',\n",
        " 'The Bank of Japan stated that there is a low risk of serious recession, but warned of uncertainties and revised growth forecasts downward.',\n",
        " 'The Nikkei 225 index has performed strongly, reaching around 11,740 points and is projected to climb to 45,400 by the end of 2025.',\n",
        " 'The Japanese yen has strengthened to around 104.53 against the US dollar, reflecting renewed investor optimism.',\n",
        " \"Japan's economy continues to face challenges such as weak exports, trade tensions, and an aging population despite recent growth.\"]"
      ]
    },
    {
      "cell_type": "code",
      "execution_count": 18,
      "metadata": {
        "colab": {
          "base_uri": "https://localhost:8080/",
          "height": 35
        },
        "id": "B1Mu3_I7Lbwm",
        "outputId": "8ccee8f7-69d6-47f1-d3b4-7ba9f4a33808"
      },
      "outputs": [
        {
          "data": {
            "text/plain": [
              "'Retail sales in Japan have shown consistent growth, rising by 3.9% year-on-year in January, marking the 36th consecutive month of expansion. Additionally, retail sales picked up faster than at any time since 1997, indicating a strong performance in the sector.'"
            ]
          },
          "execution_count": 18,
          "metadata": {},
          "output_type": "execute_result"
        }
      ],
      "source": [
        "rag_chain.invoke(questions[1])"
      ]
    },
    {
      "cell_type": "code",
      "execution_count": 21,
      "metadata": {
        "id": "EevrMujMJVpz"
      },
      "outputs": [],
      "source": [
        "answer=[]\n",
        "context=[]"
      ]
    },
    {
      "cell_type": "code",
      "execution_count": 22,
      "metadata": {
        "id": "rUkcsda9LDWh"
      },
      "outputs": [],
      "source": [
        "for query in questions:\n",
        "  answer.append(rag_chain.invoke(query))\n",
        "  context.append([docs.page_content  for docs in retriever.invoke(query)])"
      ]
    },
    {
      "cell_type": "code",
      "execution_count": 23,
      "metadata": {
        "colab": {
          "base_uri": "https://localhost:8080/"
        },
        "id": "y0tkUe2SM6GF",
        "outputId": "ced5ec39-8315-488e-9f2f-2e23af371044"
      },
      "outputs": [
        {
          "data": {
            "text/plain": [
              "[\"As of mid-2025, Japan's industrial production declined by 1.1% month-over-month.\",\n",
              " 'Retail sales in Japan have shown consistent growth, rising by 3.9% year-on-year in January, marking the 36th consecutive month of expansion. Additionally, retail sales picked up faster than at any time since 1997.',\n",
              " 'The Bank of Japan remains cautiously optimistic, noting that while certain economic indicators are encouraging, vigilance is necessary to sustain growth. The BOJ also revised its growth projection for the fiscal year ending March 2026 from 1.1% to 0.5%.',\n",
              " 'The Nikkei 225 index has shown strength, reaching levels around 11,740.60 points, with projections suggesting it could climb to 45,400 by the end of 2025. It has also ended the day up 0.7% at 11,740.60 points.',\n",
              " 'The Japanese yen has experienced fluctuations, recently strengthening to 104.53 yen against the dollar.',\n",
              " \"Japan's economy is still facing challenges such as concerns over export performance and demographic issues like an aging population.\"]"
            ]
          },
          "execution_count": 23,
          "metadata": {},
          "output_type": "execute_result"
        }
      ],
      "source": [
        "answer"
      ]
    },
    {
      "cell_type": "code",
      "execution_count": 24,
      "metadata": {
        "colab": {
          "base_uri": "https://localhost:8080/"
        },
        "id": "NgyF6GawM7ZS",
        "outputId": "9f123263-9f8d-43ee-c988-1b5585d9a85d"
      },
      "outputs": [
        {
          "data": {
            "text/plain": [
              "[[\"As of early 2025, Japan's economy exhibits signs of moderate recovery, with industrial production increasing by 2.3% month-over-month in February, slightly below initial estimates but indicating a rebound from previous contractions. Retail sales\",\n",
              "  \"Industrial revival hope for Japan\\n\\nJapanese industry is growing faster than expected, boosting hopes that the country's retreat back into recession is over.\",\n",
              "  \"As of mid-2025, Japan's economy is experiencing a nuanced recovery characterized by moderate growth and persistent challenges. In the first quarter, real GDP contracted by 0.1%, influenced by a 1.1% month-over-month decline in industrial production\",\n",
              "  \"Japan's last four year GDP:\\n\\nYear\\tGDP\\n2022\\t$4,256.41B\\n2021\\t$5,034.62B\\n2020\\t$5,055.59B\\n2019\\t$5,117.99B\"],\n",
              " [\"As of early 2025, Japan's economy exhibits signs of moderate recovery, with industrial production increasing by 2.3% month-over-month in February, slightly below initial estimates but indicating a rebound from previous contractions. Retail sales\",\n",
              "  'rebound from previous contractions. Retail sales have shown consistent growth, rising by 3.9% year-on-year in January, marking the 36th consecutive month of expansion. The Nikkei 225 index has responded positively, reaching levels around 11,740.60',\n",
              "  'Industrial output rose 2.1% - adjusted for the time of year - in January from a month earlier. At the same time, retail sales picked up faster than at any time since 1997. The news sent Tokyo shares to an eight-month high, as investors hoped for a',\n",
              "  \"Industrial revival hope for Japan\\n\\nJapanese industry is growing faster than expected, boosting hopes that the country's retreat back into recession is over.\"],\n",
              " [\"population. The Bank of Japan remains cautiously optimistic, noting that while certain economic indicators are encouraging, vigilance is necessary to sustain growth. Overall, Japan's economy appears to be on a path of gradual improvement, balancing\",\n",
              "  'The Bank of Japan (BOJ) has maintained its short-term interest rate at 0.5%, citing uncertainties stemming from global trade tensions. The BOJ revised its growth projection for the fiscal year ending March 2026 from 1.1% to 0.5%, and for the',\n",
              "  \"Overall, while Japan's economy faces headwinds from external trade pressures and domestic structural issues, indicators such as wage growth and consumer spending provide a foundation for cautious optimism. The BOJ's flexible policy stance aims to\",\n",
              "  'yen against the dollar, reflecting investor optimism. Despite these positive indicators, challenges persist, including concerns over export performance and demographic issues such as an aging population. The Bank of Japan remains cautiously'],\n",
              " ['In the financial markets, the Nikkei 225 index has shown strength, with projections suggesting it could reach 45,400 by the end of 2025, supported by corporate share buybacks and a gradual return of foreign investors. The Japanese yen has',\n",
              "  'to an eight-month high, as investors hoped for a recovery from the three quarters of contraction seen from April 2004 on. The Nikkei 225 index ended the day up 0.7% at 11,740.60 points, with the yen strengthening 0.7% against the dollar to 104.53',\n",
              "  'rebound from previous contractions. Retail sales have shown consistent growth, rising by 3.9% year-on-year in January, marking the 36th consecutive month of expansion. The Nikkei 225 index has responded positively, reaching levels around 11,740.60',\n",
              "  'positively, reaching levels around 11,740.60 points, with projections suggesting it could climb to 45,400 by the end of 2025. The Japanese yen has experienced fluctuations, strengthening to 104.53 yen against the dollar, reflecting investor'],\n",
              " ['return of foreign investors. The Japanese yen has experienced fluctuations, recently trading at approximately 104.53 against the U.S. dollar, reflecting investor sentiment and monetary policy expectations.',\n",
              "  'positively, reaching levels around 11,740.60 points, with projections suggesting it could climb to 45,400 by the end of 2025. The Japanese yen has experienced fluctuations, strengthening to 104.53 yen against the dollar, reflecting investor',\n",
              "  'yen against the dollar, reflecting investor optimism. Despite these positive indicators, challenges persist, including concerns over export performance and demographic issues such as an aging population. The Bank of Japan remains cautiously',\n",
              "  \"strengthening 0.7% against the dollar to 104.53 yen. Weaker exports, normally the engine for Japan's economy in the face of weak domestic demand, had helped trigger a 0.1% contraction in the final three months of last year after two previous\"],\n",
              " [\"As of mid-2025, Japan's economy is experiencing a nuanced recovery characterized by moderate growth and persistent challenges. In the first quarter, real GDP contracted by 0.1%, influenced by a 1.1% month-over-month decline in industrial production\",\n",
              "  \"As of early 2025, Japan's economy exhibits signs of moderate recovery, with industrial production increasing by 2.3% month-over-month in February, slightly below initial estimates but indicating a rebound from previous contractions. Retail sales\",\n",
              "  \"strengthening 0.7% against the dollar to 104.53 yen. Weaker exports, normally the engine for Japan's economy in the face of weak domestic demand, had helped trigger a 0.1% contraction in the final three months of last year after two previous\",\n",
              "  'yen against the dollar, reflecting investor optimism. Despite these positive indicators, challenges persist, including concerns over export performance and demographic issues such as an aging population. The Bank of Japan remains cautiously']]"
            ]
          },
          "execution_count": 24,
          "metadata": {},
          "output_type": "execute_result"
        }
      ],
      "source": [
        "context"
      ]
    },
    {
      "cell_type": "code",
      "execution_count": 20,
      "metadata": {},
      "outputs": [],
      "source": [
        "contexts = [\" \".join(ref) if isinstance(ref, list) else ref for ref in context]"
      ]
    },
    {
      "cell_type": "code",
      "execution_count": 21,
      "metadata": {},
      "outputs": [
        {
          "data": {
            "text/plain": [
              "\"As of early 2025, Japan's economy exhibits signs of moderate recovery, with industrial production increasing by 2.3% month-over-month in February, slightly below initial estimates but indicating a rebound from previous contractions. Retail sales Industrial revival hope for Japan\\n\\nJapanese industry is growing faster than expected, boosting hopes that the country's retreat back into recession is over. As of mid-2025, Japan's economy is experiencing a nuanced recovery characterized by moderate growth and persistent challenges. In the first quarter, real GDP contracted by 0.1%, influenced by a 1.1% month-over-month decline in industrial production Japan's last four year GDP:\\n\\nYear\\tGDP\\n2022\\t$4,256.41B\\n2021\\t$5,034.62B\\n2020\\t$5,055.59B\\n2019\\t$5,117.99B\""
            ]
          },
          "execution_count": 21,
          "metadata": {},
          "output_type": "execute_result"
        }
      ],
      "source": [
        "contexts[0]"
      ]
    },
    {
      "cell_type": "code",
      "execution_count": 22,
      "metadata": {},
      "outputs": [
        {
          "data": {
            "text/plain": [
              "\"Japan's industrial production grew by 2.3% in February 2025, indicating a moderate recovery after previous declines.\""
            ]
          },
          "execution_count": 22,
          "metadata": {},
          "output_type": "execute_result"
        }
      ],
      "source": [
        "ground_truths[0]"
      ]
    },
    {
      "cell_type": "code",
      "execution_count": 25,
      "metadata": {
        "id": "o8vFPC-XJcXx"
      },
      "outputs": [],
      "source": [
        "# To dict\n",
        "data = {\n",
        "    \"question\": questions,\n",
        "    \"answer\": answer,\n",
        "    \"contexts\": context,\n",
        "    \"reference\": ground_truths\n",
        "}"
      ]
    },
    {
      "cell_type": "code",
      "execution_count": 26,
      "metadata": {},
      "outputs": [
        {
          "data": {
            "text/plain": [
              "{'question': [\"What is the current status of Japan's industrial production?\",\n",
              "  'How have retail sales in Japan performed recently?',\n",
              "  'What did the Bank of Japan say about the economic outlook?',\n",
              "  'What has been the performance of the Nikkei 225 index?',\n",
              "  'How has the Japanese yen moved in recent times?',\n",
              "  \"What are some challenges Japan's economy is still facing?\"],\n",
              " 'answer': [\"As of mid-2025, Japan's industrial production declined by 1.1% month-over-month.\",\n",
              "  'Retail sales in Japan have shown consistent growth, rising by 3.9% year-on-year in January, marking the 36th consecutive month of expansion. Additionally, retail sales picked up faster than at any time since 1997.',\n",
              "  'The Bank of Japan remains cautiously optimistic, noting that while certain economic indicators are encouraging, vigilance is necessary to sustain growth. The BOJ also revised its growth projection for the fiscal year ending March 2026 from 1.1% to 0.5%.',\n",
              "  'The Nikkei 225 index has shown strength, reaching levels around 11,740.60 points, with projections suggesting it could climb to 45,400 by the end of 2025. It has also ended the day up 0.7% at 11,740.60 points.',\n",
              "  'The Japanese yen has experienced fluctuations, recently strengthening to 104.53 yen against the dollar.',\n",
              "  \"Japan's economy is still facing challenges such as concerns over export performance and demographic issues like an aging population.\"],\n",
              " 'contexts': [[\"As of early 2025, Japan's economy exhibits signs of moderate recovery, with industrial production increasing by 2.3% month-over-month in February, slightly below initial estimates but indicating a rebound from previous contractions. Retail sales\",\n",
              "   \"Industrial revival hope for Japan\\n\\nJapanese industry is growing faster than expected, boosting hopes that the country's retreat back into recession is over.\",\n",
              "   \"As of mid-2025, Japan's economy is experiencing a nuanced recovery characterized by moderate growth and persistent challenges. In the first quarter, real GDP contracted by 0.1%, influenced by a 1.1% month-over-month decline in industrial production\",\n",
              "   \"Japan's last four year GDP:\\n\\nYear\\tGDP\\n2022\\t$4,256.41B\\n2021\\t$5,034.62B\\n2020\\t$5,055.59B\\n2019\\t$5,117.99B\"],\n",
              "  [\"As of early 2025, Japan's economy exhibits signs of moderate recovery, with industrial production increasing by 2.3% month-over-month in February, slightly below initial estimates but indicating a rebound from previous contractions. Retail sales\",\n",
              "   'rebound from previous contractions. Retail sales have shown consistent growth, rising by 3.9% year-on-year in January, marking the 36th consecutive month of expansion. The Nikkei 225 index has responded positively, reaching levels around 11,740.60',\n",
              "   'Industrial output rose 2.1% - adjusted for the time of year - in January from a month earlier. At the same time, retail sales picked up faster than at any time since 1997. The news sent Tokyo shares to an eight-month high, as investors hoped for a',\n",
              "   \"Industrial revival hope for Japan\\n\\nJapanese industry is growing faster than expected, boosting hopes that the country's retreat back into recession is over.\"],\n",
              "  [\"population. The Bank of Japan remains cautiously optimistic, noting that while certain economic indicators are encouraging, vigilance is necessary to sustain growth. Overall, Japan's economy appears to be on a path of gradual improvement, balancing\",\n",
              "   'The Bank of Japan (BOJ) has maintained its short-term interest rate at 0.5%, citing uncertainties stemming from global trade tensions. The BOJ revised its growth projection for the fiscal year ending March 2026 from 1.1% to 0.5%, and for the',\n",
              "   \"Overall, while Japan's economy faces headwinds from external trade pressures and domestic structural issues, indicators such as wage growth and consumer spending provide a foundation for cautious optimism. The BOJ's flexible policy stance aims to\",\n",
              "   'yen against the dollar, reflecting investor optimism. Despite these positive indicators, challenges persist, including concerns over export performance and demographic issues such as an aging population. The Bank of Japan remains cautiously'],\n",
              "  ['In the financial markets, the Nikkei 225 index has shown strength, with projections suggesting it could reach 45,400 by the end of 2025, supported by corporate share buybacks and a gradual return of foreign investors. The Japanese yen has',\n",
              "   'to an eight-month high, as investors hoped for a recovery from the three quarters of contraction seen from April 2004 on. The Nikkei 225 index ended the day up 0.7% at 11,740.60 points, with the yen strengthening 0.7% against the dollar to 104.53',\n",
              "   'rebound from previous contractions. Retail sales have shown consistent growth, rising by 3.9% year-on-year in January, marking the 36th consecutive month of expansion. The Nikkei 225 index has responded positively, reaching levels around 11,740.60',\n",
              "   'positively, reaching levels around 11,740.60 points, with projections suggesting it could climb to 45,400 by the end of 2025. The Japanese yen has experienced fluctuations, strengthening to 104.53 yen against the dollar, reflecting investor'],\n",
              "  ['return of foreign investors. The Japanese yen has experienced fluctuations, recently trading at approximately 104.53 against the U.S. dollar, reflecting investor sentiment and monetary policy expectations.',\n",
              "   'positively, reaching levels around 11,740.60 points, with projections suggesting it could climb to 45,400 by the end of 2025. The Japanese yen has experienced fluctuations, strengthening to 104.53 yen against the dollar, reflecting investor',\n",
              "   'yen against the dollar, reflecting investor optimism. Despite these positive indicators, challenges persist, including concerns over export performance and demographic issues such as an aging population. The Bank of Japan remains cautiously',\n",
              "   \"strengthening 0.7% against the dollar to 104.53 yen. Weaker exports, normally the engine for Japan's economy in the face of weak domestic demand, had helped trigger a 0.1% contraction in the final three months of last year after two previous\"],\n",
              "  [\"As of mid-2025, Japan's economy is experiencing a nuanced recovery characterized by moderate growth and persistent challenges. In the first quarter, real GDP contracted by 0.1%, influenced by a 1.1% month-over-month decline in industrial production\",\n",
              "   \"As of early 2025, Japan's economy exhibits signs of moderate recovery, with industrial production increasing by 2.3% month-over-month in February, slightly below initial estimates but indicating a rebound from previous contractions. Retail sales\",\n",
              "   \"strengthening 0.7% against the dollar to 104.53 yen. Weaker exports, normally the engine for Japan's economy in the face of weak domestic demand, had helped trigger a 0.1% contraction in the final three months of last year after two previous\",\n",
              "   'yen against the dollar, reflecting investor optimism. Despite these positive indicators, challenges persist, including concerns over export performance and demographic issues such as an aging population. The Bank of Japan remains cautiously']],\n",
              " 'reference': [\"Japan's industrial production grew by 2.3% in February 2025, indicating a moderate recovery after previous declines.\",\n",
              "  'Retail sales in Japan rose by 3.9% year-on-year in January 2025, marking the 36th consecutive month of growth.',\n",
              "  'The Bank of Japan stated that there is a low risk of serious recession, but warned of uncertainties and revised growth forecasts downward.',\n",
              "  'The Nikkei 225 index has performed strongly, reaching around 11,740 points and is projected to climb to 45,400 by the end of 2025.',\n",
              "  'The Japanese yen has strengthened to around 104.53 against the US dollar, reflecting renewed investor optimism.',\n",
              "  \"Japan's economy continues to face challenges such as weak exports, trade tensions, and an aging population despite recent growth.\"]}"
            ]
          },
          "execution_count": 26,
          "metadata": {},
          "output_type": "execute_result"
        }
      ],
      "source": [
        "data"
      ]
    },
    {
      "cell_type": "code",
      "execution_count": 27,
      "metadata": {},
      "outputs": [
        {
          "data": {
            "text/html": [
              "<div>\n",
              "<style scoped>\n",
              "    .dataframe tbody tr th:only-of-type {\n",
              "        vertical-align: middle;\n",
              "    }\n",
              "\n",
              "    .dataframe tbody tr th {\n",
              "        vertical-align: top;\n",
              "    }\n",
              "\n",
              "    .dataframe thead th {\n",
              "        text-align: right;\n",
              "    }\n",
              "</style>\n",
              "<table border=\"1\" class=\"dataframe\">\n",
              "  <thead>\n",
              "    <tr style=\"text-align: right;\">\n",
              "      <th></th>\n",
              "      <th>question</th>\n",
              "      <th>answer</th>\n",
              "      <th>contexts</th>\n",
              "      <th>reference</th>\n",
              "    </tr>\n",
              "  </thead>\n",
              "  <tbody>\n",
              "    <tr>\n",
              "      <th>0</th>\n",
              "      <td>What is the current status of Japan's industri...</td>\n",
              "      <td>As of mid-2025, Japan's industrial production ...</td>\n",
              "      <td>[As of early 2025, Japan's economy exhibits si...</td>\n",
              "      <td>Japan's industrial production grew by 2.3% in ...</td>\n",
              "    </tr>\n",
              "    <tr>\n",
              "      <th>1</th>\n",
              "      <td>How have retail sales in Japan performed recen...</td>\n",
              "      <td>Retail sales in Japan have shown consistent gr...</td>\n",
              "      <td>[As of early 2025, Japan's economy exhibits si...</td>\n",
              "      <td>Retail sales in Japan rose by 3.9% year-on-yea...</td>\n",
              "    </tr>\n",
              "    <tr>\n",
              "      <th>2</th>\n",
              "      <td>What did the Bank of Japan say about the econo...</td>\n",
              "      <td>The Bank of Japan remains cautiously optimisti...</td>\n",
              "      <td>[population. The Bank of Japan remains cautiou...</td>\n",
              "      <td>The Bank of Japan stated that there is a low r...</td>\n",
              "    </tr>\n",
              "    <tr>\n",
              "      <th>3</th>\n",
              "      <td>What has been the performance of the Nikkei 22...</td>\n",
              "      <td>The Nikkei 225 index has shown strength, reach...</td>\n",
              "      <td>[In the financial markets, the Nikkei 225 inde...</td>\n",
              "      <td>The Nikkei 225 index has performed strongly, r...</td>\n",
              "    </tr>\n",
              "    <tr>\n",
              "      <th>4</th>\n",
              "      <td>How has the Japanese yen moved in recent times?</td>\n",
              "      <td>The Japanese yen has experienced fluctuations,...</td>\n",
              "      <td>[return of foreign investors. The Japanese yen...</td>\n",
              "      <td>The Japanese yen has strengthened to around 10...</td>\n",
              "    </tr>\n",
              "    <tr>\n",
              "      <th>5</th>\n",
              "      <td>What are some challenges Japan's economy is st...</td>\n",
              "      <td>Japan's economy is still facing challenges suc...</td>\n",
              "      <td>[As of mid-2025, Japan's economy is experienci...</td>\n",
              "      <td>Japan's economy continues to face challenges s...</td>\n",
              "    </tr>\n",
              "  </tbody>\n",
              "</table>\n",
              "</div>"
            ],
            "text/plain": [
              "                                            question  \\\n",
              "0  What is the current status of Japan's industri...   \n",
              "1  How have retail sales in Japan performed recen...   \n",
              "2  What did the Bank of Japan say about the econo...   \n",
              "3  What has been the performance of the Nikkei 22...   \n",
              "4    How has the Japanese yen moved in recent times?   \n",
              "5  What are some challenges Japan's economy is st...   \n",
              "\n",
              "                                              answer  \\\n",
              "0  As of mid-2025, Japan's industrial production ...   \n",
              "1  Retail sales in Japan have shown consistent gr...   \n",
              "2  The Bank of Japan remains cautiously optimisti...   \n",
              "3  The Nikkei 225 index has shown strength, reach...   \n",
              "4  The Japanese yen has experienced fluctuations,...   \n",
              "5  Japan's economy is still facing challenges suc...   \n",
              "\n",
              "                                            contexts  \\\n",
              "0  [As of early 2025, Japan's economy exhibits si...   \n",
              "1  [As of early 2025, Japan's economy exhibits si...   \n",
              "2  [population. The Bank of Japan remains cautiou...   \n",
              "3  [In the financial markets, the Nikkei 225 inde...   \n",
              "4  [return of foreign investors. The Japanese yen...   \n",
              "5  [As of mid-2025, Japan's economy is experienci...   \n",
              "\n",
              "                                           reference  \n",
              "0  Japan's industrial production grew by 2.3% in ...  \n",
              "1  Retail sales in Japan rose by 3.9% year-on-yea...  \n",
              "2  The Bank of Japan stated that there is a low r...  \n",
              "3  The Nikkei 225 index has performed strongly, r...  \n",
              "4  The Japanese yen has strengthened to around 10...  \n",
              "5  Japan's economy continues to face challenges s...  "
            ]
          },
          "execution_count": 27,
          "metadata": {},
          "output_type": "execute_result"
        }
      ],
      "source": [
        "import pandas as pd\n",
        "pd.DataFrame(data)"
      ]
    },
    {
      "cell_type": "code",
      "execution_count": 31,
      "metadata": {
        "id": "Jf7121l-K5CL"
      },
      "outputs": [],
      "source": [
        "from datasets import Dataset\n",
        "dataset=Dataset.from_dict(data)"
      ]
    },
    {
      "cell_type": "code",
      "execution_count": 32,
      "metadata": {},
      "outputs": [
        {
          "data": {
            "text/plain": [
              "Dataset({\n",
              "    features: ['question', 'answer', 'contexts', 'reference'],\n",
              "    num_rows: 6\n",
              "})"
            ]
          },
          "execution_count": 32,
          "metadata": {},
          "output_type": "execute_result"
        }
      ],
      "source": [
        "dataset"
      ]
    },
    {
      "cell_type": "code",
      "execution_count": 33,
      "metadata": {
        "id": "K9Nr15uVNWN4"
      },
      "outputs": [],
      "source": [
        "from ragas import evaluate\n",
        "from ragas.metrics import (\n",
        "    faithfulness,\n",
        "    answer_relevancy,\n",
        "    context_recall,\n",
        "    context_precision,\n",
        ")"
      ]
    },
    {
      "cell_type": "code",
      "execution_count": 29,
      "metadata": {},
      "outputs": [],
      "source": [
        "# from langchain_openai import ChatOpenAI\n",
        "# from ragas.llms import LangchainLLMWrapper\n",
        "\n",
        "# # Use Groq's API endpoint\n",
        "# GROQ_API_KEY = \"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\"\n",
        "# GROQ_BASE_URL = \"https://api.groq.com/openai/v1\"\n",
        "\n",
        "# llm = ChatOpenAI(\n",
        "#     openai_api_key=GROQ_API_KEY,\n",
        "#     base_url=GROQ_BASE_URL,\n",
        "#     model=\"llama3-8b-8192\",  # or any Groq-supported model\n",
        "# )\n",
        "# llm_wrapped = LangchainLLMWrapper(llm)"
      ]
    },
    {
      "cell_type": "code",
      "execution_count": 34,
      "metadata": {
        "colab": {
          "base_uri": "https://localhost:8080/",
          "height": 87,
          "referenced_widgets": [
            "ad458bd4a169488ca51dffacb3e1a69b",
            "bbb4d05f2b814a8ca5dd84402d52187c",
            "d31f3ac36dc24b4e97288ac3c90ef0cc",
            "75cb5116bea749e18259e2b1a5f47147",
            "8b814a076c8d4cca89cb82ae984988d9",
            "dc022fbec3d5499a9960a608bef523f8",
            "897298e19c7a4a0f87b19c5b78ecb098",
            "62335245ebde4e0597af9dcb67858707",
            "b017f1c69210420f97aecf709bb826e4",
            "cb6b4c126f1d46e7bd93ea6fcd7e7534",
            "6ade838119c84470aa5c87fd782d84a4"
          ]
        },
        "id": "mY9oYF4pNiQ1",
        "outputId": "3995bc6d-d7a3-47fa-acfc-d3ffb8b01715"
      },
      "outputs": [
        {
          "name": "stderr",
          "output_type": "stream",
          "text": [
            "Evaluating: 100%|██████████| 24/24 [00:20<00:00,  1.15it/s]\n"
          ]
        }
      ],
      "source": [
        "result=evaluate(\n",
        "    dataset=dataset,\n",
        "    metrics=[context_precision,context_recall,faithfulness,answer_relevancy]\n",
        ")"
      ]
    },
    {
      "cell_type": "code",
      "execution_count": 35,
      "metadata": {
        "colab": {
          "base_uri": "https://localhost:8080/"
        },
        "id": "AFIT-pkpOCyn",
        "outputId": "349e570c-9cbe-41c0-cdef-af60d1602ac4"
      },
      "outputs": [
        {
          "data": {
            "text/plain": [
              "{'context_precision': 0.7037, 'context_recall': 0.7778, 'faithfulness': 1.0000, 'answer_relevancy': 0.9333}"
            ]
          },
          "execution_count": 35,
          "metadata": {},
          "output_type": "execute_result"
        }
      ],
      "source": [
        "result"
      ]
    },
    {
      "cell_type": "code",
      "execution_count": 36,
      "metadata": {
        "id": "ESPmG2dFOH0j"
      },
      "outputs": [],
      "source": [
        "df=result.to_pandas()"
      ]
    },
    {
      "cell_type": "code",
      "execution_count": 37,
      "metadata": {
        "colab": {
          "base_uri": "https://localhost:8080/",
          "height": 403
        },
        "id": "HeaiyslMPWS5",
        "outputId": "181b9d5c-e6ed-4a32-eab5-c1ab483f6c0b"
      },
      "outputs": [
        {
          "data": {
            "text/html": [
              "<div>\n",
              "<style scoped>\n",
              "    .dataframe tbody tr th:only-of-type {\n",
              "        vertical-align: middle;\n",
              "    }\n",
              "\n",
              "    .dataframe tbody tr th {\n",
              "        vertical-align: top;\n",
              "    }\n",
              "\n",
              "    .dataframe thead th {\n",
              "        text-align: right;\n",
              "    }\n",
              "</style>\n",
              "<table border=\"1\" class=\"dataframe\">\n",
              "  <thead>\n",
              "    <tr style=\"text-align: right;\">\n",
              "      <th></th>\n",
              "      <th>user_input</th>\n",
              "      <th>retrieved_contexts</th>\n",
              "      <th>response</th>\n",
              "      <th>reference</th>\n",
              "      <th>context_precision</th>\n",
              "      <th>context_recall</th>\n",
              "      <th>faithfulness</th>\n",
              "      <th>answer_relevancy</th>\n",
              "    </tr>\n",
              "  </thead>\n",
              "  <tbody>\n",
              "    <tr>\n",
              "      <th>0</th>\n",
              "      <td>What is the current status of Japan's industri...</td>\n",
              "      <td>[As of early 2025, Japan's economy exhibits si...</td>\n",
              "      <td>As of mid-2025, Japan's industrial production ...</td>\n",
              "      <td>Japan's industrial production grew by 2.3% in ...</td>\n",
              "      <td>1.000000</td>\n",
              "      <td>1.000000</td>\n",
              "      <td>1.0</td>\n",
              "      <td>0.909763</td>\n",
              "    </tr>\n",
              "    <tr>\n",
              "      <th>1</th>\n",
              "      <td>How have retail sales in Japan performed recen...</td>\n",
              "      <td>[As of early 2025, Japan's economy exhibits si...</td>\n",
              "      <td>Retail sales in Japan have shown consistent gr...</td>\n",
              "      <td>Retail sales in Japan rose by 3.9% year-on-yea...</td>\n",
              "      <td>0.500000</td>\n",
              "      <td>1.000000</td>\n",
              "      <td>1.0</td>\n",
              "      <td>0.959404</td>\n",
              "    </tr>\n",
              "    <tr>\n",
              "      <th>2</th>\n",
              "      <td>What did the Bank of Japan say about the econo...</td>\n",
              "      <td>[population. The Bank of Japan remains cautiou...</td>\n",
              "      <td>The Bank of Japan remains cautiously optimisti...</td>\n",
              "      <td>The Bank of Japan stated that there is a low r...</td>\n",
              "      <td>0.500000</td>\n",
              "      <td>0.666667</td>\n",
              "      <td>1.0</td>\n",
              "      <td>0.924095</td>\n",
              "    </tr>\n",
              "    <tr>\n",
              "      <th>3</th>\n",
              "      <td>What has been the performance of the Nikkei 22...</td>\n",
              "      <td>[In the financial markets, the Nikkei 225 inde...</td>\n",
              "      <td>The Nikkei 225 index has shown strength, reach...</td>\n",
              "      <td>The Nikkei 225 index has performed strongly, r...</td>\n",
              "      <td>0.805556</td>\n",
              "      <td>1.000000</td>\n",
              "      <td>1.0</td>\n",
              "      <td>0.926611</td>\n",
              "    </tr>\n",
              "    <tr>\n",
              "      <th>4</th>\n",
              "      <td>How has the Japanese yen moved in recent times?</td>\n",
              "      <td>[return of foreign investors. The Japanese yen...</td>\n",
              "      <td>The Japanese yen has experienced fluctuations,...</td>\n",
              "      <td>The Japanese yen has strengthened to around 10...</td>\n",
              "      <td>1.000000</td>\n",
              "      <td>1.000000</td>\n",
              "      <td>1.0</td>\n",
              "      <td>0.905876</td>\n",
              "    </tr>\n",
              "    <tr>\n",
              "      <th>5</th>\n",
              "      <td>What are some challenges Japan's economy is st...</td>\n",
              "      <td>[As of mid-2025, Japan's economy is experienci...</td>\n",
              "      <td>Japan's economy is still facing challenges suc...</td>\n",
              "      <td>Japan's economy continues to face challenges s...</td>\n",
              "      <td>0.416667</td>\n",
              "      <td>0.000000</td>\n",
              "      <td>1.0</td>\n",
              "      <td>0.973773</td>\n",
              "    </tr>\n",
              "  </tbody>\n",
              "</table>\n",
              "</div>"
            ],
            "text/plain": [
              "                                          user_input  \\\n",
              "0  What is the current status of Japan's industri...   \n",
              "1  How have retail sales in Japan performed recen...   \n",
              "2  What did the Bank of Japan say about the econo...   \n",
              "3  What has been the performance of the Nikkei 22...   \n",
              "4    How has the Japanese yen moved in recent times?   \n",
              "5  What are some challenges Japan's economy is st...   \n",
              "\n",
              "                                  retrieved_contexts  \\\n",
              "0  [As of early 2025, Japan's economy exhibits si...   \n",
              "1  [As of early 2025, Japan's economy exhibits si...   \n",
              "2  [population. The Bank of Japan remains cautiou...   \n",
              "3  [In the financial markets, the Nikkei 225 inde...   \n",
              "4  [return of foreign investors. The Japanese yen...   \n",
              "5  [As of mid-2025, Japan's economy is experienci...   \n",
              "\n",
              "                                            response  \\\n",
              "0  As of mid-2025, Japan's industrial production ...   \n",
              "1  Retail sales in Japan have shown consistent gr...   \n",
              "2  The Bank of Japan remains cautiously optimisti...   \n",
              "3  The Nikkei 225 index has shown strength, reach...   \n",
              "4  The Japanese yen has experienced fluctuations,...   \n",
              "5  Japan's economy is still facing challenges suc...   \n",
              "\n",
              "                                           reference  context_precision  \\\n",
              "0  Japan's industrial production grew by 2.3% in ...           1.000000   \n",
              "1  Retail sales in Japan rose by 3.9% year-on-yea...           0.500000   \n",
              "2  The Bank of Japan stated that there is a low r...           0.500000   \n",
              "3  The Nikkei 225 index has performed strongly, r...           0.805556   \n",
              "4  The Japanese yen has strengthened to around 10...           1.000000   \n",
              "5  Japan's economy continues to face challenges s...           0.416667   \n",
              "\n",
              "   context_recall  faithfulness  answer_relevancy  \n",
              "0        1.000000           1.0          0.909763  \n",
              "1        1.000000           1.0          0.959404  \n",
              "2        0.666667           1.0          0.924095  \n",
              "3        1.000000           1.0          0.926611  \n",
              "4        1.000000           1.0          0.905876  \n",
              "5        0.000000           1.0          0.973773  "
            ]
          },
          "execution_count": 37,
          "metadata": {},
          "output_type": "execute_result"
        }
      ],
      "source": [
        "df"
      ]
    },
    {
      "cell_type": "code",
      "execution_count": 38,
      "metadata": {
        "colab": {
          "base_uri": "https://localhost:8080/"
        },
        "id": "xvZEKRENOMc7",
        "outputId": "1f1f0181-d020-4563-8859-4f01346edbde"
      },
      "outputs": [
        {
          "data": {
            "text/plain": [
              "user_input            What is the current status of Japan's industri...\n",
              "retrieved_contexts    [As of early 2025, Japan's economy exhibits si...\n",
              "response              As of mid-2025, Japan's industrial production ...\n",
              "reference             Japan's industrial production grew by 2.3% in ...\n",
              "context_precision                                                   1.0\n",
              "context_recall                                                      1.0\n",
              "faithfulness                                                        1.0\n",
              "answer_relevancy                                               0.909763\n",
              "Name: 0, dtype: object"
            ]
          },
          "execution_count": 38,
          "metadata": {},
          "output_type": "execute_result"
        }
      ],
      "source": [
        "df.iloc[0,:]"
      ]
    },
    {
      "cell_type": "code",
      "execution_count": 39,
      "metadata": {
        "colab": {
          "base_uri": "https://localhost:8080/",
          "height": 35
        },
        "id": "uMAv2kiYPL6d",
        "outputId": "3995050e-34b8-4a5b-910c-63747f5d172c"
      },
      "outputs": [
        {
          "data": {
            "text/plain": [
              "\"What is the current status of Japan's industrial production?\""
            ]
          },
          "execution_count": 39,
          "metadata": {},
          "output_type": "execute_result"
        }
      ],
      "source": [
        "#data\n",
        "#this is my actual query\n",
        "df.iloc[0,:].user_input\t"
      ]
    },
    {
      "cell_type": "code",
      "execution_count": 40,
      "metadata": {
        "colab": {
          "base_uri": "https://localhost:8080/",
          "height": 35
        },
        "id": "H53eHwv3Ph7C",
        "outputId": "5dc813d7-7d2d-4eeb-c49e-8e747569652c"
      },
      "outputs": [
        {
          "data": {
            "text/plain": [
              "[\"As of early 2025, Japan's economy exhibits signs of moderate recovery, with industrial production increasing by 2.3% month-over-month in February, slightly below initial estimates but indicating a rebound from previous contractions. Retail sales\",\n",
              " \"Industrial revival hope for Japan\\n\\nJapanese industry is growing faster than expected, boosting hopes that the country's retreat back into recession is over.\",\n",
              " \"As of mid-2025, Japan's economy is experiencing a nuanced recovery characterized by moderate growth and persistent challenges. In the first quarter, real GDP contracted by 0.1%, influenced by a 1.1% month-over-month decline in industrial production\",\n",
              " \"Japan's last four year GDP:\\n\\nYear\\tGDP\\n2022\\t$4,256.41B\\n2021\\t$5,034.62B\\n2020\\t$5,055.59B\\n2019\\t$5,117.99B\"]"
            ]
          },
          "execution_count": 40,
          "metadata": {},
          "output_type": "execute_result"
        }
      ],
      "source": [
        "#predicted\n",
        "#generation of the model\n",
        "df.iloc[0,:].retrieved_contexts\t"
      ]
    },
    {
      "cell_type": "code",
      "execution_count": 41,
      "metadata": {
        "colab": {
          "base_uri": "https://localhost:8080/",
          "height": 35
        },
        "id": "e4RchGjuPlu_",
        "outputId": "aa238e6f-c71d-49c4-d838-5a031fc53a82"
      },
      "outputs": [
        {
          "data": {
            "text/plain": [
              "\"As of mid-2025, Japan's industrial production declined by 1.1% month-over-month.\""
            ]
          },
          "execution_count": 41,
          "metadata": {},
          "output_type": "execute_result"
        }
      ],
      "source": [
        "#actual\n",
        "#actual answer(manually we have written this answer)(this could be llm generated)\n",
        "df.iloc[0,:].response"
      ]
    },
    {
      "cell_type": "code",
      "execution_count": 42,
      "metadata": {
        "colab": {
          "base_uri": "https://localhost:8080/",
          "height": 72
        },
        "id": "vos6bzpFPtfM",
        "outputId": "2014eb8c-f5cf-44e2-93a6-53fe3f51855a"
      },
      "outputs": [
        {
          "data": {
            "text/plain": [
              "\"Japan's industrial production grew by 2.3% in February 2025, indicating a moderate recovery after previous declines.\""
            ]
          },
          "execution_count": 42,
          "metadata": {},
          "output_type": "execute_result"
        }
      ],
      "source": [
        "#average value\n",
        "#retrieval result(context)\n",
        "df.iloc[0,:].reference\t"
      ]
    },
    {
      "cell_type": "code",
      "execution_count": null,
      "metadata": {
        "id": "GSenSZXzPy8y"
      },
      "outputs": [],
      "source": []
    },
    {
      "cell_type": "code",
      "execution_count": null,
      "metadata": {
        "id": "dHC8IxISQN2y"
      },
      "outputs": [],
      "source": [
        "#rouge summrization\n",
        "#bleu translation"
      ]
    },
    {
      "cell_type": "code",
      "execution_count": null,
      "metadata": {
        "colab": {
          "base_uri": "https://localhost:8080/",
          "height": 161,
          "referenced_widgets": [
            "aea61943cfce4554ae3db563ff7d1999",
            "545628a8e2b54b0db0bfe7fb52d119e6",
            "0f7040e410854deabb94bf5ea4080a8e",
            "daa2cfe169e04db6857fa94765c963a4",
            "89b9465ed3504d60ace1639ed60b159a",
            "3778c125c91d43e69f06a39ecf10edc8",
            "260d47cb0c164810b88b52a4bd7bf295",
            "5d698eb8f4364fe390040ff2df50f234",
            "e1bd5b567ba5490780148fb43a2b45df",
            "c63034adeb3e41df9f9ec50bbc8e4612",
            "80632e399df24e69a9ef602897c14609"
          ]
        },
        "id": "L1dTb6TdWtiU",
        "outputId": "508adb92-4e9c-4569-b3c3-ce450ea7eb02"
      },
      "outputs": [
        {
          "data": {
            "application/vnd.jupyter.widget-view+json": {
              "model_id": "aea61943cfce4554ae3db563ff7d1999",
              "version_major": 2,
              "version_minor": 0
            },
            "text/plain": [
              "Evaluating:   0%|          | 0/2 [00:00<?, ?it/s]"
            ]
          },
          "metadata": {},
          "output_type": "display_data"
        },
        {
          "data": {
            "application/vnd.google.colaboratory.intrinsic+json": {
              "summary": "{\n  \"name\": \"score\",\n  \"rows\": 2,\n  \"fields\": [\n    {\n      \"column\": \"question\",\n      \"properties\": {\n        \"dtype\": \"string\",\n        \"num_unique_values\": 2,\n        \"samples\": [\n          \"Who won the most super bowls?\",\n          \"When was the first super bowl?\"\n        ],\n        \"semantic_type\": \"\",\n        \"description\": \"\"\n      }\n    },\n    {\n      \"column\": \"answer\",\n      \"properties\": {\n        \"dtype\": \"string\",\n        \"num_unique_values\": 2,\n        \"samples\": [\n          \"The most super bowls have been won by The New England Patriots\",\n          \"The first superbowl was held on Jan 15, 1967\"\n        ],\n        \"semantic_type\": \"\",\n        \"description\": \"\"\n      }\n    },\n    {\n      \"column\": \"ground_truth\",\n      \"properties\": {\n        \"dtype\": \"string\",\n        \"num_unique_values\": 2,\n        \"samples\": [\n          \"The New England Patriots have won the Super Bowl a record six times\",\n          \"The first superbowl was held on January 15, 1967\"\n        ],\n        \"semantic_type\": \"\",\n        \"description\": \"\"\n      }\n    },\n    {\n      \"column\": \"answer_similarity\",\n      \"properties\": {\n        \"dtype\": \"number\",\n        \"std\": 0.05097743257563156,\n        \"min\": 0.9242852642518871,\n        \"max\": 0.9963782407753052,\n        \"num_unique_values\": 2,\n        \"samples\": [\n          0.9242852642518871,\n          0.9963782407753052\n        ],\n        \"semantic_type\": \"\",\n        \"description\": \"\"\n      }\n    }\n  ]\n}",
              "type": "dataframe"
            },
            "text/html": [
              "\n",
              "  <div id=\"df-c7c23196-b884-43a3-9c1f-46937980ded1\" class=\"colab-df-container\">\n",
              "    <div>\n",
              "<style scoped>\n",
              "    .dataframe tbody tr th:only-of-type {\n",
              "        vertical-align: middle;\n",
              "    }\n",
              "\n",
              "    .dataframe tbody tr th {\n",
              "        vertical-align: top;\n",
              "    }\n",
              "\n",
              "    .dataframe thead th {\n",
              "        text-align: right;\n",
              "    }\n",
              "</style>\n",
              "<table border=\"1\" class=\"dataframe\">\n",
              "  <thead>\n",
              "    <tr style=\"text-align: right;\">\n",
              "      <th></th>\n",
              "      <th>question</th>\n",
              "      <th>answer</th>\n",
              "      <th>ground_truth</th>\n",
              "      <th>answer_similarity</th>\n",
              "    </tr>\n",
              "  </thead>\n",
              "  <tbody>\n",
              "    <tr>\n",
              "      <th>0</th>\n",
              "      <td>When was the first super bowl?</td>\n",
              "      <td>The first superbowl was held on Jan 15, 1967</td>\n",
              "      <td>The first superbowl was held on January 15, 1967</td>\n",
              "      <td>0.996378</td>\n",
              "    </tr>\n",
              "    <tr>\n",
              "      <th>1</th>\n",
              "      <td>Who won the most super bowls?</td>\n",
              "      <td>The most super bowls have been won by The New ...</td>\n",
              "      <td>The New England Patriots have won the Super Bo...</td>\n",
              "      <td>0.924285</td>\n",
              "    </tr>\n",
              "  </tbody>\n",
              "</table>\n",
              "</div>\n",
              "    <div class=\"colab-df-buttons\">\n",
              "\n",
              "  <div class=\"colab-df-container\">\n",
              "    <button class=\"colab-df-convert\" onclick=\"convertToInteractive('df-c7c23196-b884-43a3-9c1f-46937980ded1')\"\n",
              "            title=\"Convert this dataframe to an interactive table.\"\n",
              "            style=\"display:none;\">\n",
              "\n",
              "  <svg xmlns=\"http://www.w3.org/2000/svg\" height=\"24px\" viewBox=\"0 -960 960 960\">\n",
              "    <path d=\"M120-120v-720h720v720H120Zm60-500h600v-160H180v160Zm220 220h160v-160H400v160Zm0 220h160v-160H400v160ZM180-400h160v-160H180v160Zm440 0h160v-160H620v160ZM180-180h160v-160H180v160Zm440 0h160v-160H620v160Z\"/>\n",
              "  </svg>\n",
              "    </button>\n",
              "\n",
              "  <style>\n",
              "    .colab-df-container {\n",
              "      display:flex;\n",
              "      gap: 12px;\n",
              "    }\n",
              "\n",
              "    .colab-df-convert {\n",
              "      background-color: #E8F0FE;\n",
              "      border: none;\n",
              "      border-radius: 50%;\n",
              "      cursor: pointer;\n",
              "      display: none;\n",
              "      fill: #1967D2;\n",
              "      height: 32px;\n",
              "      padding: 0 0 0 0;\n",
              "      width: 32px;\n",
              "    }\n",
              "\n",
              "    .colab-df-convert:hover {\n",
              "      background-color: #E2EBFA;\n",
              "      box-shadow: 0px 1px 2px rgba(60, 64, 67, 0.3), 0px 1px 3px 1px rgba(60, 64, 67, 0.15);\n",
              "      fill: #174EA6;\n",
              "    }\n",
              "\n",
              "    .colab-df-buttons div {\n",
              "      margin-bottom: 4px;\n",
              "    }\n",
              "\n",
              "    [theme=dark] .colab-df-convert {\n",
              "      background-color: #3B4455;\n",
              "      fill: #D2E3FC;\n",
              "    }\n",
              "\n",
              "    [theme=dark] .colab-df-convert:hover {\n",
              "      background-color: #434B5C;\n",
              "      box-shadow: 0px 1px 3px 1px rgba(0, 0, 0, 0.15);\n",
              "      filter: drop-shadow(0px 1px 2px rgba(0, 0, 0, 0.3));\n",
              "      fill: #FFFFFF;\n",
              "    }\n",
              "  </style>\n",
              "\n",
              "    <script>\n",
              "      const buttonEl =\n",
              "        document.querySelector('#df-c7c23196-b884-43a3-9c1f-46937980ded1 button.colab-df-convert');\n",
              "      buttonEl.style.display =\n",
              "        google.colab.kernel.accessAllowed ? 'block' : 'none';\n",
              "\n",
              "      async function convertToInteractive(key) {\n",
              "        const element = document.querySelector('#df-c7c23196-b884-43a3-9c1f-46937980ded1');\n",
              "        const dataTable =\n",
              "          await google.colab.kernel.invokeFunction('convertToInteractive',\n",
              "                                                    [key], {});\n",
              "        if (!dataTable) return;\n",
              "\n",
              "        const docLinkHtml = 'Like what you see? Visit the ' +\n",
              "          '<a target=\"_blank\" href=https://colab.research.google.com/notebooks/data_table.ipynb>data table notebook</a>'\n",
              "          + ' to learn more about interactive tables.';\n",
              "        element.innerHTML = '';\n",
              "        dataTable['output_type'] = 'display_data';\n",
              "        await google.colab.output.renderOutput(dataTable, element);\n",
              "        const docLink = document.createElement('div');\n",
              "        docLink.innerHTML = docLinkHtml;\n",
              "        element.appendChild(docLink);\n",
              "      }\n",
              "    </script>\n",
              "  </div>\n",
              "\n",
              "\n",
              "<div id=\"df-148dae54-5a37-4ffe-af19-73da5c7ab4ec\">\n",
              "  <button class=\"colab-df-quickchart\" onclick=\"quickchart('df-148dae54-5a37-4ffe-af19-73da5c7ab4ec')\"\n",
              "            title=\"Suggest charts\"\n",
              "            style=\"display:none;\">\n",
              "\n",
              "<svg xmlns=\"http://www.w3.org/2000/svg\" height=\"24px\"viewBox=\"0 0 24 24\"\n",
              "     width=\"24px\">\n",
              "    <g>\n",
              "        <path d=\"M19 3H5c-1.1 0-2 .9-2 2v14c0 1.1.9 2 2 2h14c1.1 0 2-.9 2-2V5c0-1.1-.9-2-2-2zM9 17H7v-7h2v7zm4 0h-2V7h2v10zm4 0h-2v-4h2v4z\"/>\n",
              "    </g>\n",
              "</svg>\n",
              "  </button>\n",
              "\n",
              "<style>\n",
              "  .colab-df-quickchart {\n",
              "      --bg-color: #E8F0FE;\n",
              "      --fill-color: #1967D2;\n",
              "      --hover-bg-color: #E2EBFA;\n",
              "      --hover-fill-color: #174EA6;\n",
              "      --disabled-fill-color: #AAA;\n",
              "      --disabled-bg-color: #DDD;\n",
              "  }\n",
              "\n",
              "  [theme=dark] .colab-df-quickchart {\n",
              "      --bg-color: #3B4455;\n",
              "      --fill-color: #D2E3FC;\n",
              "      --hover-bg-color: #434B5C;\n",
              "      --hover-fill-color: #FFFFFF;\n",
              "      --disabled-bg-color: #3B4455;\n",
              "      --disabled-fill-color: #666;\n",
              "  }\n",
              "\n",
              "  .colab-df-quickchart {\n",
              "    background-color: var(--bg-color);\n",
              "    border: none;\n",
              "    border-radius: 50%;\n",
              "    cursor: pointer;\n",
              "    display: none;\n",
              "    fill: var(--fill-color);\n",
              "    height: 32px;\n",
              "    padding: 0;\n",
              "    width: 32px;\n",
              "  }\n",
              "\n",
              "  .colab-df-quickchart:hover {\n",
              "    background-color: var(--hover-bg-color);\n",
              "    box-shadow: 0 1px 2px rgba(60, 64, 67, 0.3), 0 1px 3px 1px rgba(60, 64, 67, 0.15);\n",
              "    fill: var(--button-hover-fill-color);\n",
              "  }\n",
              "\n",
              "  .colab-df-quickchart-complete:disabled,\n",
              "  .colab-df-quickchart-complete:disabled:hover {\n",
              "    background-color: var(--disabled-bg-color);\n",
              "    fill: var(--disabled-fill-color);\n",
              "    box-shadow: none;\n",
              "  }\n",
              "\n",
              "  .colab-df-spinner {\n",
              "    border: 2px solid var(--fill-color);\n",
              "    border-color: transparent;\n",
              "    border-bottom-color: var(--fill-color);\n",
              "    animation:\n",
              "      spin 1s steps(1) infinite;\n",
              "  }\n",
              "\n",
              "  @keyframes spin {\n",
              "    0% {\n",
              "      border-color: transparent;\n",
              "      border-bottom-color: var(--fill-color);\n",
              "      border-left-color: var(--fill-color);\n",
              "    }\n",
              "    20% {\n",
              "      border-color: transparent;\n",
              "      border-left-color: var(--fill-color);\n",
              "      border-top-color: var(--fill-color);\n",
              "    }\n",
              "    30% {\n",
              "      border-color: transparent;\n",
              "      border-left-color: var(--fill-color);\n",
              "      border-top-color: var(--fill-color);\n",
              "      border-right-color: var(--fill-color);\n",
              "    }\n",
              "    40% {\n",
              "      border-color: transparent;\n",
              "      border-right-color: var(--fill-color);\n",
              "      border-top-color: var(--fill-color);\n",
              "    }\n",
              "    60% {\n",
              "      border-color: transparent;\n",
              "      border-right-color: var(--fill-color);\n",
              "    }\n",
              "    80% {\n",
              "      border-color: transparent;\n",
              "      border-right-color: var(--fill-color);\n",
              "      border-bottom-color: var(--fill-color);\n",
              "    }\n",
              "    90% {\n",
              "      border-color: transparent;\n",
              "      border-bottom-color: var(--fill-color);\n",
              "    }\n",
              "  }\n",
              "</style>\n",
              "\n",
              "  <script>\n",
              "    async function quickchart(key) {\n",
              "      const quickchartButtonEl =\n",
              "        document.querySelector('#' + key + ' button');\n",
              "      quickchartButtonEl.disabled = true;  // To prevent multiple clicks.\n",
              "      quickchartButtonEl.classList.add('colab-df-spinner');\n",
              "      try {\n",
              "        const charts = await google.colab.kernel.invokeFunction(\n",
              "            'suggestCharts', [key], {});\n",
              "      } catch (error) {\n",
              "        console.error('Error during call to suggestCharts:', error);\n",
              "      }\n",
              "      quickchartButtonEl.classList.remove('colab-df-spinner');\n",
              "      quickchartButtonEl.classList.add('colab-df-quickchart-complete');\n",
              "    }\n",
              "    (() => {\n",
              "      let quickchartButtonEl =\n",
              "        document.querySelector('#df-148dae54-5a37-4ffe-af19-73da5c7ab4ec button');\n",
              "      quickchartButtonEl.style.display =\n",
              "        google.colab.kernel.accessAllowed ? 'block' : 'none';\n",
              "    })();\n",
              "  </script>\n",
              "</div>\n",
              "\n",
              "    </div>\n",
              "  </div>\n"
            ],
            "text/plain": [
              "                         question  \\\n",
              "0  When was the first super bowl?   \n",
              "1   Who won the most super bowls?   \n",
              "\n",
              "                                              answer  \\\n",
              "0       The first superbowl was held on Jan 15, 1967   \n",
              "1  The most super bowls have been won by The New ...   \n",
              "\n",
              "                                        ground_truth  answer_similarity  \n",
              "0   The first superbowl was held on January 15, 1967           0.996378  \n",
              "1  The New England Patriots have won the Super Bo...           0.924285  "
            ]
          },
          "execution_count": 80,
          "metadata": {},
          "output_type": "execute_result"
        }
      ],
      "source": [
        "from datasets import Dataset\n",
        "from ragas.metrics import answer_similarity\n",
        "from ragas import evaluate\n",
        "\n",
        "\n",
        "data_samples = {\n",
        "    'question': ['When was the first super bowl?', 'Who won the most super bowls?'],\n",
        "    'answer': ['The first superbowl was held on Jan 15, 1967', 'The most super bowls have been won by The New England Patriots'],\n",
        "    'ground_truth': ['The first superbowl was held on January 15, 1967', 'The New England Patriots have won the Super Bowl a record six times']\n",
        "}\n",
        "dataset = Dataset.from_dict(data_samples)\n",
        "score = evaluate(dataset,metrics=[answer_similarity])\n",
        "score.to_pandas()"
      ]
    },
    {
      "cell_type": "code",
      "execution_count": null,
      "metadata": {
        "colab": {
          "base_uri": "https://localhost:8080/",
          "height": 178,
          "referenced_widgets": [
            "bbf6f325c044411e9f0ddca6a19a6da7",
            "0403206b46e84ab48caddcd899c06ce2",
            "0ff90a234f994b888a9741d639a59a37",
            "d6bf0d213b1e4da4b07722d3cad455d3",
            "1f1364bd5d304963810d2ed015887d71",
            "1ecab2f0664e4902be01666ce41dfba3",
            "eae93c24eebe40168a8e8739422c47d3",
            "79d1db6324b846c58468ab70d0c41b10",
            "113ff233e46d4e5ba19c502d88de58a1",
            "102eb9bcf649448b8b79ae178b2a8d9c",
            "0d5e4dd1b5e44ecfa76891c87bef8b47"
          ]
        },
        "id": "Ft2R0c-SWxDS",
        "outputId": "4bdc900a-200a-4716-9fcb-789922fcc1c1"
      },
      "outputs": [
        {
          "data": {
            "application/vnd.jupyter.widget-view+json": {
              "model_id": "bbf6f325c044411e9f0ddca6a19a6da7",
              "version_major": 2,
              "version_minor": 0
            },
            "text/plain": [
              "Evaluating:   0%|          | 0/2 [00:00<?, ?it/s]"
            ]
          },
          "metadata": {},
          "output_type": "display_data"
        },
        {
          "data": {
            "application/vnd.google.colaboratory.intrinsic+json": {
              "summary": "{\n  \"name\": \"score\",\n  \"rows\": 2,\n  \"fields\": [\n    {\n      \"column\": \"question\",\n      \"properties\": {\n        \"dtype\": \"string\",\n        \"num_unique_values\": 2,\n        \"samples\": [\n          \"Who won the most super bowls?\",\n          \"When was the first super bowl?\"\n        ],\n        \"semantic_type\": \"\",\n        \"description\": \"\"\n      }\n    },\n    {\n      \"column\": \"answer\",\n      \"properties\": {\n        \"dtype\": \"string\",\n        \"num_unique_values\": 2,\n        \"samples\": [\n          \"The most super bowls have been won by The New England Patriots\",\n          \"The first superbowl was held on Jan 15, 1967\"\n        ],\n        \"semantic_type\": \"\",\n        \"description\": \"\"\n      }\n    },\n    {\n      \"column\": \"ground_truth\",\n      \"properties\": {\n        \"dtype\": \"string\",\n        \"num_unique_values\": 2,\n        \"samples\": [\n          \"The New England Patriots have won the Super Bowl a record six times\",\n          \"The first superbowl was held on January 15, 1967\"\n        ],\n        \"semantic_type\": \"\",\n        \"description\": \"\"\n      }\n    },\n    {\n      \"column\": \"answer_correctness\",\n      \"properties\": {\n        \"dtype\": \"number\",\n        \"std\": 0.012739500471641239,\n        \"min\": 0.7310781858489729,\n        \"max\": 0.7490945601938264,\n        \"num_unique_values\": 2,\n        \"samples\": [\n          0.7310781858489729,\n          0.7490945601938264\n        ],\n        \"semantic_type\": \"\",\n        \"description\": \"\"\n      }\n    }\n  ]\n}",
              "type": "dataframe"
            },
            "text/html": [
              "\n",
              "  <div id=\"df-b4972e57-e9a1-4255-b924-d1f60fad3e04\" class=\"colab-df-container\">\n",
              "    <div>\n",
              "<style scoped>\n",
              "    .dataframe tbody tr th:only-of-type {\n",
              "        vertical-align: middle;\n",
              "    }\n",
              "\n",
              "    .dataframe tbody tr th {\n",
              "        vertical-align: top;\n",
              "    }\n",
              "\n",
              "    .dataframe thead th {\n",
              "        text-align: right;\n",
              "    }\n",
              "</style>\n",
              "<table border=\"1\" class=\"dataframe\">\n",
              "  <thead>\n",
              "    <tr style=\"text-align: right;\">\n",
              "      <th></th>\n",
              "      <th>question</th>\n",
              "      <th>answer</th>\n",
              "      <th>ground_truth</th>\n",
              "      <th>answer_correctness</th>\n",
              "    </tr>\n",
              "  </thead>\n",
              "  <tbody>\n",
              "    <tr>\n",
              "      <th>0</th>\n",
              "      <td>When was the first super bowl?</td>\n",
              "      <td>The first superbowl was held on Jan 15, 1967</td>\n",
              "      <td>The first superbowl was held on January 15, 1967</td>\n",
              "      <td>0.749095</td>\n",
              "    </tr>\n",
              "    <tr>\n",
              "      <th>1</th>\n",
              "      <td>Who won the most super bowls?</td>\n",
              "      <td>The most super bowls have been won by The New ...</td>\n",
              "      <td>The New England Patriots have won the Super Bo...</td>\n",
              "      <td>0.731078</td>\n",
              "    </tr>\n",
              "  </tbody>\n",
              "</table>\n",
              "</div>\n",
              "    <div class=\"colab-df-buttons\">\n",
              "\n",
              "  <div class=\"colab-df-container\">\n",
              "    <button class=\"colab-df-convert\" onclick=\"convertToInteractive('df-b4972e57-e9a1-4255-b924-d1f60fad3e04')\"\n",
              "            title=\"Convert this dataframe to an interactive table.\"\n",
              "            style=\"display:none;\">\n",
              "\n",
              "  <svg xmlns=\"http://www.w3.org/2000/svg\" height=\"24px\" viewBox=\"0 -960 960 960\">\n",
              "    <path d=\"M120-120v-720h720v720H120Zm60-500h600v-160H180v160Zm220 220h160v-160H400v160Zm0 220h160v-160H400v160ZM180-400h160v-160H180v160Zm440 0h160v-160H620v160ZM180-180h160v-160H180v160Zm440 0h160v-160H620v160Z\"/>\n",
              "  </svg>\n",
              "    </button>\n",
              "\n",
              "  <style>\n",
              "    .colab-df-container {\n",
              "      display:flex;\n",
              "      gap: 12px;\n",
              "    }\n",
              "\n",
              "    .colab-df-convert {\n",
              "      background-color: #E8F0FE;\n",
              "      border: none;\n",
              "      border-radius: 50%;\n",
              "      cursor: pointer;\n",
              "      display: none;\n",
              "      fill: #1967D2;\n",
              "      height: 32px;\n",
              "      padding: 0 0 0 0;\n",
              "      width: 32px;\n",
              "    }\n",
              "\n",
              "    .colab-df-convert:hover {\n",
              "      background-color: #E2EBFA;\n",
              "      box-shadow: 0px 1px 2px rgba(60, 64, 67, 0.3), 0px 1px 3px 1px rgba(60, 64, 67, 0.15);\n",
              "      fill: #174EA6;\n",
              "    }\n",
              "\n",
              "    .colab-df-buttons div {\n",
              "      margin-bottom: 4px;\n",
              "    }\n",
              "\n",
              "    [theme=dark] .colab-df-convert {\n",
              "      background-color: #3B4455;\n",
              "      fill: #D2E3FC;\n",
              "    }\n",
              "\n",
              "    [theme=dark] .colab-df-convert:hover {\n",
              "      background-color: #434B5C;\n",
              "      box-shadow: 0px 1px 3px 1px rgba(0, 0, 0, 0.15);\n",
              "      filter: drop-shadow(0px 1px 2px rgba(0, 0, 0, 0.3));\n",
              "      fill: #FFFFFF;\n",
              "    }\n",
              "  </style>\n",
              "\n",
              "    <script>\n",
              "      const buttonEl =\n",
              "        document.querySelector('#df-b4972e57-e9a1-4255-b924-d1f60fad3e04 button.colab-df-convert');\n",
              "      buttonEl.style.display =\n",
              "        google.colab.kernel.accessAllowed ? 'block' : 'none';\n",
              "\n",
              "      async function convertToInteractive(key) {\n",
              "        const element = document.querySelector('#df-b4972e57-e9a1-4255-b924-d1f60fad3e04');\n",
              "        const dataTable =\n",
              "          await google.colab.kernel.invokeFunction('convertToInteractive',\n",
              "                                                    [key], {});\n",
              "        if (!dataTable) return;\n",
              "\n",
              "        const docLinkHtml = 'Like what you see? Visit the ' +\n",
              "          '<a target=\"_blank\" href=https://colab.research.google.com/notebooks/data_table.ipynb>data table notebook</a>'\n",
              "          + ' to learn more about interactive tables.';\n",
              "        element.innerHTML = '';\n",
              "        dataTable['output_type'] = 'display_data';\n",
              "        await google.colab.output.renderOutput(dataTable, element);\n",
              "        const docLink = document.createElement('div');\n",
              "        docLink.innerHTML = docLinkHtml;\n",
              "        element.appendChild(docLink);\n",
              "      }\n",
              "    </script>\n",
              "  </div>\n",
              "\n",
              "\n",
              "<div id=\"df-a9e9a416-534f-4695-a6ad-027532ce9057\">\n",
              "  <button class=\"colab-df-quickchart\" onclick=\"quickchart('df-a9e9a416-534f-4695-a6ad-027532ce9057')\"\n",
              "            title=\"Suggest charts\"\n",
              "            style=\"display:none;\">\n",
              "\n",
              "<svg xmlns=\"http://www.w3.org/2000/svg\" height=\"24px\"viewBox=\"0 0 24 24\"\n",
              "     width=\"24px\">\n",
              "    <g>\n",
              "        <path d=\"M19 3H5c-1.1 0-2 .9-2 2v14c0 1.1.9 2 2 2h14c1.1 0 2-.9 2-2V5c0-1.1-.9-2-2-2zM9 17H7v-7h2v7zm4 0h-2V7h2v10zm4 0h-2v-4h2v4z\"/>\n",
              "    </g>\n",
              "</svg>\n",
              "  </button>\n",
              "\n",
              "<style>\n",
              "  .colab-df-quickchart {\n",
              "      --bg-color: #E8F0FE;\n",
              "      --fill-color: #1967D2;\n",
              "      --hover-bg-color: #E2EBFA;\n",
              "      --hover-fill-color: #174EA6;\n",
              "      --disabled-fill-color: #AAA;\n",
              "      --disabled-bg-color: #DDD;\n",
              "  }\n",
              "\n",
              "  [theme=dark] .colab-df-quickchart {\n",
              "      --bg-color: #3B4455;\n",
              "      --fill-color: #D2E3FC;\n",
              "      --hover-bg-color: #434B5C;\n",
              "      --hover-fill-color: #FFFFFF;\n",
              "      --disabled-bg-color: #3B4455;\n",
              "      --disabled-fill-color: #666;\n",
              "  }\n",
              "\n",
              "  .colab-df-quickchart {\n",
              "    background-color: var(--bg-color);\n",
              "    border: none;\n",
              "    border-radius: 50%;\n",
              "    cursor: pointer;\n",
              "    display: none;\n",
              "    fill: var(--fill-color);\n",
              "    height: 32px;\n",
              "    padding: 0;\n",
              "    width: 32px;\n",
              "  }\n",
              "\n",
              "  .colab-df-quickchart:hover {\n",
              "    background-color: var(--hover-bg-color);\n",
              "    box-shadow: 0 1px 2px rgba(60, 64, 67, 0.3), 0 1px 3px 1px rgba(60, 64, 67, 0.15);\n",
              "    fill: var(--button-hover-fill-color);\n",
              "  }\n",
              "\n",
              "  .colab-df-quickchart-complete:disabled,\n",
              "  .colab-df-quickchart-complete:disabled:hover {\n",
              "    background-color: var(--disabled-bg-color);\n",
              "    fill: var(--disabled-fill-color);\n",
              "    box-shadow: none;\n",
              "  }\n",
              "\n",
              "  .colab-df-spinner {\n",
              "    border: 2px solid var(--fill-color);\n",
              "    border-color: transparent;\n",
              "    border-bottom-color: var(--fill-color);\n",
              "    animation:\n",
              "      spin 1s steps(1) infinite;\n",
              "  }\n",
              "\n",
              "  @keyframes spin {\n",
              "    0% {\n",
              "      border-color: transparent;\n",
              "      border-bottom-color: var(--fill-color);\n",
              "      border-left-color: var(--fill-color);\n",
              "    }\n",
              "    20% {\n",
              "      border-color: transparent;\n",
              "      border-left-color: var(--fill-color);\n",
              "      border-top-color: var(--fill-color);\n",
              "    }\n",
              "    30% {\n",
              "      border-color: transparent;\n",
              "      border-left-color: var(--fill-color);\n",
              "      border-top-color: var(--fill-color);\n",
              "      border-right-color: var(--fill-color);\n",
              "    }\n",
              "    40% {\n",
              "      border-color: transparent;\n",
              "      border-right-color: var(--fill-color);\n",
              "      border-top-color: var(--fill-color);\n",
              "    }\n",
              "    60% {\n",
              "      border-color: transparent;\n",
              "      border-right-color: var(--fill-color);\n",
              "    }\n",
              "    80% {\n",
              "      border-color: transparent;\n",
              "      border-right-color: var(--fill-color);\n",
              "      border-bottom-color: var(--fill-color);\n",
              "    }\n",
              "    90% {\n",
              "      border-color: transparent;\n",
              "      border-bottom-color: var(--fill-color);\n",
              "    }\n",
              "  }\n",
              "</style>\n",
              "\n",
              "  <script>\n",
              "    async function quickchart(key) {\n",
              "      const quickchartButtonEl =\n",
              "        document.querySelector('#' + key + ' button');\n",
              "      quickchartButtonEl.disabled = true;  // To prevent multiple clicks.\n",
              "      quickchartButtonEl.classList.add('colab-df-spinner');\n",
              "      try {\n",
              "        const charts = await google.colab.kernel.invokeFunction(\n",
              "            'suggestCharts', [key], {});\n",
              "      } catch (error) {\n",
              "        console.error('Error during call to suggestCharts:', error);\n",
              "      }\n",
              "      quickchartButtonEl.classList.remove('colab-df-spinner');\n",
              "      quickchartButtonEl.classList.add('colab-df-quickchart-complete');\n",
              "    }\n",
              "    (() => {\n",
              "      let quickchartButtonEl =\n",
              "        document.querySelector('#df-a9e9a416-534f-4695-a6ad-027532ce9057 button');\n",
              "      quickchartButtonEl.style.display =\n",
              "        google.colab.kernel.accessAllowed ? 'block' : 'none';\n",
              "    })();\n",
              "  </script>\n",
              "</div>\n",
              "\n",
              "    </div>\n",
              "  </div>\n"
            ],
            "text/plain": [
              "                         question  \\\n",
              "0  When was the first super bowl?   \n",
              "1   Who won the most super bowls?   \n",
              "\n",
              "                                              answer  \\\n",
              "0       The first superbowl was held on Jan 15, 1967   \n",
              "1  The most super bowls have been won by The New ...   \n",
              "\n",
              "                                        ground_truth  answer_correctness  \n",
              "0   The first superbowl was held on January 15, 1967            0.749095  \n",
              "1  The New England Patriots have won the Super Bo...            0.731078  "
            ]
          },
          "execution_count": 81,
          "metadata": {},
          "output_type": "execute_result"
        }
      ],
      "source": [
        "from datasets import Dataset\n",
        "from ragas.metrics import faithfulness, answer_correctness\n",
        "from ragas import evaluate\n",
        "\n",
        "data_samples = {\n",
        "    'question': ['When was the first super bowl?', 'Who won the most super bowls?'],\n",
        "    'answer': ['The first superbowl was held on Jan 15, 1967', 'The most super bowls have been won by The New England Patriots'],\n",
        "    'ground_truth': ['The first superbowl was held on January 15, 1967', 'The New England Patriots have won the Super Bowl a record six times']\n",
        "}\n",
        "dataset = Dataset.from_dict(data_samples)\n",
        "score = evaluate(dataset,metrics=[answer_correctness])\n",
        "score.to_pandas()"
      ]
    },
    {
      "cell_type": "code",
      "execution_count": null,
      "metadata": {
        "id": "Fi5gBiO_XANe"
      },
      "outputs": [],
      "source": []
    }
  ],
  "metadata": {
    "accelerator": "GPU",
    "colab": {
      "gpuType": "T4",
      "provenance": []
    },
    "kernelspec": {
      "display_name": "Python 3",
      "name": "python3"
    },
    "language_info": {
      "codemirror_mode": {
        "name": "ipython",
        "version": 3
      },
      "file_extension": ".py",
      "mimetype": "text/x-python",
      "name": "python",
      "nbconvert_exporter": "python",
      "pygments_lexer": "ipython3",
      "version": "3.10.16"
    },
    "widgets": {
      "application/vnd.jupyter.widget-state+json": {
        "0403206b46e84ab48caddcd899c06ce2": {
          "model_module": "@jupyter-widgets/controls",
          "model_module_version": "1.5.0",
          "model_name": "HTMLModel",
          "state": {
            "_dom_classes": [],
            "_model_module": "@jupyter-widgets/controls",
            "_model_module_version": "1.5.0",
            "_model_name": "HTMLModel",
            "_view_count": null,
            "_view_module": "@jupyter-widgets/controls",
            "_view_module_version": "1.5.0",
            "_view_name": "HTMLView",
            "description": "",
            "description_tooltip": null,
            "layout": "IPY_MODEL_1ecab2f0664e4902be01666ce41dfba3",
            "placeholder": "​",
            "style": "IPY_MODEL_eae93c24eebe40168a8e8739422c47d3",
            "value": "Evaluating: 100%"
          }
        },
        "0d5e4dd1b5e44ecfa76891c87bef8b47": {
          "model_module": "@jupyter-widgets/controls",
          "model_module_version": "1.5.0",
          "model_name": "DescriptionStyleModel",
          "state": {
            "_model_module": "@jupyter-widgets/controls",
            "_model_module_version": "1.5.0",
            "_model_name": "DescriptionStyleModel",
            "_view_count": null,
            "_view_module": "@jupyter-widgets/base",
            "_view_module_version": "1.2.0",
            "_view_name": "StyleView",
            "description_width": ""
          }
        },
        "0f7040e410854deabb94bf5ea4080a8e": {
          "model_module": "@jupyter-widgets/controls",
          "model_module_version": "1.5.0",
          "model_name": "FloatProgressModel",
          "state": {
            "_dom_classes": [],
            "_model_module": "@jupyter-widgets/controls",
            "_model_module_version": "1.5.0",
            "_model_name": "FloatProgressModel",
            "_view_count": null,
            "_view_module": "@jupyter-widgets/controls",
            "_view_module_version": "1.5.0",
            "_view_name": "ProgressView",
            "bar_style": "success",
            "description": "",
            "description_tooltip": null,
            "layout": "IPY_MODEL_5d698eb8f4364fe390040ff2df50f234",
            "max": 2,
            "min": 0,
            "orientation": "horizontal",
            "style": "IPY_MODEL_e1bd5b567ba5490780148fb43a2b45df",
            "value": 2
          }
        },
        "0ff90a234f994b888a9741d639a59a37": {
          "model_module": "@jupyter-widgets/controls",
          "model_module_version": "1.5.0",
          "model_name": "FloatProgressModel",
          "state": {
            "_dom_classes": [],
            "_model_module": "@jupyter-widgets/controls",
            "_model_module_version": "1.5.0",
            "_model_name": "FloatProgressModel",
            "_view_count": null,
            "_view_module": "@jupyter-widgets/controls",
            "_view_module_version": "1.5.0",
            "_view_name": "ProgressView",
            "bar_style": "success",
            "description": "",
            "description_tooltip": null,
            "layout": "IPY_MODEL_79d1db6324b846c58468ab70d0c41b10",
            "max": 2,
            "min": 0,
            "orientation": "horizontal",
            "style": "IPY_MODEL_113ff233e46d4e5ba19c502d88de58a1",
            "value": 2
          }
        },
        "102eb9bcf649448b8b79ae178b2a8d9c": {
          "model_module": "@jupyter-widgets/base",
          "model_module_version": "1.2.0",
          "model_name": "LayoutModel",
          "state": {
            "_model_module": "@jupyter-widgets/base",
            "_model_module_version": "1.2.0",
            "_model_name": "LayoutModel",
            "_view_count": null,
            "_view_module": "@jupyter-widgets/base",
            "_view_module_version": "1.2.0",
            "_view_name": "LayoutView",
            "align_content": null,
            "align_items": null,
            "align_self": null,
            "border": null,
            "bottom": null,
            "display": null,
            "flex": null,
            "flex_flow": null,
            "grid_area": null,
            "grid_auto_columns": null,
            "grid_auto_flow": null,
            "grid_auto_rows": null,
            "grid_column": null,
            "grid_gap": null,
            "grid_row": null,
            "grid_template_areas": null,
            "grid_template_columns": null,
            "grid_template_rows": null,
            "height": null,
            "justify_content": null,
            "justify_items": null,
            "left": null,
            "margin": null,
            "max_height": null,
            "max_width": null,
            "min_height": null,
            "min_width": null,
            "object_fit": null,
            "object_position": null,
            "order": null,
            "overflow": null,
            "overflow_x": null,
            "overflow_y": null,
            "padding": null,
            "right": null,
            "top": null,
            "visibility": null,
            "width": null
          }
        },
        "113ff233e46d4e5ba19c502d88de58a1": {
          "model_module": "@jupyter-widgets/controls",
          "model_module_version": "1.5.0",
          "model_name": "ProgressStyleModel",
          "state": {
            "_model_module": "@jupyter-widgets/controls",
            "_model_module_version": "1.5.0",
            "_model_name": "ProgressStyleModel",
            "_view_count": null,
            "_view_module": "@jupyter-widgets/base",
            "_view_module_version": "1.2.0",
            "_view_name": "StyleView",
            "bar_color": null,
            "description_width": ""
          }
        },
        "1ecab2f0664e4902be01666ce41dfba3": {
          "model_module": "@jupyter-widgets/base",
          "model_module_version": "1.2.0",
          "model_name": "LayoutModel",
          "state": {
            "_model_module": "@jupyter-widgets/base",
            "_model_module_version": "1.2.0",
            "_model_name": "LayoutModel",
            "_view_count": null,
            "_view_module": "@jupyter-widgets/base",
            "_view_module_version": "1.2.0",
            "_view_name": "LayoutView",
            "align_content": null,
            "align_items": null,
            "align_self": null,
            "border": null,
            "bottom": null,
            "display": null,
            "flex": null,
            "flex_flow": null,
            "grid_area": null,
            "grid_auto_columns": null,
            "grid_auto_flow": null,
            "grid_auto_rows": null,
            "grid_column": null,
            "grid_gap": null,
            "grid_row": null,
            "grid_template_areas": null,
            "grid_template_columns": null,
            "grid_template_rows": null,
            "height": null,
            "justify_content": null,
            "justify_items": null,
            "left": null,
            "margin": null,
            "max_height": null,
            "max_width": null,
            "min_height": null,
            "min_width": null,
            "object_fit": null,
            "object_position": null,
            "order": null,
            "overflow": null,
            "overflow_x": null,
            "overflow_y": null,
            "padding": null,
            "right": null,
            "top": null,
            "visibility": null,
            "width": null
          }
        },
        "1f1364bd5d304963810d2ed015887d71": {
          "model_module": "@jupyter-widgets/base",
          "model_module_version": "1.2.0",
          "model_name": "LayoutModel",
          "state": {
            "_model_module": "@jupyter-widgets/base",
            "_model_module_version": "1.2.0",
            "_model_name": "LayoutModel",
            "_view_count": null,
            "_view_module": "@jupyter-widgets/base",
            "_view_module_version": "1.2.0",
            "_view_name": "LayoutView",
            "align_content": null,
            "align_items": null,
            "align_self": null,
            "border": null,
            "bottom": null,
            "display": null,
            "flex": null,
            "flex_flow": null,
            "grid_area": null,
            "grid_auto_columns": null,
            "grid_auto_flow": null,
            "grid_auto_rows": null,
            "grid_column": null,
            "grid_gap": null,
            "grid_row": null,
            "grid_template_areas": null,
            "grid_template_columns": null,
            "grid_template_rows": null,
            "height": null,
            "justify_content": null,
            "justify_items": null,
            "left": null,
            "margin": null,
            "max_height": null,
            "max_width": null,
            "min_height": null,
            "min_width": null,
            "object_fit": null,
            "object_position": null,
            "order": null,
            "overflow": null,
            "overflow_x": null,
            "overflow_y": null,
            "padding": null,
            "right": null,
            "top": null,
            "visibility": null,
            "width": null
          }
        },
        "260d47cb0c164810b88b52a4bd7bf295": {
          "model_module": "@jupyter-widgets/controls",
          "model_module_version": "1.5.0",
          "model_name": "DescriptionStyleModel",
          "state": {
            "_model_module": "@jupyter-widgets/controls",
            "_model_module_version": "1.5.0",
            "_model_name": "DescriptionStyleModel",
            "_view_count": null,
            "_view_module": "@jupyter-widgets/base",
            "_view_module_version": "1.2.0",
            "_view_name": "StyleView",
            "description_width": ""
          }
        },
        "3778c125c91d43e69f06a39ecf10edc8": {
          "model_module": "@jupyter-widgets/base",
          "model_module_version": "1.2.0",
          "model_name": "LayoutModel",
          "state": {
            "_model_module": "@jupyter-widgets/base",
            "_model_module_version": "1.2.0",
            "_model_name": "LayoutModel",
            "_view_count": null,
            "_view_module": "@jupyter-widgets/base",
            "_view_module_version": "1.2.0",
            "_view_name": "LayoutView",
            "align_content": null,
            "align_items": null,
            "align_self": null,
            "border": null,
            "bottom": null,
            "display": null,
            "flex": null,
            "flex_flow": null,
            "grid_area": null,
            "grid_auto_columns": null,
            "grid_auto_flow": null,
            "grid_auto_rows": null,
            "grid_column": null,
            "grid_gap": null,
            "grid_row": null,
            "grid_template_areas": null,
            "grid_template_columns": null,
            "grid_template_rows": null,
            "height": null,
            "justify_content": null,
            "justify_items": null,
            "left": null,
            "margin": null,
            "max_height": null,
            "max_width": null,
            "min_height": null,
            "min_width": null,
            "object_fit": null,
            "object_position": null,
            "order": null,
            "overflow": null,
            "overflow_x": null,
            "overflow_y": null,
            "padding": null,
            "right": null,
            "top": null,
            "visibility": null,
            "width": null
          }
        },
        "545628a8e2b54b0db0bfe7fb52d119e6": {
          "model_module": "@jupyter-widgets/controls",
          "model_module_version": "1.5.0",
          "model_name": "HTMLModel",
          "state": {
            "_dom_classes": [],
            "_model_module": "@jupyter-widgets/controls",
            "_model_module_version": "1.5.0",
            "_model_name": "HTMLModel",
            "_view_count": null,
            "_view_module": "@jupyter-widgets/controls",
            "_view_module_version": "1.5.0",
            "_view_name": "HTMLView",
            "description": "",
            "description_tooltip": null,
            "layout": "IPY_MODEL_3778c125c91d43e69f06a39ecf10edc8",
            "placeholder": "​",
            "style": "IPY_MODEL_260d47cb0c164810b88b52a4bd7bf295",
            "value": "Evaluating: 100%"
          }
        },
        "5d698eb8f4364fe390040ff2df50f234": {
          "model_module": "@jupyter-widgets/base",
          "model_module_version": "1.2.0",
          "model_name": "LayoutModel",
          "state": {
            "_model_module": "@jupyter-widgets/base",
            "_model_module_version": "1.2.0",
            "_model_name": "LayoutModel",
            "_view_count": null,
            "_view_module": "@jupyter-widgets/base",
            "_view_module_version": "1.2.0",
            "_view_name": "LayoutView",
            "align_content": null,
            "align_items": null,
            "align_self": null,
            "border": null,
            "bottom": null,
            "display": null,
            "flex": null,
            "flex_flow": null,
            "grid_area": null,
            "grid_auto_columns": null,
            "grid_auto_flow": null,
            "grid_auto_rows": null,
            "grid_column": null,
            "grid_gap": null,
            "grid_row": null,
            "grid_template_areas": null,
            "grid_template_columns": null,
            "grid_template_rows": null,
            "height": null,
            "justify_content": null,
            "justify_items": null,
            "left": null,
            "margin": null,
            "max_height": null,
            "max_width": null,
            "min_height": null,
            "min_width": null,
            "object_fit": null,
            "object_position": null,
            "order": null,
            "overflow": null,
            "overflow_x": null,
            "overflow_y": null,
            "padding": null,
            "right": null,
            "top": null,
            "visibility": null,
            "width": null
          }
        },
        "62335245ebde4e0597af9dcb67858707": {
          "model_module": "@jupyter-widgets/base",
          "model_module_version": "1.2.0",
          "model_name": "LayoutModel",
          "state": {
            "_model_module": "@jupyter-widgets/base",
            "_model_module_version": "1.2.0",
            "_model_name": "LayoutModel",
            "_view_count": null,
            "_view_module": "@jupyter-widgets/base",
            "_view_module_version": "1.2.0",
            "_view_name": "LayoutView",
            "align_content": null,
            "align_items": null,
            "align_self": null,
            "border": null,
            "bottom": null,
            "display": null,
            "flex": null,
            "flex_flow": null,
            "grid_area": null,
            "grid_auto_columns": null,
            "grid_auto_flow": null,
            "grid_auto_rows": null,
            "grid_column": null,
            "grid_gap": null,
            "grid_row": null,
            "grid_template_areas": null,
            "grid_template_columns": null,
            "grid_template_rows": null,
            "height": null,
            "justify_content": null,
            "justify_items": null,
            "left": null,
            "margin": null,
            "max_height": null,
            "max_width": null,
            "min_height": null,
            "min_width": null,
            "object_fit": null,
            "object_position": null,
            "order": null,
            "overflow": null,
            "overflow_x": null,
            "overflow_y": null,
            "padding": null,
            "right": null,
            "top": null,
            "visibility": null,
            "width": null
          }
        },
        "6ade838119c84470aa5c87fd782d84a4": {
          "model_module": "@jupyter-widgets/controls",
          "model_module_version": "1.5.0",
          "model_name": "DescriptionStyleModel",
          "state": {
            "_model_module": "@jupyter-widgets/controls",
            "_model_module_version": "1.5.0",
            "_model_name": "DescriptionStyleModel",
            "_view_count": null,
            "_view_module": "@jupyter-widgets/base",
            "_view_module_version": "1.2.0",
            "_view_name": "StyleView",
            "description_width": ""
          }
        },
        "75cb5116bea749e18259e2b1a5f47147": {
          "model_module": "@jupyter-widgets/controls",
          "model_module_version": "1.5.0",
          "model_name": "HTMLModel",
          "state": {
            "_dom_classes": [],
            "_model_module": "@jupyter-widgets/controls",
            "_model_module_version": "1.5.0",
            "_model_name": "HTMLModel",
            "_view_count": null,
            "_view_module": "@jupyter-widgets/controls",
            "_view_module_version": "1.5.0",
            "_view_name": "HTMLView",
            "description": "",
            "description_tooltip": null,
            "layout": "IPY_MODEL_cb6b4c126f1d46e7bd93ea6fcd7e7534",
            "placeholder": "​",
            "style": "IPY_MODEL_6ade838119c84470aa5c87fd782d84a4",
            "value": " 12/12 [00:09&lt;00:00,  1.04it/s]"
          }
        },
        "79d1db6324b846c58468ab70d0c41b10": {
          "model_module": "@jupyter-widgets/base",
          "model_module_version": "1.2.0",
          "model_name": "LayoutModel",
          "state": {
            "_model_module": "@jupyter-widgets/base",
            "_model_module_version": "1.2.0",
            "_model_name": "LayoutModel",
            "_view_count": null,
            "_view_module": "@jupyter-widgets/base",
            "_view_module_version": "1.2.0",
            "_view_name": "LayoutView",
            "align_content": null,
            "align_items": null,
            "align_self": null,
            "border": null,
            "bottom": null,
            "display": null,
            "flex": null,
            "flex_flow": null,
            "grid_area": null,
            "grid_auto_columns": null,
            "grid_auto_flow": null,
            "grid_auto_rows": null,
            "grid_column": null,
            "grid_gap": null,
            "grid_row": null,
            "grid_template_areas": null,
            "grid_template_columns": null,
            "grid_template_rows": null,
            "height": null,
            "justify_content": null,
            "justify_items": null,
            "left": null,
            "margin": null,
            "max_height": null,
            "max_width": null,
            "min_height": null,
            "min_width": null,
            "object_fit": null,
            "object_position": null,
            "order": null,
            "overflow": null,
            "overflow_x": null,
            "overflow_y": null,
            "padding": null,
            "right": null,
            "top": null,
            "visibility": null,
            "width": null
          }
        },
        "80632e399df24e69a9ef602897c14609": {
          "model_module": "@jupyter-widgets/controls",
          "model_module_version": "1.5.0",
          "model_name": "DescriptionStyleModel",
          "state": {
            "_model_module": "@jupyter-widgets/controls",
            "_model_module_version": "1.5.0",
            "_model_name": "DescriptionStyleModel",
            "_view_count": null,
            "_view_module": "@jupyter-widgets/base",
            "_view_module_version": "1.2.0",
            "_view_name": "StyleView",
            "description_width": ""
          }
        },
        "897298e19c7a4a0f87b19c5b78ecb098": {
          "model_module": "@jupyter-widgets/controls",
          "model_module_version": "1.5.0",
          "model_name": "DescriptionStyleModel",
          "state": {
            "_model_module": "@jupyter-widgets/controls",
            "_model_module_version": "1.5.0",
            "_model_name": "DescriptionStyleModel",
            "_view_count": null,
            "_view_module": "@jupyter-widgets/base",
            "_view_module_version": "1.2.0",
            "_view_name": "StyleView",
            "description_width": ""
          }
        },
        "89b9465ed3504d60ace1639ed60b159a": {
          "model_module": "@jupyter-widgets/base",
          "model_module_version": "1.2.0",
          "model_name": "LayoutModel",
          "state": {
            "_model_module": "@jupyter-widgets/base",
            "_model_module_version": "1.2.0",
            "_model_name": "LayoutModel",
            "_view_count": null,
            "_view_module": "@jupyter-widgets/base",
            "_view_module_version": "1.2.0",
            "_view_name": "LayoutView",
            "align_content": null,
            "align_items": null,
            "align_self": null,
            "border": null,
            "bottom": null,
            "display": null,
            "flex": null,
            "flex_flow": null,
            "grid_area": null,
            "grid_auto_columns": null,
            "grid_auto_flow": null,
            "grid_auto_rows": null,
            "grid_column": null,
            "grid_gap": null,
            "grid_row": null,
            "grid_template_areas": null,
            "grid_template_columns": null,
            "grid_template_rows": null,
            "height": null,
            "justify_content": null,
            "justify_items": null,
            "left": null,
            "margin": null,
            "max_height": null,
            "max_width": null,
            "min_height": null,
            "min_width": null,
            "object_fit": null,
            "object_position": null,
            "order": null,
            "overflow": null,
            "overflow_x": null,
            "overflow_y": null,
            "padding": null,
            "right": null,
            "top": null,
            "visibility": null,
            "width": null
          }
        },
        "8b814a076c8d4cca89cb82ae984988d9": {
          "model_module": "@jupyter-widgets/base",
          "model_module_version": "1.2.0",
          "model_name": "LayoutModel",
          "state": {
            "_model_module": "@jupyter-widgets/base",
            "_model_module_version": "1.2.0",
            "_model_name": "LayoutModel",
            "_view_count": null,
            "_view_module": "@jupyter-widgets/base",
            "_view_module_version": "1.2.0",
            "_view_name": "LayoutView",
            "align_content": null,
            "align_items": null,
            "align_self": null,
            "border": null,
            "bottom": null,
            "display": null,
            "flex": null,
            "flex_flow": null,
            "grid_area": null,
            "grid_auto_columns": null,
            "grid_auto_flow": null,
            "grid_auto_rows": null,
            "grid_column": null,
            "grid_gap": null,
            "grid_row": null,
            "grid_template_areas": null,
            "grid_template_columns": null,
            "grid_template_rows": null,
            "height": null,
            "justify_content": null,
            "justify_items": null,
            "left": null,
            "margin": null,
            "max_height": null,
            "max_width": null,
            "min_height": null,
            "min_width": null,
            "object_fit": null,
            "object_position": null,
            "order": null,
            "overflow": null,
            "overflow_x": null,
            "overflow_y": null,
            "padding": null,
            "right": null,
            "top": null,
            "visibility": null,
            "width": null
          }
        },
        "ad458bd4a169488ca51dffacb3e1a69b": {
          "model_module": "@jupyter-widgets/controls",
          "model_module_version": "1.5.0",
          "model_name": "HBoxModel",
          "state": {
            "_dom_classes": [],
            "_model_module": "@jupyter-widgets/controls",
            "_model_module_version": "1.5.0",
            "_model_name": "HBoxModel",
            "_view_count": null,
            "_view_module": "@jupyter-widgets/controls",
            "_view_module_version": "1.5.0",
            "_view_name": "HBoxView",
            "box_style": "",
            "children": [
              "IPY_MODEL_bbb4d05f2b814a8ca5dd84402d52187c",
              "IPY_MODEL_d31f3ac36dc24b4e97288ac3c90ef0cc",
              "IPY_MODEL_75cb5116bea749e18259e2b1a5f47147"
            ],
            "layout": "IPY_MODEL_8b814a076c8d4cca89cb82ae984988d9"
          }
        },
        "aea61943cfce4554ae3db563ff7d1999": {
          "model_module": "@jupyter-widgets/controls",
          "model_module_version": "1.5.0",
          "model_name": "HBoxModel",
          "state": {
            "_dom_classes": [],
            "_model_module": "@jupyter-widgets/controls",
            "_model_module_version": "1.5.0",
            "_model_name": "HBoxModel",
            "_view_count": null,
            "_view_module": "@jupyter-widgets/controls",
            "_view_module_version": "1.5.0",
            "_view_name": "HBoxView",
            "box_style": "",
            "children": [
              "IPY_MODEL_545628a8e2b54b0db0bfe7fb52d119e6",
              "IPY_MODEL_0f7040e410854deabb94bf5ea4080a8e",
              "IPY_MODEL_daa2cfe169e04db6857fa94765c963a4"
            ],
            "layout": "IPY_MODEL_89b9465ed3504d60ace1639ed60b159a"
          }
        },
        "b017f1c69210420f97aecf709bb826e4": {
          "model_module": "@jupyter-widgets/controls",
          "model_module_version": "1.5.0",
          "model_name": "ProgressStyleModel",
          "state": {
            "_model_module": "@jupyter-widgets/controls",
            "_model_module_version": "1.5.0",
            "_model_name": "ProgressStyleModel",
            "_view_count": null,
            "_view_module": "@jupyter-widgets/base",
            "_view_module_version": "1.2.0",
            "_view_name": "StyleView",
            "bar_color": null,
            "description_width": ""
          }
        },
        "bbb4d05f2b814a8ca5dd84402d52187c": {
          "model_module": "@jupyter-widgets/controls",
          "model_module_version": "1.5.0",
          "model_name": "HTMLModel",
          "state": {
            "_dom_classes": [],
            "_model_module": "@jupyter-widgets/controls",
            "_model_module_version": "1.5.0",
            "_model_name": "HTMLModel",
            "_view_count": null,
            "_view_module": "@jupyter-widgets/controls",
            "_view_module_version": "1.5.0",
            "_view_name": "HTMLView",
            "description": "",
            "description_tooltip": null,
            "layout": "IPY_MODEL_dc022fbec3d5499a9960a608bef523f8",
            "placeholder": "​",
            "style": "IPY_MODEL_897298e19c7a4a0f87b19c5b78ecb098",
            "value": "Evaluating: 100%"
          }
        },
        "bbf6f325c044411e9f0ddca6a19a6da7": {
          "model_module": "@jupyter-widgets/controls",
          "model_module_version": "1.5.0",
          "model_name": "HBoxModel",
          "state": {
            "_dom_classes": [],
            "_model_module": "@jupyter-widgets/controls",
            "_model_module_version": "1.5.0",
            "_model_name": "HBoxModel",
            "_view_count": null,
            "_view_module": "@jupyter-widgets/controls",
            "_view_module_version": "1.5.0",
            "_view_name": "HBoxView",
            "box_style": "",
            "children": [
              "IPY_MODEL_0403206b46e84ab48caddcd899c06ce2",
              "IPY_MODEL_0ff90a234f994b888a9741d639a59a37",
              "IPY_MODEL_d6bf0d213b1e4da4b07722d3cad455d3"
            ],
            "layout": "IPY_MODEL_1f1364bd5d304963810d2ed015887d71"
          }
        },
        "c63034adeb3e41df9f9ec50bbc8e4612": {
          "model_module": "@jupyter-widgets/base",
          "model_module_version": "1.2.0",
          "model_name": "LayoutModel",
          "state": {
            "_model_module": "@jupyter-widgets/base",
            "_model_module_version": "1.2.0",
            "_model_name": "LayoutModel",
            "_view_count": null,
            "_view_module": "@jupyter-widgets/base",
            "_view_module_version": "1.2.0",
            "_view_name": "LayoutView",
            "align_content": null,
            "align_items": null,
            "align_self": null,
            "border": null,
            "bottom": null,
            "display": null,
            "flex": null,
            "flex_flow": null,
            "grid_area": null,
            "grid_auto_columns": null,
            "grid_auto_flow": null,
            "grid_auto_rows": null,
            "grid_column": null,
            "grid_gap": null,
            "grid_row": null,
            "grid_template_areas": null,
            "grid_template_columns": null,
            "grid_template_rows": null,
            "height": null,
            "justify_content": null,
            "justify_items": null,
            "left": null,
            "margin": null,
            "max_height": null,
            "max_width": null,
            "min_height": null,
            "min_width": null,
            "object_fit": null,
            "object_position": null,
            "order": null,
            "overflow": null,
            "overflow_x": null,
            "overflow_y": null,
            "padding": null,
            "right": null,
            "top": null,
            "visibility": null,
            "width": null
          }
        },
        "cb6b4c126f1d46e7bd93ea6fcd7e7534": {
          "model_module": "@jupyter-widgets/base",
          "model_module_version": "1.2.0",
          "model_name": "LayoutModel",
          "state": {
            "_model_module": "@jupyter-widgets/base",
            "_model_module_version": "1.2.0",
            "_model_name": "LayoutModel",
            "_view_count": null,
            "_view_module": "@jupyter-widgets/base",
            "_view_module_version": "1.2.0",
            "_view_name": "LayoutView",
            "align_content": null,
            "align_items": null,
            "align_self": null,
            "border": null,
            "bottom": null,
            "display": null,
            "flex": null,
            "flex_flow": null,
            "grid_area": null,
            "grid_auto_columns": null,
            "grid_auto_flow": null,
            "grid_auto_rows": null,
            "grid_column": null,
            "grid_gap": null,
            "grid_row": null,
            "grid_template_areas": null,
            "grid_template_columns": null,
            "grid_template_rows": null,
            "height": null,
            "justify_content": null,
            "justify_items": null,
            "left": null,
            "margin": null,
            "max_height": null,
            "max_width": null,
            "min_height": null,
            "min_width": null,
            "object_fit": null,
            "object_position": null,
            "order": null,
            "overflow": null,
            "overflow_x": null,
            "overflow_y": null,
            "padding": null,
            "right": null,
            "top": null,
            "visibility": null,
            "width": null
          }
        },
        "d31f3ac36dc24b4e97288ac3c90ef0cc": {
          "model_module": "@jupyter-widgets/controls",
          "model_module_version": "1.5.0",
          "model_name": "FloatProgressModel",
          "state": {
            "_dom_classes": [],
            "_model_module": "@jupyter-widgets/controls",
            "_model_module_version": "1.5.0",
            "_model_name": "FloatProgressModel",
            "_view_count": null,
            "_view_module": "@jupyter-widgets/controls",
            "_view_module_version": "1.5.0",
            "_view_name": "ProgressView",
            "bar_style": "success",
            "description": "",
            "description_tooltip": null,
            "layout": "IPY_MODEL_62335245ebde4e0597af9dcb67858707",
            "max": 12,
            "min": 0,
            "orientation": "horizontal",
            "style": "IPY_MODEL_b017f1c69210420f97aecf709bb826e4",
            "value": 12
          }
        },
        "d6bf0d213b1e4da4b07722d3cad455d3": {
          "model_module": "@jupyter-widgets/controls",
          "model_module_version": "1.5.0",
          "model_name": "HTMLModel",
          "state": {
            "_dom_classes": [],
            "_model_module": "@jupyter-widgets/controls",
            "_model_module_version": "1.5.0",
            "_model_name": "HTMLModel",
            "_view_count": null,
            "_view_module": "@jupyter-widgets/controls",
            "_view_module_version": "1.5.0",
            "_view_name": "HTMLView",
            "description": "",
            "description_tooltip": null,
            "layout": "IPY_MODEL_102eb9bcf649448b8b79ae178b2a8d9c",
            "placeholder": "​",
            "style": "IPY_MODEL_0d5e4dd1b5e44ecfa76891c87bef8b47",
            "value": " 2/2 [00:01&lt;00:00,  1.31s/it]"
          }
        },
        "daa2cfe169e04db6857fa94765c963a4": {
          "model_module": "@jupyter-widgets/controls",
          "model_module_version": "1.5.0",
          "model_name": "HTMLModel",
          "state": {
            "_dom_classes": [],
            "_model_module": "@jupyter-widgets/controls",
            "_model_module_version": "1.5.0",
            "_model_name": "HTMLModel",
            "_view_count": null,
            "_view_module": "@jupyter-widgets/controls",
            "_view_module_version": "1.5.0",
            "_view_name": "HTMLView",
            "description": "",
            "description_tooltip": null,
            "layout": "IPY_MODEL_c63034adeb3e41df9f9ec50bbc8e4612",
            "placeholder": "​",
            "style": "IPY_MODEL_80632e399df24e69a9ef602897c14609",
            "value": " 2/2 [00:00&lt;00:00,  1.89it/s]"
          }
        },
        "dc022fbec3d5499a9960a608bef523f8": {
          "model_module": "@jupyter-widgets/base",
          "model_module_version": "1.2.0",
          "model_name": "LayoutModel",
          "state": {
            "_model_module": "@jupyter-widgets/base",
            "_model_module_version": "1.2.0",
            "_model_name": "LayoutModel",
            "_view_count": null,
            "_view_module": "@jupyter-widgets/base",
            "_view_module_version": "1.2.0",
            "_view_name": "LayoutView",
            "align_content": null,
            "align_items": null,
            "align_self": null,
            "border": null,
            "bottom": null,
            "display": null,
            "flex": null,
            "flex_flow": null,
            "grid_area": null,
            "grid_auto_columns": null,
            "grid_auto_flow": null,
            "grid_auto_rows": null,
            "grid_column": null,
            "grid_gap": null,
            "grid_row": null,
            "grid_template_areas": null,
            "grid_template_columns": null,
            "grid_template_rows": null,
            "height": null,
            "justify_content": null,
            "justify_items": null,
            "left": null,
            "margin": null,
            "max_height": null,
            "max_width": null,
            "min_height": null,
            "min_width": null,
            "object_fit": null,
            "object_position": null,
            "order": null,
            "overflow": null,
            "overflow_x": null,
            "overflow_y": null,
            "padding": null,
            "right": null,
            "top": null,
            "visibility": null,
            "width": null
          }
        },
        "e1bd5b567ba5490780148fb43a2b45df": {
          "model_module": "@jupyter-widgets/controls",
          "model_module_version": "1.5.0",
          "model_name": "ProgressStyleModel",
          "state": {
            "_model_module": "@jupyter-widgets/controls",
            "_model_module_version": "1.5.0",
            "_model_name": "ProgressStyleModel",
            "_view_count": null,
            "_view_module": "@jupyter-widgets/base",
            "_view_module_version": "1.2.0",
            "_view_name": "StyleView",
            "bar_color": null,
            "description_width": ""
          }
        },
        "eae93c24eebe40168a8e8739422c47d3": {
          "model_module": "@jupyter-widgets/controls",
          "model_module_version": "1.5.0",
          "model_name": "DescriptionStyleModel",
          "state": {
            "_model_module": "@jupyter-widgets/controls",
            "_model_module_version": "1.5.0",
            "_model_name": "DescriptionStyleModel",
            "_view_count": null,
            "_view_module": "@jupyter-widgets/base",
            "_view_module_version": "1.2.0",
            "_view_name": "StyleView",
            "description_width": ""
          }
        }
      }
    }
  },
  "nbformat": 4,
  "nbformat_minor": 0
}
