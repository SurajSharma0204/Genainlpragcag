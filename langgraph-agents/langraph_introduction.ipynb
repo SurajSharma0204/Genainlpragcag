{
 "cells": [
  {
   "cell_type": "code",
   "execution_count": 5,
   "metadata": {},
   "outputs": [
    {
     "data": {
      "text/plain": [
       "True"
      ]
     },
     "execution_count": 5,
     "metadata": {},
     "output_type": "execute_result"
    }
   ],
   "source": [
    "from langgraph.graph import Graph\n",
    "from langgraph.graph import StateGraph\n",
    "from langchain_openai import ChatOpenAI\n",
    "from dotenv import load_dotenv\n",
    "load_dotenv()"
   ]
  },
  {
   "cell_type": "code",
   "execution_count": null,
   "metadata": {},
   "outputs": [],
   "source": [
    "langgraph->orchestration->pipeline"
   ]
  },
  {
   "cell_type": "code",
   "execution_count": null,
   "metadata": {},
   "outputs": [],
   "source": [
    "langgraph->nodes,edges,State\n",
    "node->funtions\n",
    "edage-> connectivity between nodes(funtions)"
   ]
  },
  {
   "cell_type": "code",
   "execution_count": 6,
   "metadata": {},
   "outputs": [],
   "source": [
    "# from langchain_google_genai import GoogleGenerativeAIEmbeddings\n",
    "# embeddings = GoogleGenerativeAIEmbeddings(model=\"models/embedding-001\")\n",
    "# from langchain_google_genai import ChatGoogleGenerativeAI\n",
    "# llm = ChatGoogleGenerativeAI(model=\"gemini-1.5-pro\")"
   ]
  },
  {
   "cell_type": "code",
   "execution_count": 7,
   "metadata": {},
   "outputs": [
    {
     "data": {
      "text/plain": [
       "'Hello! How can I assist you today?'"
      ]
     },
     "execution_count": 7,
     "metadata": {},
     "output_type": "execute_result"
    }
   ],
   "source": [
    "import os\n",
    "OPENAI_API_KEY=os.getenv(\"OPENAI_API_KEY\")\n",
    "os.environ[\"OPENAI_API_KEY\"]=OPENAI_API_KEY\n",
    "openai_model=ChatOpenAI(model=\"gpt-4o\")\n",
    "openai_model.invoke(\"hi\").content"
   ]
  },
  {
   "cell_type": "code",
   "execution_count": 8,
   "metadata": {},
   "outputs": [],
   "source": [
    "def LLM(input):\n",
    "    llm = ChatOpenAI(model=\"gpt-4o\") #creating a object of chat openai class\n",
    "    response=llm.invoke(input).content\n",
    "    return response\n",
    "    "
   ]
  },
  {
   "cell_type": "code",
   "execution_count": 10,
   "metadata": {},
   "outputs": [
    {
     "data": {
      "text/plain": [
       "'18'"
      ]
     },
     "execution_count": 10,
     "metadata": {},
     "output_type": "execute_result"
    }
   ],
   "source": [
    "LLM(\"what is '3+3*10-15' just give me final output dont give any other stuff.\")"
   ]
  },
  {
   "cell_type": "code",
   "execution_count": 12,
   "metadata": {},
   "outputs": [],
   "source": [
    "def Counter_Token(input):\n",
    "    token=input.split()\n",
    "    token_number=len(token)\n",
    "    response=f\"total number of token in the generated output {token_number}\"\n",
    "    return response\n",
    "    "
   ]
  },
  {
   "cell_type": "code",
   "execution_count": 14,
   "metadata": {},
   "outputs": [
    {
     "data": {
      "text/plain": [
       "'total number of token in the generated output 21'"
      ]
     },
     "execution_count": 14,
     "metadata": {},
     "output_type": "execute_result"
    }
   ],
   "source": [
    "Counter_Token(\"hi my name is sunny savita and i am working with some xya abc dqw company kdgk hsklhdgfsd hslkghsd sjhlkhlsdfg klshgls\")"
   ]
  },
  {
   "cell_type": "code",
   "execution_count": 20,
   "metadata": {},
   "outputs": [],
   "source": [
    "workflow=Graph()"
   ]
  },
  {
   "cell_type": "code",
   "execution_count": 21,
   "metadata": {},
   "outputs": [
    {
     "data": {
      "text/plain": [
       "<langgraph.graph.graph.Graph at 0x13c3c084c10>"
      ]
     },
     "execution_count": 21,
     "metadata": {},
     "output_type": "execute_result"
    }
   ],
   "source": [
    "workflow.add_node(\"MY LLM\",LLM)"
   ]
  },
  {
   "cell_type": "code",
   "execution_count": 22,
   "metadata": {},
   "outputs": [
    {
     "data": {
      "text/plain": [
       "<langgraph.graph.graph.Graph at 0x13c3c084c10>"
      ]
     },
     "execution_count": 22,
     "metadata": {},
     "output_type": "execute_result"
    }
   ],
   "source": [
    "workflow.add_node(\"Token Counter\",Counter_Token) "
   ]
  },
  {
   "cell_type": "code",
   "execution_count": 23,
   "metadata": {},
   "outputs": [
    {
     "data": {
      "text/plain": [
       "<langgraph.graph.graph.Graph at 0x13c3c084c10>"
      ]
     },
     "execution_count": 23,
     "metadata": {},
     "output_type": "execute_result"
    }
   ],
   "source": [
    "workflow.add_edge(\"MY LLM\", \"Token Counter\")"
   ]
  },
  {
   "cell_type": "code",
   "execution_count": 24,
   "metadata": {},
   "outputs": [
    {
     "data": {
      "text/plain": [
       "<langgraph.graph.graph.Graph at 0x13c3c084c10>"
      ]
     },
     "execution_count": 24,
     "metadata": {},
     "output_type": "execute_result"
    }
   ],
   "source": [
    "workflow.set_entry_point(\"MY LLM\")\n",
    "workflow.set_finish_point(\"Token Counter\")"
   ]
  },
  {
   "cell_type": "code",
   "execution_count": 25,
   "metadata": {},
   "outputs": [],
   "source": [
    "app=workflow.compile()"
   ]
  },
  {
   "cell_type": "code",
   "execution_count": 26,
   "metadata": {},
   "outputs": [],
   "source": [
    "from IPython.display import Image, display"
   ]
  },
  {
   "cell_type": "code",
   "execution_count": 27,
   "metadata": {},
   "outputs": [
    {
     "data": {
      "text/plain": [
       "Graph(nodes={'__start__': Node(id='__start__', name='__start__', data=<class 'langgraph.graph.graph.LangGraphInput'>, metadata=None), 'MY LLM': Node(id='MY LLM', name='MY LLM', data=MY LLM(tags=None, recurse=True, explode_args=False, func_accepts_config=False, func_accepts={}), metadata=None), 'Token Counter': Node(id='Token Counter', name='Token Counter', data=Token Counter(tags=None, recurse=True, explode_args=False, func_accepts_config=False, func_accepts={}), metadata=None), '__end__': Node(id='__end__', name='__end__', data=<class 'langgraph.graph.graph.LangGraphOutput'>, metadata=None)}, edges=[Edge(source='MY LLM', target='Token Counter', data=None, conditional=False), Edge(source='Token Counter', target='__end__', data=None, conditional=False), Edge(source='__start__', target='MY LLM', data=None, conditional=False)])"
      ]
     },
     "execution_count": 27,
     "metadata": {},
     "output_type": "execute_result"
    }
   ],
   "source": [
    "app.get_graph()"
   ]
  },
  {
   "cell_type": "code",
   "execution_count": 28,
   "metadata": {},
   "outputs": [
    {
     "data": {
      "image/png": "[encoded data removed]",
      "text/plain": [
       "<IPython.core.display.Image object>"
      ]
     },
     "metadata": {},
     "output_type": "display_data"
    }
   ],
   "source": [
    "display(Image(app.get_graph().draw_mermaid_png())) "
   ]
  },
  {
   "cell_type": "code",
   "execution_count": 29,
   "metadata": {},
   "outputs": [
    {
     "data": {
      "text/plain": [
       "'total number of token in the generated output 683'"
      ]
     },
     "execution_count": 29,
     "metadata": {},
     "output_type": "execute_result"
    }
   ],
   "source": [
    "app.invoke(\"what is a agentic ai explain me in very detailed manner?\")"
   ]
  },
  {
   "cell_type": "code",
   "execution_count": 30,
   "metadata": {},
   "outputs": [
    {
     "name": "stdout",
     "output_type": "stream",
     "text": [
      "here is output from MY LLM\n",
      "_______\n",
      "Agentic AI refers to artificial intelligence systems that exhibit agency, meaning they have the ability to make autonomous decisions and take actions to achieve specific goals. This concept is crucial in understanding how AI systems can interact with complex environments, make choices, and influence outcomes without direct human intervention. Here's a detailed explanation of what agentic AI entails:\n",
      "\n",
      "### Characteristics of Agentic AI:\n",
      "\n",
      "1. **Autonomy:**\n",
      "   - Autonomy is the core attribute of agentic AI. These systems operate independently, making decisions based on their programming and data inputs rather than relying on constant human guidance.\n",
      "   - Autonomy in AI involves the ability to perform tasks or solve problems with minimal human oversight, although the level of autonomy can vary based on the design and intended application of the AI system.\n",
      "\n",
      "2. **Goal-Directed Behavior:**\n",
      "   - Agentic AI systems are designed to pursue specific goals or objectives. These goals can be explicitly programmed or learned over time through interaction with the environment.\n",
      "   - The ability to set and prioritize goals allows agentic AI to adapt its behavior in pursuit of successful outcomes.\n",
      "\n",
      "3. **Decision-Making:**\n",
      "   - Decision-making capabilities are fundamental to agentic AI. These systems use algorithms to evaluate multiple options and select actions that best align with their goals.\n",
      "   - Decision-making often involves sophisticated processes, such as weighing probabilistic outcomes, calculating risk, and considering trade-offs.\n",
      "\n",
      "4. **Learning and Adaptation:**\n",
      "   - Many agentic AI systems incorporate learning mechanisms, such as machine learning algorithms, to improve their performance over time.\n",
      "   - Through learning, these systems can adapt to changing environments, update their knowledge base, and refine their decision-making processes.\n",
      "\n",
      "5. **Interactivity:**\n",
      "   - Agentic AI interacts with both its environment and other agents (which may include humans or other AI systems).\n",
      "   - The ability to perceive its surroundings and respond meaningfully is important for achieving goals, particularly in dynamic or unpredictable environments.\n",
      "\n",
      "6. **Planning and Anticipation:**\n",
      "   - Advanced agentic AI systems can engage in planning, which involves predicting future states and outlining a sequence of actions to reach desired results.\n",
      "   - Anticipation of future scenarios allows these systems to proactively address potential challenges or opportunities.\n",
      "\n",
      "### Applications of Agentic AI:\n",
      "\n",
      "1. **Robotics:**\n",
      "   - Autonomous robots, such as those used in manufacturing, healthcare, and exploration, rely on agentic AI to perform tasks without human control.\n",
      "   - Examples include drones, autonomous vehicles, and robotic vacuum cleaners.\n",
      "\n",
      "2. **Virtual Assistants:**\n",
      "   - AI-powered personal assistants, like Apple's Siri, Google Assistant, and Amazon's Alexa, demonstrate agency by autonomously executing tasks and responding to user requests.\n",
      "\n",
      "3. **Game AI:**\n",
      "   - In video games, AI agents often display agentic behavior by autonomously navigating game environments, making strategic decisions, and interacting with players.\n",
      "\n",
      "4. **Autonomous Systems:**\n",
      "   - This includes self-driving cars and logistics systems that manage supply chains, optimizing routes and operations without human intervention.\n",
      "\n",
      "### Ethical and Practical Considerations:\n",
      "\n",
      "- **Ethics and Control:**\n",
      "  - As agentic AI systems are granted more autonomy, ethical concerns arise about their alignment with human values and the potential for unintended consequences.\n",
      "  - Ensuring that AI systems act in ways that are beneficial and do not harm humans or society is an ongoing challenge.\n",
      "\n",
      "- **Trust and Reliability:**\n",
      "  - Building trust in agentic AI systems requires ensuring their reliability, transparency, and safety, especially in critical applications like healthcare or transportation.\n",
      "\n",
      "- **Regulation and Governance:**\n",
      "  - Policymakers and regulatory bodies must consider how to govern the development and deployment of agentic AI systems to mitigate risks while encouraging innovation.\n",
      "\n",
      "Agentic AI represents a significant step forward in the capabilities of artificial intelligence, enabling it to perform complex tasks with a degree of independence and intelligence that can rival or complement human capabilities in specific domains. As AI technology continues to advance, the development, deployment, and management of agentic AI systems will become increasingly crucial.\n",
      "\n",
      "\n",
      "here is output from Token Counter\n",
      "_______\n",
      "total number of token in the generated output 625\n",
      "\n",
      "\n"
     ]
    }
   ],
   "source": [
    "for output in app.stream(\"what is a agentic ai explain me in very detailed manner?\"):\n",
    "    for key,value in output.items():\n",
    "        print(f\"here is output from {key}\")\n",
    "        print(\"_______\")\n",
    "        print(value)\n",
    "        print(\"\\n\")"
   ]
  },
  {
   "cell_type": "code",
   "execution_count": 32,
   "metadata": {},
   "outputs": [],
   "source": [
    "from langchain_core.output_parsers import StrOutputParser\n",
    "from langchain_core.prompts import ChatPromptTemplate\n",
    "from langchain_core.runnables import RunnablePassthrough\n",
    "from langchain_community.document_loaders import TextLoader, DirectoryLoader\n",
    "from langchain_community.vectorstores import Chroma\n",
    "from langchain.text_splitter import RecursiveCharacterTextSplitter"
   ]
  },
  {
   "cell_type": "code",
   "execution_count": null,
   "metadata": {},
   "outputs": [],
   "source": [
    "loader=DirectoryLoader(\"../data\",glob=\"./*.txt\",loader_cls=TextLoader)\n",
    "docs=loader.load()\n",
    "text_splitter=RecursiveCharacterTextSplitter(\n",
    "    chunk_size=300,\n",
    "    chunk_overlap=150\n",
    ")\n",
    "new_docs = text_splitter.split_documents(documents=docs)\n"
   ]
  },
  {
   "cell_type": "code",
   "execution_count": 46,
   "metadata": {},
   "outputs": [],
   "source": [
    "doc_strings = [doc.page_content for doc in new_docs]"
   ]
  },
  {
   "cell_type": "code",
   "execution_count": 47,
   "metadata": {},
   "outputs": [
    {
     "data": {
      "text/plain": [
       "[\"Industrial revival hope for Japan\\n\\nJapanese industry is growing faster than expected, boosting hopes that the country's retreat back into recession is over.\",\n",
       " 'Industrial output rose 2.1% - adjusted for the time of year - in January from a month earlier. At the same time, retail sales picked up faster than at any time since 1997. The news sent Tokyo shares to an eight-month high, as investors hoped for a recovery from the three quarters of contraction',\n",
       " 'at any time since 1997. The news sent Tokyo shares to an eight-month high, as investors hoped for a recovery from the three quarters of contraction seen from April 2004 on. The Nikkei 225 index ended the day up 0.7% at 11,740.60 points, with the yen strengthening 0.7% against the dollar to 104.53',\n",
       " \"seen from April 2004 on. The Nikkei 225 index ended the day up 0.7% at 11,740.60 points, with the yen strengthening 0.7% against the dollar to 104.53 yen. Weaker exports, normally the engine for Japan's economy in the face of weak domestic demand, had helped trigger a 0.1% contraction in the final\",\n",
       " \"yen. Weaker exports, normally the engine for Japan's economy in the face of weak domestic demand, had helped trigger a 0.1% contraction in the final three months of last year after two previous quarters of shrinking GDP. Only an exceptionally strong performance in the early months of 2004 kept the\",\n",
       " 'three months of last year after two previous quarters of shrinking GDP. Only an exceptionally strong performance in the early months of 2004 kept the year as a whole from showing a decline. The output figures brought a cautiously optimistic response from economic officials. \"Overall I see a low',\n",
       " 'the year as a whole from showing a decline. The output figures brought a cautiously optimistic response from economic officials. \"Overall I see a low risk of the economy falling into serious recession,\" said Bank of Japan chief Toshihiko Fukui, despite warning that other indicators - such as the',\n",
       " 'risk of the economy falling into serious recession,\" said Bank of Japan chief Toshihiko Fukui, despite warning that other indicators - such as the growth numbers - had been worrying.',\n",
       " 'Within the overall industrial output figure, there were signs of a pullback from the export slowdown. Among the best-performing sectors were key overseas sales areas such as cars, chemicals and electronic goods. With US growth doing better than expected the picture for exports in early 2005 could',\n",
       " 'sales areas such as cars, chemicals and electronic goods. With US growth doing better than expected the picture for exports in early 2005 could also be one of sustained demand. Electronics were also one of the keys to the improved domestic market, with products such as flat-screen TVs in high',\n",
       " 'also be one of sustained demand. Electronics were also one of the keys to the improved domestic market, with products such as flat-screen TVs in high demand during January.',\n",
       " \"Japan's last four year GDP:\\n\\nYear\\tGDP\\n2022\\t$4,256.41B\\n2021\\t$5,034.62B\\n2020\\t$5,055.59B\\n2019\\t$5,117.99B\"]"
      ]
     },
     "execution_count": 47,
     "metadata": {},
     "output_type": "execute_result"
    }
   ],
   "source": [
    "doc_strings"
   ]
  },
  {
   "cell_type": "code",
   "execution_count": 38,
   "metadata": {},
   "outputs": [],
   "source": [
    "\n",
    "from langchain_openai import OpenAIEmbeddings\n",
    "embeddings=OpenAIEmbeddings(model='text-embedding-3-large')"
   ]
  },
  {
   "cell_type": "code",
   "execution_count": 39,
   "metadata": {},
   "outputs": [],
   "source": [
    "db = Chroma.from_documents(new_docs, embeddings)\n",
    "\n",
    "retriever = db.as_retriever(search_kwargs={\"k\": 3})"
   ]
  },
  {
   "cell_type": "code",
   "execution_count": 42,
   "metadata": {},
   "outputs": [],
   "source": [
    "# db = Chroma.from_documents(new_docs, embeddings)\n",
    "\n",
    "# retriever = db.as_retriever(search_kwargs={\"k\": 3})\n",
    "\n",
    "query = \"why Japanese industry is growing faster?\"\n",
    "docs = retriever.get_relevant_documents(query)"
   ]
  },
  {
   "cell_type": "code",
   "execution_count": 43,
   "metadata": {},
   "outputs": [
    {
     "data": {
      "text/plain": [
       "[Document(metadata={'source': '..\\\\data\\\\japan.txt'}, page_content=\"Industrial revival hope for Japan\\n\\nJapanese industry is growing faster than expected, boosting hopes that the country's retreat back into recession is over.\"),\n",
       " Document(metadata={'source': '..\\\\data\\\\japan.txt'}, page_content='Industrial output rose 2.1% - adjusted for the time of year - in January from a month earlier. At the same time, retail sales picked up faster than at any time since 1997. The news sent Tokyo shares to an eight-month high, as investors hoped for a recovery from the three quarters of contraction'),\n",
       " Document(metadata={'source': '..\\\\data\\\\japan.txt'}, page_content=\"yen. Weaker exports, normally the engine for Japan's economy in the face of weak domestic demand, had helped trigger a 0.1% contraction in the final three months of last year after two previous quarters of shrinking GDP. Only an exceptionally strong performance in the early months of 2004 kept the\")]"
      ]
     },
     "execution_count": 43,
     "metadata": {},
     "output_type": "execute_result"
    }
   ],
   "source": [
    "docs"
   ]
  },
  {
   "cell_type": "code",
   "execution_count": 44,
   "metadata": {},
   "outputs": [
    {
     "name": "stdout",
     "output_type": "stream",
     "text": [
      "{'source': '..\\\\data\\\\japan.txt'}\n",
      "Industrial revival hope for Japan\n",
      "\n",
      "Japanese industry is growing faster than expected, boosting hopes that the country's retreat back into recession is over.\n"
     ]
    }
   ],
   "source": [
    "print(docs[0].metadata)\n",
    "print(docs[0].page_content)"
   ]
  },
  {
   "cell_type": "code",
   "execution_count": 45,
   "metadata": {},
   "outputs": [
    {
     "name": "stdout",
     "output_type": "stream",
     "text": [
      "page_content='Industrial revival hope for Japan\n",
      "\n",
      "Japanese industry is growing faster than expected, boosting hopes that the country's retreat back into recession is over.' metadata={'source': '..\\\\data\\\\japan.txt'}\n",
      "page_content='Industrial output rose 2.1% - adjusted for the time of year - in January from a month earlier. At the same time, retail sales picked up faster than at any time since 1997. The news sent Tokyo shares to an eight-month high, as investors hoped for a recovery from the three quarters of contraction' metadata={'source': '..\\\\data\\\\japan.txt'}\n",
      "page_content='yen. Weaker exports, normally the engine for Japan's economy in the face of weak domestic demand, had helped trigger a 0.1% contraction in the final three months of last year after two previous quarters of shrinking GDP. Only an exceptionally strong performance in the early months of 2004 kept the' metadata={'source': '..\\\\data\\\\japan.txt'}\n"
     ]
    }
   ],
   "source": [
    "for doc in docs:\n",
    "    print(doc)"
   ]
  },
  {
   "cell_type": "code",
   "execution_count": 48,
   "metadata": {},
   "outputs": [],
   "source": [
    "AgentState={}"
   ]
  },
  {
   "cell_type": "code",
   "execution_count": 49,
   "metadata": {},
   "outputs": [],
   "source": [
    "AgentState[\"messages\"]=[]"
   ]
  },
  {
   "cell_type": "code",
   "execution_count": 50,
   "metadata": {},
   "outputs": [
    {
     "data": {
      "text/plain": [
       "{'messages': []}"
      ]
     },
     "execution_count": 50,
     "metadata": {},
     "output_type": "execute_result"
    }
   ],
   "source": [
    "#manually i had created \n",
    "AgentState"
   ]
  },
  {
   "cell_type": "code",
   "execution_count": 51,
   "metadata": {},
   "outputs": [],
   "source": [
    "AgentState[\"messages\"].append(\"hi\")"
   ]
  },
  {
   "cell_type": "code",
   "execution_count": 52,
   "metadata": {},
   "outputs": [
    {
     "data": {
      "text/plain": [
       "{'messages': ['hi']}"
      ]
     },
     "execution_count": 52,
     "metadata": {},
     "output_type": "execute_result"
    }
   ],
   "source": [
    "AgentState"
   ]
  },
  {
   "cell_type": "code",
   "execution_count": 53,
   "metadata": {},
   "outputs": [],
   "source": [
    "AgentState[\"messages\"].append(\"how are you?\")"
   ]
  },
  {
   "cell_type": "code",
   "execution_count": 54,
   "metadata": {},
   "outputs": [
    {
     "data": {
      "text/plain": [
       "{'messages': ['hi', 'how are you?']}"
      ]
     },
     "execution_count": 54,
     "metadata": {},
     "output_type": "execute_result"
    }
   ],
   "source": [
    "AgentState"
   ]
  },
  {
   "cell_type": "code",
   "execution_count": 55,
   "metadata": {},
   "outputs": [],
   "source": [
    "AgentState[\"messages\"].append(\"what are you doing?\")"
   ]
  },
  {
   "cell_type": "code",
   "execution_count": 56,
   "metadata": {},
   "outputs": [
    {
     "data": {
      "text/plain": [
       "{'messages': ['hi', 'how are you?', 'what are you doing?']}"
      ]
     },
     "execution_count": 56,
     "metadata": {},
     "output_type": "execute_result"
    }
   ],
   "source": [
    "# We are flowing this state across the different different nodes inside the langgraph workflow\n",
    "AgentState"
   ]
  },
  {
   "cell_type": "code",
   "execution_count": 57,
   "metadata": {},
   "outputs": [
    {
     "data": {
      "text/plain": [
       "'hi'"
      ]
     },
     "execution_count": 57,
     "metadata": {},
     "output_type": "execute_result"
    }
   ],
   "source": [
    "# this is my older message\n",
    "AgentState[\"messages\"][0]"
   ]
  },
  {
   "cell_type": "code",
   "execution_count": 58,
   "metadata": {},
   "outputs": [
    {
     "data": {
      "text/plain": [
       "'what are you doing?'"
      ]
     },
     "execution_count": 58,
     "metadata": {},
     "output_type": "execute_result"
    }
   ],
   "source": [
    "#recent added message or latest message\n",
    "AgentState[\"messages\"][-1]"
   ]
  },
  {
   "cell_type": "code",
   "execution_count": 59,
   "metadata": {},
   "outputs": [],
   "source": [
    "AgentState={'messages': []}"
   ]
  },
  {
   "cell_type": "code",
   "execution_count": 60,
   "metadata": {},
   "outputs": [],
   "source": [
    "def function_1(AgentState):\n",
    "    message=AgentState[\"messages\"]\n",
    "    \n",
    "    question=message[-1]\n",
    "    \n",
    "    complete_prompt=\"Your task is to provide only the brief answer based on the user query. \\\n",
    "        Don't include too much reasoning. Following is the user query: \" + question\n",
    "    \n",
    "    response = openai_model.invoke(complete_prompt)\n",
    "    \n",
    "    AgentState['messages'].append(response.content) # appending LLM call response to the AgentState\n",
    "    \n",
    "    #print(AgentState)\n",
    "    \n",
    "    return AgentState\n",
    "   \n",
    "def function_2(AgentState):\n",
    "    messages = AgentState['messages']\n",
    "    \n",
    "    question = messages[0] ## Fetching the user question\n",
    "    \n",
    "    template = \"\"\"Answer the question based only on the following context:\n",
    "    {context}\n",
    "\n",
    "    Question: {question}\n",
    "    \"\"\"\n",
    "    prompt = ChatPromptTemplate.from_template(template)\n",
    "\n",
    "    retrieval_chain = (\n",
    "        {\"context\": retriever, \"question\": RunnablePassthrough()}\n",
    "        | prompt\n",
    "        | openai_model\n",
    "        | StrOutputParser()\n",
    "        )\n",
    "    result = retrieval_chain.invoke(question)\n",
    "    return result\n",
    "    "
   ]
  },
  {
   "cell_type": "code",
   "execution_count": 61,
   "metadata": {},
   "outputs": [],
   "source": [
    "workflow=Graph()\n",
    "workflow.add_node(\"LLM\", function_1)\n",
    "workflow.add_node(\"RAGtool\", function_2)\n",
    "workflow.add_edge('LLM', 'RAGtool')\n",
    "workflow.set_entry_point(\"LLM\")\n",
    "workflow.set_finish_point(\"RAGtool\")\n",
    "app2 = workflow.compile()\n"
   ]
  },
  {
   "cell_type": "code",
   "execution_count": 62,
   "metadata": {},
   "outputs": [
    {
     "data": {
      "image/png": "[encoded data removed]",
      "text/plain": [
       "<IPython.core.display.Image object>"
      ]
     },
     "metadata": {},
     "output_type": "display_data"
    }
   ],
   "source": [
    "display(Image(app2.get_graph().draw_mermaid_png())) "
   ]
  },
  {
   "cell_type": "code",
   "execution_count": 63,
   "metadata": {},
   "outputs": [
    {
     "data": {
      "text/plain": [
       "'The provided context does not explicitly state why Japan is growing more than other Asian countries. It mentions that Japanese industry is growing faster than expected, which is boosting hopes of economic recovery, but it does not provide a comparative analysis with other Asian countries.'"
      ]
     },
     "execution_count": 63,
     "metadata": {},
     "output_type": "execute_result"
    }
   ],
   "source": [
    "app2.invoke({\"messages\":[\"why japan is growing more than other asian country?\"]})"
   ]
  },
  {
   "cell_type": "code",
   "execution_count": 64,
   "metadata": {},
   "outputs": [
    {
     "name": "stdout",
     "output_type": "stream",
     "text": [
      "here is output from LLM\n",
      "_______\n",
      "{'messages': ['why japan is growing more than other asian country?', \"Japan's growth can be attributed to its advanced technology, strong manufacturing sector, and effective economic policies.\"]}\n",
      "\n",
      "\n",
      "here is output from RAGtool\n",
      "_______\n",
      "The context provided does not specify the reasons why Japan is growing more than other Asian countries. It mentions that Japanese industry is growing faster than expected and that there is hope for an industrial revival, suggesting that recent industrial growth is driving economic improvement. However, without specific comparisons to other Asian countries or detailed factors contributing to Japan's growth relative to others, the context does not directly answer the question of why Japan's growth outpaces other Asian countries.\n",
      "\n",
      "\n"
     ]
    }
   ],
   "source": [
    "for output in app2.stream({\"messages\":[\"why japan is growing more than other asian country?\"]}):\n",
    "    for key,value in output.items():\n",
    "        print(f\"here is output from {key}\")\n",
    "        print(\"_______\")\n",
    "        print(value)\n",
    "        print(\"\\n\")"
   ]
  },
  {
   "cell_type": "code",
   "execution_count": 1,
   "metadata": {},
   "outputs": [
    {
     "name": "stdout",
     "output_type": "stream",
     "text": [
      "all ok\n"
     ]
    }
   ],
   "source": [
    "print(\"all ok\")"
   ]
  },
  {
   "cell_type": "code",
   "execution_count": 65,
   "metadata": {},
   "outputs": [],
   "source": [
    "loader=DirectoryLoader(\"../data\",glob=\"./*.txt\",loader_cls=TextLoader)\n",
    "docs=loader.load()\n",
    "text_splitter=RecursiveCharacterTextSplitter(\n",
    "    chunk_size=100,\n",
    "    chunk_overlap=50\n",
    ")\n",
    "new_docs = text_splitter.split_documents(documents=docs)\n",
    "doc_strings = [doc.page_content for doc in new_docs]"
   ]
  },
  {
   "cell_type": "code",
   "execution_count": 12,
   "metadata": {},
   "outputs": [
    {
     "data": {
      "text/plain": [
       "[Document(metadata={'source': '..\\\\data\\\\japan.txt'}, page_content='Industrial revival hope for Japan'),\n",
       " Document(metadata={'source': '..\\\\data\\\\japan.txt'}, page_content=\"Japanese industry is growing faster than expected, boosting hopes that the country's retreat back\"),\n",
       " Document(metadata={'source': '..\\\\data\\\\japan.txt'}, page_content=\"boosting hopes that the country's retreat back into recession is over.\"),\n",
       " Document(metadata={'source': '..\\\\data\\\\japan.txt'}, page_content='Industrial output rose 2.1% - adjusted for the time of year - in January from a month earlier. At'),\n",
       " Document(metadata={'source': '..\\\\data\\\\japan.txt'}, page_content='of year - in January from a month earlier. At the same time, retail sales picked up faster than at'),\n",
       " Document(metadata={'source': '..\\\\data\\\\japan.txt'}, page_content='same time, retail sales picked up faster than at any time since 1997. The news sent Tokyo shares to'),\n",
       " Document(metadata={'source': '..\\\\data\\\\japan.txt'}, page_content='time since 1997. The news sent Tokyo shares to an eight-month high, as investors hoped for a'),\n",
       " Document(metadata={'source': '..\\\\data\\\\japan.txt'}, page_content='to an eight-month high, as investors hoped for a recovery from the three quarters of contraction'),\n",
       " Document(metadata={'source': '..\\\\data\\\\japan.txt'}, page_content='a recovery from the three quarters of contraction seen from April 2004 on. The Nikkei 225 index'),\n",
       " Document(metadata={'source': '..\\\\data\\\\japan.txt'}, page_content='seen from April 2004 on. The Nikkei 225 index ended the day up 0.7% at 11,740.60 points, with the'),\n",
       " Document(metadata={'source': '..\\\\data\\\\japan.txt'}, page_content='the day up 0.7% at 11,740.60 points, with the yen strengthening 0.7% against the dollar to 104.53'),\n",
       " Document(metadata={'source': '..\\\\data\\\\japan.txt'}, page_content='strengthening 0.7% against the dollar to 104.53 yen. Weaker exports, normally the engine for'),\n",
       " Document(metadata={'source': '..\\\\data\\\\japan.txt'}, page_content=\"yen. Weaker exports, normally the engine for Japan's economy in the face of weak domestic demand,\"),\n",
       " Document(metadata={'source': '..\\\\data\\\\japan.txt'}, page_content='economy in the face of weak domestic demand, had helped trigger a 0.1% contraction in the final'),\n",
       " Document(metadata={'source': '..\\\\data\\\\japan.txt'}, page_content='helped trigger a 0.1% contraction in the final three months of last year after two previous'),\n",
       " Document(metadata={'source': '..\\\\data\\\\japan.txt'}, page_content='three months of last year after two previous quarters of shrinking GDP. Only an exceptionally'),\n",
       " Document(metadata={'source': '..\\\\data\\\\japan.txt'}, page_content='quarters of shrinking GDP. Only an exceptionally strong performance in the early months of 2004'),\n",
       " Document(metadata={'source': '..\\\\data\\\\japan.txt'}, page_content='strong performance in the early months of 2004 kept the year as a whole from showing a decline. The'),\n",
       " Document(metadata={'source': '..\\\\data\\\\japan.txt'}, page_content='the year as a whole from showing a decline. The output figures brought a cautiously optimistic'),\n",
       " Document(metadata={'source': '..\\\\data\\\\japan.txt'}, page_content='output figures brought a cautiously optimistic response from economic officials. \"Overall I see a'),\n",
       " Document(metadata={'source': '..\\\\data\\\\japan.txt'}, page_content='from economic officials. \"Overall I see a low risk of the economy falling into serious recession,\"'),\n",
       " Document(metadata={'source': '..\\\\data\\\\japan.txt'}, page_content='of the economy falling into serious recession,\" said Bank of Japan chief Toshihiko Fukui, despite'),\n",
       " Document(metadata={'source': '..\\\\data\\\\japan.txt'}, page_content='said Bank of Japan chief Toshihiko Fukui, despite warning that other indicators - such as the'),\n",
       " Document(metadata={'source': '..\\\\data\\\\japan.txt'}, page_content='warning that other indicators - such as the growth numbers - had been worrying.'),\n",
       " Document(metadata={'source': '..\\\\data\\\\japan.txt'}, page_content='Within the overall industrial output figure, there were signs of a pullback from the export'),\n",
       " Document(metadata={'source': '..\\\\data\\\\japan.txt'}, page_content='there were signs of a pullback from the export slowdown. Among the best-performing sectors were key'),\n",
       " Document(metadata={'source': '..\\\\data\\\\japan.txt'}, page_content='Among the best-performing sectors were key overseas sales areas such as cars, chemicals and'),\n",
       " Document(metadata={'source': '..\\\\data\\\\japan.txt'}, page_content='overseas sales areas such as cars, chemicals and electronic goods. With US growth doing better than'),\n",
       " Document(metadata={'source': '..\\\\data\\\\japan.txt'}, page_content='goods. With US growth doing better than expected the picture for exports in early 2005 could also'),\n",
       " Document(metadata={'source': '..\\\\data\\\\japan.txt'}, page_content='the picture for exports in early 2005 could also be one of sustained demand. Electronics were also'),\n",
       " Document(metadata={'source': '..\\\\data\\\\japan.txt'}, page_content='be one of sustained demand. Electronics were also one of the keys to the improved domestic market,'),\n",
       " Document(metadata={'source': '..\\\\data\\\\japan.txt'}, page_content='one of the keys to the improved domestic market, with products such as flat-screen TVs in high'),\n",
       " Document(metadata={'source': '..\\\\data\\\\japan.txt'}, page_content='with products such as flat-screen TVs in high demand during January.'),\n",
       " Document(metadata={'source': '..\\\\data\\\\japan.txt'}, page_content=\"Japan's last four year GDP:\"),\n",
       " Document(metadata={'source': '..\\\\data\\\\japan.txt'}, page_content='Year\\tGDP\\n2022\\t$4,256.41B\\n2021\\t$5,034.62B\\n2020\\t$5,055.59B\\n2019\\t$5,117.99B')]"
      ]
     },
     "execution_count": 12,
     "metadata": {},
     "output_type": "execute_result"
    }
   ],
   "source": [
    "new_docs"
   ]
  },
  {
   "cell_type": "code",
   "execution_count": 66,
   "metadata": {},
   "outputs": [
    {
     "data": {
      "text/plain": [
       "['Industrial revival hope for Japan',\n",
       " \"Japanese industry is growing faster than expected, boosting hopes that the country's retreat back\",\n",
       " \"boosting hopes that the country's retreat back into recession is over.\",\n",
       " 'Industrial output rose 2.1% - adjusted for the time of year - in January from a month earlier. At',\n",
       " 'of year - in January from a month earlier. At the same time, retail sales picked up faster than at',\n",
       " 'same time, retail sales picked up faster than at any time since 1997. The news sent Tokyo shares to',\n",
       " 'time since 1997. The news sent Tokyo shares to an eight-month high, as investors hoped for a',\n",
       " 'to an eight-month high, as investors hoped for a recovery from the three quarters of contraction',\n",
       " 'a recovery from the three quarters of contraction seen from April 2004 on. The Nikkei 225 index',\n",
       " 'seen from April 2004 on. The Nikkei 225 index ended the day up 0.7% at 11,740.60 points, with the',\n",
       " 'the day up 0.7% at 11,740.60 points, with the yen strengthening 0.7% against the dollar to 104.53',\n",
       " 'strengthening 0.7% against the dollar to 104.53 yen. Weaker exports, normally the engine for',\n",
       " \"yen. Weaker exports, normally the engine for Japan's economy in the face of weak domestic demand,\",\n",
       " 'economy in the face of weak domestic demand, had helped trigger a 0.1% contraction in the final',\n",
       " 'helped trigger a 0.1% contraction in the final three months of last year after two previous',\n",
       " 'three months of last year after two previous quarters of shrinking GDP. Only an exceptionally',\n",
       " 'quarters of shrinking GDP. Only an exceptionally strong performance in the early months of 2004',\n",
       " 'strong performance in the early months of 2004 kept the year as a whole from showing a decline. The',\n",
       " 'the year as a whole from showing a decline. The output figures brought a cautiously optimistic',\n",
       " 'output figures brought a cautiously optimistic response from economic officials. \"Overall I see a',\n",
       " 'from economic officials. \"Overall I see a low risk of the economy falling into serious recession,\"',\n",
       " 'of the economy falling into serious recession,\" said Bank of Japan chief Toshihiko Fukui, despite',\n",
       " 'said Bank of Japan chief Toshihiko Fukui, despite warning that other indicators - such as the',\n",
       " 'warning that other indicators - such as the growth numbers - had been worrying.',\n",
       " 'Within the overall industrial output figure, there were signs of a pullback from the export',\n",
       " 'there were signs of a pullback from the export slowdown. Among the best-performing sectors were key',\n",
       " 'Among the best-performing sectors were key overseas sales areas such as cars, chemicals and',\n",
       " 'overseas sales areas such as cars, chemicals and electronic goods. With US growth doing better than',\n",
       " 'goods. With US growth doing better than expected the picture for exports in early 2005 could also',\n",
       " 'the picture for exports in early 2005 could also be one of sustained demand. Electronics were also',\n",
       " 'be one of sustained demand. Electronics were also one of the keys to the improved domestic market,',\n",
       " 'one of the keys to the improved domestic market, with products such as flat-screen TVs in high',\n",
       " 'with products such as flat-screen TVs in high demand during January.',\n",
       " \"Japan's last four year GDP:\",\n",
       " 'Year\\tGDP\\n2022\\t$4,256.41B\\n2021\\t$5,034.62B\\n2020\\t$5,055.59B\\n2019\\t$5,117.99B']"
      ]
     },
     "execution_count": 66,
     "metadata": {},
     "output_type": "execute_result"
    }
   ],
   "source": [
    "doc_strings"
   ]
  },
  {
   "cell_type": "code",
   "execution_count": 67,
   "metadata": {},
   "outputs": [],
   "source": [
    "db = Chroma.from_documents(new_docs, embeddings)\n",
    "\n",
    "retriever = db.as_retriever(search_kwargs={\"k\": 3})"
   ]
  },
  {
   "cell_type": "code",
   "execution_count": 68,
   "metadata": {},
   "outputs": [
    {
     "name": "stdout",
     "output_type": "stream",
     "text": [
      "{'source': '..\\\\data\\\\japan.txt'}\n",
      "Industrial revival hope for Japan\n",
      "\n",
      "Japanese industry is growing faster than expected, boosting hopes that the country's retreat back into recession is over.\n"
     ]
    }
   ],
   "source": [
    "query = \"Tell me about India's Industrial Growth?\"\n",
    "docs = retriever.get_relevant_documents(query)\n",
    "print(docs[0].metadata)\n",
    "print(docs[0].page_content)"
   ]
  },
  {
   "cell_type": "code",
   "execution_count": 69,
   "metadata": {},
   "outputs": [
    {
     "data": {
      "text/plain": [
       "[Document(metadata={'source': '..\\\\data\\\\japan.txt'}, page_content=\"Industrial revival hope for Japan\\n\\nJapanese industry is growing faster than expected, boosting hopes that the country's retreat back into recession is over.\"),\n",
       " Document(metadata={'source': '..\\\\data\\\\japan.txt'}, page_content='Within the overall industrial output figure, there were signs of a pullback from the export slowdown. Among the best-performing sectors were key overseas sales areas such as cars, chemicals and electronic goods. With US growth doing better than expected the picture for exports in early 2005 could'),\n",
       " Document(metadata={'source': '..\\\\data\\\\japan.txt'}, page_content='Industrial revival hope for Japan')]"
      ]
     },
     "execution_count": 69,
     "metadata": {},
     "output_type": "execute_result"
    }
   ],
   "source": [
    "docs"
   ]
  },
  {
   "cell_type": "code",
   "execution_count": 70,
   "metadata": {},
   "outputs": [],
   "source": [
    "from typing import TypedDict, Annotated,Sequence"
   ]
  },
  {
   "cell_type": "code",
   "execution_count": 71,
   "metadata": {},
   "outputs": [],
   "source": [
    "import operator"
   ]
  },
  {
   "cell_type": "code",
   "execution_count": 72,
   "metadata": {},
   "outputs": [],
   "source": [
    "from langchain_core.messages import BaseMessage"
   ]
  },
  {
   "cell_type": "code",
   "execution_count": 73,
   "metadata": {},
   "outputs": [],
   "source": [
    "from langchain.prompts import PromptTemplate"
   ]
  },
  {
   "cell_type": "code",
   "execution_count": 80,
   "metadata": {},
   "outputs": [],
   "source": [
    "#AgentState"
   ]
  },
  {
   "cell_type": "code",
   "execution_count": 75,
   "metadata": {},
   "outputs": [],
   "source": [
    "state={\"messages\":[\"hi\",\"how are you?\",\"what is a japan GDP?\",\"which is good model in llm world?\"]}"
   ]
  },
  {
   "cell_type": "code",
   "execution_count": 76,
   "metadata": {},
   "outputs": [
    {
     "data": {
      "text/plain": [
       "'which is good model in llm world?'"
      ]
     },
     "execution_count": 76,
     "metadata": {},
     "output_type": "execute_result"
    }
   ],
   "source": [
    "#last message inside the message list\n",
    "state[\"messages\"][-1]"
   ]
  },
  {
   "cell_type": "code",
   "execution_count": 77,
   "metadata": {},
   "outputs": [
    {
     "data": {
      "text/plain": [
       "'hi'"
      ]
     },
     "execution_count": 77,
     "metadata": {},
     "output_type": "execute_result"
    }
   ],
   "source": [
    "#first message from the message list\n",
    "state[\"messages\"][0]"
   ]
  },
  {
   "cell_type": "code",
   "execution_count": 81,
   "metadata": {},
   "outputs": [],
   "source": [
    "class AgentState(TypedDict):\n",
    "    messages:Annotated[Sequence[BaseMessage],operator.add]"
   ]
  },
  {
   "cell_type": "code",
   "execution_count": 82,
   "metadata": {},
   "outputs": [],
   "source": [
    "from langchain_core.messages import HumanMessage"
   ]
  },
  {
   "cell_type": "code",
   "execution_count": 34,
   "metadata": {},
   "outputs": [],
   "source": [
    "state=AgentState(messages=[HumanMessage(content=\"hi there\")])"
   ]
  },
  {
   "cell_type": "code",
   "execution_count": 35,
   "metadata": {},
   "outputs": [
    {
     "data": {
      "text/plain": [
       "{'messages': [HumanMessage(content='hi there', additional_kwargs={}, response_metadata={})]}"
      ]
     },
     "execution_count": 35,
     "metadata": {},
     "output_type": "execute_result"
    }
   ],
   "source": [
    "state"
   ]
  },
  {
   "cell_type": "code",
   "execution_count": 85,
   "metadata": {},
   "outputs": [],
   "source": [
    "state=AgentState(messages=[\"sunny sunny sunny\"])"
   ]
  },
  {
   "cell_type": "code",
   "execution_count": 86,
   "metadata": {},
   "outputs": [
    {
     "data": {
      "text/plain": [
       "{'messages': ['sunny sunny sunny']}"
      ]
     },
     "execution_count": 86,
     "metadata": {},
     "output_type": "execute_result"
    }
   ],
   "source": [
    "state"
   ]
  },
  {
   "cell_type": "code",
   "execution_count": 88,
   "metadata": {},
   "outputs": [],
   "source": [
    "from pydantic import BaseModel, Field"
   ]
  },
  {
   "cell_type": "code",
   "execution_count": 89,
   "metadata": {},
   "outputs": [],
   "source": [
    "class TopicSelectionParser(BaseModel):\n",
    "    Topic:str=Field(description=\"selected topic\")\n",
    "    Reasoning:str=Field(description=\"reasoning behind the topic\")"
   ]
  },
  {
   "cell_type": "code",
   "execution_count": 90,
   "metadata": {},
   "outputs": [],
   "source": [
    "pydantic_obj=TopicSelectionParser(Topic=\"india\", Reasoning=\"india is growing country?\")"
   ]
  },
  {
   "cell_type": "code",
   "execution_count": 91,
   "metadata": {},
   "outputs": [
    {
     "data": {
      "text/plain": [
       "'india'"
      ]
     },
     "execution_count": 91,
     "metadata": {},
     "output_type": "execute_result"
    }
   ],
   "source": [
    "pydantic_obj.Topic"
   ]
  },
  {
   "cell_type": "code",
   "execution_count": 92,
   "metadata": {},
   "outputs": [
    {
     "data": {
      "text/plain": [
       "'india is growing country?'"
      ]
     },
     "execution_count": 92,
     "metadata": {},
     "output_type": "execute_result"
    }
   ],
   "source": [
    "pydantic_obj.Reasoning"
   ]
  },
  {
   "cell_type": "code",
   "execution_count": 100,
   "metadata": {},
   "outputs": [],
   "source": [
    "from langchain.output_parsers import PydanticOutputParser"
   ]
  },
  {
   "cell_type": "code",
   "execution_count": 101,
   "metadata": {},
   "outputs": [],
   "source": [
    "parser=PydanticOutputParser(pydantic_object=TopicSelectionParser)"
   ]
  },
  {
   "cell_type": "code",
   "execution_count": 102,
   "metadata": {},
   "outputs": [
    {
     "name": "stdout",
     "output_type": "stream",
     "text": [
      "The output should be formatted as a JSON instance that conforms to the JSON schema below.\n",
      "\n",
      "As an example, for the schema {\"properties\": {\"foo\": {\"title\": \"Foo\", \"description\": \"a list of strings\", \"type\": \"array\", \"items\": {\"type\": \"string\"}}}, \"required\": [\"foo\"]}\n",
      "the object {\"foo\": [\"bar\", \"baz\"]} is a well-formatted instance of the schema. The object {\"properties\": {\"foo\": [\"bar\", \"baz\"]}} is not well-formatted.\n",
      "\n",
      "Here is the output schema:\n",
      "```\n",
      "{\"properties\": {\"Topic\": {\"description\": \"selected topic\", \"title\": \"Topic\", \"type\": \"string\"}, \"Reasoning\": {\"description\": \"reasoning behind the topic\", \"title\": \"Reasoning\", \"type\": \"string\"}}, \"required\": [\"Topic\", \"Reasoning\"]}\n",
      "```\n"
     ]
    }
   ],
   "source": [
    "print(parser.get_format_instructions())"
   ]
  },
  {
   "cell_type": "code",
   "execution_count": 95,
   "metadata": {},
   "outputs": [],
   "source": [
    "def function_1(state:AgentState):\n",
    "    \n",
    "    message=state[\"messages\"]\n",
    "    \n",
    "    question=message[-1] \n",
    "    \n",
    "    print(\"***********here is my question********\")\n",
    "    print(question)\n",
    "    \n",
    "    template=\"\"\"\n",
    "    Your task is to classify the given user query into one of the following categories: [Japan, Not Related]. \n",
    "    Only respond with the category name and nothing else.\n",
    "\n",
    "    User query: {question}\n",
    "    \n",
    "    {format_instructions}\n",
    "    \"\"\"\n",
    "    \n",
    "    prompt = PromptTemplate(template=template,\n",
    "                            input_variables=[question],\n",
    "                            partial_variables={\"format_instructions\" : parser.get_format_instructions()}\n",
    "                            )\n",
    "    \n",
    "    chain =prompt | openai_model | parser\n",
    "    \n",
    "    response = chain.invoke({\"question\":question,\"format_instructions\" : parser.get_format_instructions() })\n",
    "    \n",
    "    print(\"***********my response********\")\n",
    "    print(response)\n",
    "    \n",
    "    return {\"messages\":[response.Topic]}"
   ]
  },
  {
   "cell_type": "code",
   "execution_count": 96,
   "metadata": {},
   "outputs": [],
   "source": [
    "state={\"messages\":[\"tell me about the japan's industrial growth?\"]}"
   ]
  },
  {
   "cell_type": "code",
   "execution_count": 97,
   "metadata": {},
   "outputs": [],
   "source": [
    "state={\"messages\":[\"hi how are you?\"]}"
   ]
  },
  {
   "cell_type": "code",
   "execution_count": 98,
   "metadata": {},
   "outputs": [
    {
     "data": {
      "text/plain": [
       "{'messages': ['hi how are you?']}"
      ]
     },
     "execution_count": 98,
     "metadata": {},
     "output_type": "execute_result"
    }
   ],
   "source": [
    "state"
   ]
  },
  {
   "cell_type": "code",
   "execution_count": 103,
   "metadata": {},
   "outputs": [
    {
     "name": "stdout",
     "output_type": "stream",
     "text": [
      "***********here is my question********\n",
      "hi how are you?\n",
      "***********my response********\n",
      "Topic='Not Related' Reasoning=\"The query 'hi how are you?' does not reference or relate to Japan in any way.\"\n"
     ]
    },
    {
     "data": {
      "text/plain": [
       "{'messages': ['Not Related']}"
      ]
     },
     "execution_count": 103,
     "metadata": {},
     "output_type": "execute_result"
    }
   ],
   "source": [
    "function_1(state)"
   ]
  },
  {
   "cell_type": "code",
   "execution_count": 104,
   "metadata": {},
   "outputs": [],
   "source": [
    "def router(state:AgentState):\n",
    "    print(\"***********entering into router********\")\n",
    "    print(\"*********my state from router********\")\n",
    "    print(state)\n",
    "    \n",
    "    message=state[\"messages\"]\n",
    "    \n",
    "    last_message=message[-1]\n",
    "    \n",
    "    print(\"***********last message********\")    \n",
    "    print(last_message)\n",
    "    \n",
    "    if \"Japan\" in last_message:\n",
    "        return \"RAG Call\"\n",
    "    else:\n",
    "        return \"Simple LLM Call\""
   ]
  },
  {
   "cell_type": "code",
   "execution_count": 105,
   "metadata": {},
   "outputs": [],
   "source": [
    "def function_2(state:AgentState):\n",
    "    print(\"*********my state from function_2(rag)********\")\n",
    "    print(state)\n",
    "    \n",
    "    \n",
    "    print('-> Calling RAG ->')\n",
    "    \n",
    "    messages = state['messages']\n",
    "    \n",
    "    question = messages[0] ## Fetching the user question\n",
    "    \n",
    "    print(question)\n",
    "\n",
    "    template = \"\"\"Answer the question based only on the following context:\n",
    "    {context}\n",
    "\n",
    "    Question: {question}\n",
    "    \"\"\"\n",
    "    prompt = ChatPromptTemplate.from_template(template)\n",
    "    \n",
    "    print(prompt)\n",
    "\n",
    "    retrieval_chain = (\n",
    "        {\"context\": retriever, \"question\": RunnablePassthrough()}\n",
    "        | prompt\n",
    "        | openai_model\n",
    "        | StrOutputParser()\n",
    "        )\n",
    "    result = retrieval_chain.invoke(question)\n",
    "    response={\"messages\": [result]}\n",
    "    print(\"*********my state from function_2(rag)********\")\n",
    "    print(state)\n",
    "    return response\n",
    "    "
   ]
  },
  {
   "cell_type": "code",
   "execution_count": 106,
   "metadata": {},
   "outputs": [],
   "source": [
    "def function_3(state:AgentState):\n",
    "    print('-> Calling LLM ->')\n",
    "\n",
    "    messages = state['messages']\n",
    "    \n",
    "    question = messages[0] ## Fetching the user question\n",
    "\n",
    "    # Normal LLM call\n",
    "    complete_query = \"Anwer the follow question with your knowledge of the real world. Following is the user question: \" + question\n",
    "    response = openai_model.invoke(complete_query)\n",
    "    response={\"messages\": [response.content]}\n",
    "    print(\"*********my state from function_3(LLM)********\")\n",
    "    print(state)\n",
    "    return response"
   ]
  },
  {
   "cell_type": "code",
   "execution_count": 108,
   "metadata": {},
   "outputs": [],
   "source": [
    "from langgraph.graph import StateGraph, END"
   ]
  },
  {
   "cell_type": "code",
   "execution_count": 109,
   "metadata": {},
   "outputs": [],
   "source": [
    "workflow=StateGraph(AgentState)"
   ]
  },
  {
   "cell_type": "code",
   "execution_count": 110,
   "metadata": {},
   "outputs": [
    {
     "data": {
      "text/plain": [
       "<langgraph.graph.state.StateGraph at 0x13c5bc506d0>"
      ]
     },
     "execution_count": 110,
     "metadata": {},
     "output_type": "execute_result"
    }
   ],
   "source": [
    "workflow.add_node(\"supervisor\",function_1)"
   ]
  },
  {
   "cell_type": "code",
   "execution_count": 111,
   "metadata": {},
   "outputs": [
    {
     "data": {
      "text/plain": [
       "<langgraph.graph.state.StateGraph at 0x13c5bc506d0>"
      ]
     },
     "execution_count": 111,
     "metadata": {},
     "output_type": "execute_result"
    }
   ],
   "source": [
    "workflow.add_node(\"RAG\",function_2)"
   ]
  },
  {
   "cell_type": "code",
   "execution_count": 112,
   "metadata": {},
   "outputs": [
    {
     "data": {
      "text/plain": [
       "<langgraph.graph.state.StateGraph at 0x13c5bc506d0>"
      ]
     },
     "execution_count": 112,
     "metadata": {},
     "output_type": "execute_result"
    }
   ],
   "source": [
    "workflow.add_node(\"LLM\",function_3)"
   ]
  },
  {
   "cell_type": "code",
   "execution_count": 113,
   "metadata": {},
   "outputs": [
    {
     "data": {
      "text/plain": [
       "<langgraph.graph.state.StateGraph at 0x13c5bc506d0>"
      ]
     },
     "execution_count": 113,
     "metadata": {},
     "output_type": "execute_result"
    }
   ],
   "source": [
    "workflow.set_entry_point(\"supervisor\")"
   ]
  },
  {
   "cell_type": "code",
   "execution_count": 114,
   "metadata": {},
   "outputs": [
    {
     "data": {
      "text/plain": [
       "<langgraph.graph.state.StateGraph at 0x13c5bc506d0>"
      ]
     },
     "execution_count": 114,
     "metadata": {},
     "output_type": "execute_result"
    }
   ],
   "source": [
    "workflow.add_conditional_edges(\n",
    "    \"supervisor\",\n",
    "    router,\n",
    "    {\n",
    "        \"RAG Call\": \"RAG\",\n",
    "        \"Simple LLM Call\": \"LLM\"\n",
    "    },\n",
    "    \n",
    ")"
   ]
  },
  {
   "cell_type": "code",
   "execution_count": 115,
   "metadata": {},
   "outputs": [],
   "source": [
    "workflow.add_edge(\"RAG\",END)\n",
    "\n",
    "\n",
    "workflow.add_edge(\"LLM\",END)\n",
    "\n",
    "\n",
    "app=workflow.compile()"
   ]
  },
  {
   "cell_type": "code",
   "execution_count": 116,
   "metadata": {},
   "outputs": [
    {
     "data": {
      "image/png": "[encoded data removed]",
      "text/plain": [
       "<IPython.core.display.Image object>"
      ]
     },
     "metadata": {},
     "output_type": "display_data"
    }
   ],
   "source": [
    "display(Image(app.get_graph().draw_mermaid_png()))"
   ]
  },
  {
   "cell_type": "code",
   "execution_count": null,
   "metadata": {},
   "outputs": [
    {
     "name": "stdout",
     "output_type": "stream",
     "text": [
      "***********here is my question********\n",
      "can you tell me about the japan industrial growth with GDP?\n",
      "***********my response********\n",
      "Topic='Japan' Reasoning=\"The query specifically asks about Japan's industrial growth and GDP, which is directly related to the topic of Japan.\"\n",
      "***********entering into router********\n",
      "*********my state from router********\n",
      "{'messages': ['can you tell me about the japan industrial growth with GDP?', 'Japan']}\n",
      "***********last message********\n",
      "Japan\n",
      "*********my state from function_2(rag)********\n",
      "{'messages': ['can you tell me about the japan industrial growth with GDP?', 'Japan']}\n",
      "-> Calling RAG ->\n",
      "can you tell me about the japan industrial growth with GDP?\n",
      "input_variables=['context', 'question'] input_types={} partial_variables={} messages=[HumanMessagePromptTemplate(prompt=PromptTemplate(input_variables=['context', 'question'], input_types={}, partial_variables={}, template='Answer the question based only on the following context:\\n    {context}\\n\\n    Question: {question}\\n    '), additional_kwargs={})]\n",
      "*********my state from function_2(rag)********\n",
      "{'messages': ['can you tell me about the japan industrial growth with GDP?', 'Japan']}\n"
     ]
    },
    {
     "ename": "",
     "evalue": "",
     "output_type": "error",
     "traceback": [
      "\u001b[1;31mThe Kernel crashed while executing code in the current cell or a previous cell. \n",
      "\u001b[1;31mPlease review the code in the cell(s) to identify a possible cause of the failure. \n",
      "\u001b[1;31mClick <a href='https://aka.ms/vscodeJupyterKernelCrash'>here</a> for more info. \n",
      "\u001b[1;31mView Jupyter <a href='command:jupyter.viewOutput'>log</a> for further details."
     ]
    }
   ],
   "source": [
    "response=app.invoke({\"messages\":[\"can you tell me about the japan industrial growth with GDP?\"]})"
   ]
  },
  {
   "cell_type": "code",
   "execution_count": 163,
   "metadata": {},
   "outputs": [
    {
     "data": {
      "text/plain": [
       "{'messages': ['can you tell me about the japan industrial growth with GDP?',\n",
       "  'Japan',\n",
       "  'Japan experienced three quarters of contraction starting from April 2004, followed by a recovery.  There is also mention of \"industrial revival hope\".  However, no specific GDP figures or their relationship to industrial growth are provided.']}"
      ]
     },
     "execution_count": 163,
     "metadata": {},
     "output_type": "execute_result"
    }
   ],
   "source": [
    "response"
   ]
  },
  {
   "cell_type": "code",
   "execution_count": 111,
   "metadata": {},
   "outputs": [
    {
     "data": {
      "text/plain": [
       "\"Japan experienced three quarters of contraction starting from April 2004, followed by a recovery. There are hopes for an industrial revival.  The provided context doesn't give specific GDP numbers or link the recovery directly to industrial growth.\""
      ]
     },
     "execution_count": 111,
     "metadata": {},
     "output_type": "execute_result"
    }
   ],
   "source": [
    "response[\"messages\"][-1]"
   ]
  },
  {
   "cell_type": "code",
   "execution_count": 125,
   "metadata": {},
   "outputs": [
    {
     "name": "stdout",
     "output_type": "stream",
     "text": [
      "***********my question********\n",
      "hi how are you?\n",
      "***********my response********\n",
      "Topic='Not Related' Reasoning='The query is a general greeting and does not mention Japan or any related topics.'\n",
      "***********my router********\n",
      "***********last message********\n",
      "Not Related\n",
      "-> Calling LLM ->\n"
     ]
    }
   ],
   "source": [
    "response=app.invoke({\"messages\":[\"hi how are you?\"]})"
   ]
  },
  {
   "cell_type": "code",
   "execution_count": 126,
   "metadata": {},
   "outputs": [
    {
     "data": {
      "text/plain": [
       "\"I'm doing well, thank you for asking! How are you?\""
      ]
     },
     "execution_count": 126,
     "metadata": {},
     "output_type": "execute_result"
    }
   ],
   "source": [
    "response[\"messages\"][-1]"
   ]
  },
  {
   "cell_type": "code",
   "execution_count": 127,
   "metadata": {},
   "outputs": [
    {
     "name": "stdout",
     "output_type": "stream",
     "text": [
      "***********my question********\n",
      "what is a age of donald trump?\n",
      "***********my response********\n",
      "Topic='Not Related' Reasoning=\"The query asks about Donald Trump's age, which has no relation to Japan.\"\n",
      "***********my router********\n",
      "***********last message********\n",
      "Not Related\n",
      "here is output from supervisor\n",
      "_______\n",
      "{'messages': ['Not Related']}\n",
      "\n",
      "\n",
      "-> Calling LLM ->\n",
      "here is output from LLM\n",
      "_______\n",
      "{'messages': ['Donald Trump was born on June 14, 1946.  Therefore, as of October 26, 2023, he is 77 years old.']}\n",
      "\n",
      "\n"
     ]
    }
   ],
   "source": [
    "for output in app.stream({\"messages\":[\"what is a age of donald trump?\"]}):\n",
    "    for key,value in output.items():\n",
    "        print(f\"here is output from {key}\")\n",
    "        print(\"_______\")\n",
    "        print(value)\n",
    "        print(\"\\n\")"
   ]
  },
  {
   "cell_type": "code",
   "execution_count": null,
   "metadata": {},
   "outputs": [],
   "source": [
    "very useful method for routing in multiagent system\n",
    "command()"
   ]
  }
 ],
 "metadata": {
  "kernelspec": {
   "display_name": "Python 3",
   "language": "python",
   "name": "python3"
  },
  "language_info": {
   "codemirror_mode": {
    "name": "ipython",
    "version": 3
   },
   "file_extension": ".py",
   "mimetype": "text/x-python",
   "name": "python",
   "nbconvert_exporter": "python",
   "pygments_lexer": "ipython3",
   "version": "3.10.16"
  }
 },
 "nbformat": 4,
 "nbformat_minor": 2
}
